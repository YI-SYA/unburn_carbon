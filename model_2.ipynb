{
 "cells": [
  {
   "cell_type": "markdown",
   "id": "c054972c-6d55-4dbf-9b82-abb75404ec63",
   "metadata": {
    "id": "0pbG3zwtbPpv"
   },
   "source": [
    "<center><a href=\"https://ibb.co/cJD6pSW\"><img src=\"https://i.ibb.co/y0W6Mcz/cover-depan.jpg\" alt=\"cover-depan\" border=\"0\"></a>"
   ]
  },
  {
   "cell_type": "markdown",
   "id": "25c65e74-0c56-499e-bad6-8fccaf80a06b",
   "metadata": {
    "id": "IKFeDjB4bPpw"
   },
   "source": [
    "# Modul 18 - Regresi Dengan Pipeline dan Cross Validation\n",
    "Mentor: Mega Bagus Herlambang, PhD"
   ]
  },
  {
   "cell_type": "markdown",
   "id": "e537fcb5-ff04-4d2a-b969-74d32941a098",
   "metadata": {},
   "source": [
    "<hr>"
   ]
  },
  {
   "cell_type": "markdown",
   "id": "0e38fe4e-aafd-446f-9798-f720e0d13206",
   "metadata": {
    "id": "caf5SsAvbPpx"
   },
   "source": [
    "Kita akan melanjutkan pembelajaran terkait model regresi, di mana kita ingin memprediksi variabel dependen/target dengan tipe numerik.\n",
    "\n",
    "Kita akan menggabungkan semua proses *multiple regression* di pembahasan sebelumnya dengan menggunakan Pipeline."
   ]
  },
  {
   "cell_type": "markdown",
   "id": "389f4a42-8aba-4e07-8f8b-457ec0a51b66",
   "metadata": {},
   "source": [
    "<br>"
   ]
  },
  {
   "cell_type": "code",
   "execution_count": 91,
   "id": "e621c157",
   "metadata": {},
   "outputs": [
    {
     "name": "stdout",
     "output_type": "stream",
     "text": [
      "matplotlib: 1.24.1\n"
     ]
    }
   ],
   "source": [
    "import streamlit\n",
    "print('matplotlib: {}'.format(streamlit.__version__))"
   ]
  },
  {
   "cell_type": "markdown",
   "id": "69f48973-d066-46a4-bc30-dbe19cbd564a",
   "metadata": {},
   "source": [
    "### Menggabungkan Semua Dengan Pipeline"
   ]
  },
  {
   "cell_type": "code",
   "execution_count": 92,
   "id": "c33cba74-0570-41c2-8fed-63c02b70fb3e",
   "metadata": {},
   "outputs": [],
   "source": [
    "# Menyiapkan library\n",
    "import seaborn as sns\n",
    "sns.set()\n",
    "import numpy as np\n",
    "import pandas as pd\n",
    "import matplotlib.pyplot as plt\n",
    "from sklearn.compose import ColumnTransformer\n",
    "from sklearn.pipeline import Pipeline\n",
    "from sklearn.impute import SimpleImputer\n",
    "from sklearn.preprocessing import MinMaxScaler, OneHotEncoder\n",
    "from sklearn.linear_model import Lasso\n",
    "from sklearn.model_selection import train_test_split, cross_val_score, GridSearchCV"
   ]
  },
  {
   "cell_type": "code",
   "execution_count": 93,
   "id": "94633753-5f3f-4f52-9fc5-b86caac78d83",
   "metadata": {},
   "outputs": [
    {
     "data": {
      "text/html": [
       "<div>\n",
       "<style scoped>\n",
       "    .dataframe tbody tr th:only-of-type {\n",
       "        vertical-align: middle;\n",
       "    }\n",
       "\n",
       "    .dataframe tbody tr th {\n",
       "        vertical-align: top;\n",
       "    }\n",
       "\n",
       "    .dataframe thead th {\n",
       "        text-align: right;\n",
       "    }\n",
       "</style>\n",
       "<table border=\"1\" class=\"dataframe\">\n",
       "  <thead>\n",
       "    <tr style=\"text-align: right;\">\n",
       "      <th></th>\n",
       "      <th>time</th>\n",
       "      <th>unburn_carbon</th>\n",
       "      <th>nilai_kalor</th>\n",
       "      <th>co</th>\n",
       "      <th>co2</th>\n",
       "      <th>out_generator</th>\n",
       "      <th>sfc</th>\n",
       "      <th>eco_gas_out_temp</th>\n",
       "      <th>pa_flow</th>\n",
       "      <th>o2</th>\n",
       "      <th>...</th>\n",
       "      <th>sa_flow</th>\n",
       "      <th>carbon</th>\n",
       "      <th>hydrogen</th>\n",
       "      <th>nitrogen</th>\n",
       "      <th>sulfur</th>\n",
       "      <th>ash</th>\n",
       "      <th>total_moisture</th>\n",
       "      <th>oxygen</th>\n",
       "      <th>surface_moisture</th>\n",
       "      <th>inherent_moisture</th>\n",
       "    </tr>\n",
       "  </thead>\n",
       "  <tbody>\n",
       "    <tr>\n",
       "      <th>0</th>\n",
       "      <td>13-Apr-16</td>\n",
       "      <td>3.6590</td>\n",
       "      <td>4559.685911</td>\n",
       "      <td>0.0254</td>\n",
       "      <td>16.850</td>\n",
       "      <td>609.131028</td>\n",
       "      <td>0.515488</td>\n",
       "      <td>353.347333</td>\n",
       "      <td>928.582025</td>\n",
       "      <td>1.2775</td>\n",
       "      <td>...</td>\n",
       "      <td>1422.268295</td>\n",
       "      <td>49.372898</td>\n",
       "      <td>3.710498</td>\n",
       "      <td>0.588508</td>\n",
       "      <td>0.498562</td>\n",
       "      <td>7.304680</td>\n",
       "      <td>28.997219</td>\n",
       "      <td>9.527635</td>\n",
       "      <td>11.598888</td>\n",
       "      <td>17.398331</td>\n",
       "    </tr>\n",
       "    <tr>\n",
       "      <th>1</th>\n",
       "      <td>09-May-16</td>\n",
       "      <td>1.5045</td>\n",
       "      <td>4739.94189</td>\n",
       "      <td>0.0000</td>\n",
       "      <td>13.250</td>\n",
       "      <td>620.713631</td>\n",
       "      <td>0.507914</td>\n",
       "      <td>375.683444</td>\n",
       "      <td>1016.945563</td>\n",
       "      <td>4.0975</td>\n",
       "      <td>...</td>\n",
       "      <td>1408.914527</td>\n",
       "      <td>48.169496</td>\n",
       "      <td>3.481469</td>\n",
       "      <td>0.760060</td>\n",
       "      <td>0.432251</td>\n",
       "      <td>7.895477</td>\n",
       "      <td>27.330060</td>\n",
       "      <td>11.931188</td>\n",
       "      <td>10.932024</td>\n",
       "      <td>16.398036</td>\n",
       "    </tr>\n",
       "    <tr>\n",
       "      <th>2</th>\n",
       "      <td>07-Jun-16</td>\n",
       "      <td>2.4490</td>\n",
       "      <td>4832.126248</td>\n",
       "      <td>0.0000</td>\n",
       "      <td>13.275</td>\n",
       "      <td>607.201920</td>\n",
       "      <td>0.512293</td>\n",
       "      <td>353.364613</td>\n",
       "      <td>966.932480</td>\n",
       "      <td>3.3000</td>\n",
       "      <td>...</td>\n",
       "      <td>1363.565909</td>\n",
       "      <td>50.586591</td>\n",
       "      <td>3.739764</td>\n",
       "      <td>0.700430</td>\n",
       "      <td>0.432364</td>\n",
       "      <td>8.154385</td>\n",
       "      <td>26.550000</td>\n",
       "      <td>9.836467</td>\n",
       "      <td>10.620000</td>\n",
       "      <td>15.930000</td>\n",
       "    </tr>\n",
       "    <tr>\n",
       "      <th>3</th>\n",
       "      <td>22-Jul-16</td>\n",
       "      <td>0.9680</td>\n",
       "      <td>4599.993082</td>\n",
       "      <td>0.0757</td>\n",
       "      <td>13.275</td>\n",
       "      <td>632.613046</td>\n",
       "      <td>0.543439</td>\n",
       "      <td>356.020724</td>\n",
       "      <td>948.621111</td>\n",
       "      <td>4.3350</td>\n",
       "      <td>...</td>\n",
       "      <td>1471.384697</td>\n",
       "      <td>48.348807</td>\n",
       "      <td>3.309546</td>\n",
       "      <td>0.671983</td>\n",
       "      <td>0.540600</td>\n",
       "      <td>7.817141</td>\n",
       "      <td>28.855547</td>\n",
       "      <td>10.456376</td>\n",
       "      <td>11.542219</td>\n",
       "      <td>17.313328</td>\n",
       "    </tr>\n",
       "    <tr>\n",
       "      <th>4</th>\n",
       "      <td>09-Aug-16</td>\n",
       "      <td>3.9520</td>\n",
       "      <td>5067</td>\n",
       "      <td>0.1556</td>\n",
       "      <td>18.500</td>\n",
       "      <td>602.272434</td>\n",
       "      <td>0.516813</td>\n",
       "      <td>357.003215</td>\n",
       "      <td>941.040629</td>\n",
       "      <td>0.6075</td>\n",
       "      <td>...</td>\n",
       "      <td>1480.650494</td>\n",
       "      <td>51.370000</td>\n",
       "      <td>3.730000</td>\n",
       "      <td>0.720000</td>\n",
       "      <td>0.640000</td>\n",
       "      <td>4.670000</td>\n",
       "      <td>26.540000</td>\n",
       "      <td>12.330000</td>\n",
       "      <td>10.616000</td>\n",
       "      <td>15.924000</td>\n",
       "    </tr>\n",
       "  </tbody>\n",
       "</table>\n",
       "<p>5 rows × 21 columns</p>\n",
       "</div>"
      ],
      "text/plain": [
       "        time  unburn_carbon  nilai_kalor      co     co2  out_generator  \\\n",
       "0  13-Apr-16         3.6590  4559.685911  0.0254  16.850     609.131028   \n",
       "1  09-May-16         1.5045   4739.94189  0.0000  13.250     620.713631   \n",
       "2  07-Jun-16         2.4490  4832.126248  0.0000  13.275     607.201920   \n",
       "3  22-Jul-16         0.9680  4599.993082  0.0757  13.275     632.613046   \n",
       "4  09-Aug-16         3.9520         5067  0.1556  18.500     602.272434   \n",
       "\n",
       "        sfc  eco_gas_out_temp      pa_flow      o2  ...      sa_flow  \\\n",
       "0  0.515488        353.347333   928.582025  1.2775  ...  1422.268295   \n",
       "1  0.507914        375.683444  1016.945563  4.0975  ...  1408.914527   \n",
       "2  0.512293        353.364613   966.932480  3.3000  ...  1363.565909   \n",
       "3  0.543439        356.020724   948.621111  4.3350  ...  1471.384697   \n",
       "4  0.516813        357.003215   941.040629  0.6075  ...  1480.650494   \n",
       "\n",
       "      carbon  hydrogen  nitrogen    sulfur       ash  total_moisture  \\\n",
       "0  49.372898  3.710498  0.588508  0.498562  7.304680       28.997219   \n",
       "1  48.169496  3.481469  0.760060  0.432251  7.895477       27.330060   \n",
       "2  50.586591  3.739764  0.700430  0.432364  8.154385       26.550000   \n",
       "3  48.348807  3.309546  0.671983  0.540600  7.817141       28.855547   \n",
       "4  51.370000  3.730000  0.720000  0.640000  4.670000       26.540000   \n",
       "\n",
       "      oxygen  surface_moisture  inherent_moisture  \n",
       "0   9.527635         11.598888          17.398331  \n",
       "1  11.931188         10.932024          16.398036  \n",
       "2   9.836467         10.620000          15.930000  \n",
       "3  10.456376         11.542219          17.313328  \n",
       "4  12.330000         10.616000          15.924000  \n",
       "\n",
       "[5 rows x 21 columns]"
      ]
     },
     "execution_count": 93,
     "metadata": {},
     "output_type": "execute_result"
    }
   ],
   "source": [
    "# Load dataset\n",
    "df = pd.read_csv('unburn_carbon3.csv')\n",
    "\n",
    "# Melihat tampilan dataset\n",
    "df.head()"
   ]
  },
  {
   "cell_type": "code",
   "execution_count": 94,
   "id": "7b5e75ff",
   "metadata": {},
   "outputs": [],
   "source": [
    "# kita buang kolom 'User ID'\n",
    "df.drop('time', axis=1, inplace=True)"
   ]
  },
  {
   "cell_type": "code",
   "execution_count": 95,
   "id": "9f78795d",
   "metadata": {},
   "outputs": [
    {
     "name": "stdout",
     "output_type": "stream",
     "text": [
      "<class 'pandas.core.frame.DataFrame'>\n",
      "RangeIndex: 83 entries, 0 to 82\n",
      "Data columns (total 20 columns):\n",
      " #   Column             Non-Null Count  Dtype  \n",
      "---  ------             --------------  -----  \n",
      " 0   unburn_carbon      82 non-null     float64\n",
      " 1   nilai_kalor        83 non-null     object \n",
      " 2   co                 83 non-null     float64\n",
      " 3   co2                83 non-null     float64\n",
      " 4   out_generator      80 non-null     float64\n",
      " 5   sfc                80 non-null     float64\n",
      " 6   eco_gas_out_temp   81 non-null     float64\n",
      " 7   pa_flow            83 non-null     float64\n",
      " 8   o2                 83 non-null     float64\n",
      " 9   fuel_temp          83 non-null     float64\n",
      " 10  sa_flow            83 non-null     float64\n",
      " 11  carbon             83 non-null     float64\n",
      " 12  hydrogen           83 non-null     float64\n",
      " 13  nitrogen           83 non-null     float64\n",
      " 14  sulfur             83 non-null     float64\n",
      " 15  ash                83 non-null     float64\n",
      " 16  total_moisture     83 non-null     float64\n",
      " 17  oxygen             83 non-null     float64\n",
      " 18  surface_moisture   83 non-null     float64\n",
      " 19  inherent_moisture  83 non-null     float64\n",
      "dtypes: float64(19), object(1)\n",
      "memory usage: 13.1+ KB\n"
     ]
    }
   ],
   "source": [
    "df.info()"
   ]
  },
  {
   "cell_type": "code",
   "execution_count": 96,
   "id": "e44f0c92",
   "metadata": {},
   "outputs": [],
   "source": [
    "# Melihat hubungan setiap variabel independen (X) dengan variabel dependen (y)\n",
    "# Proses ini disebut dengan EDA (Exploratory Data Analysis)\n",
    "#sns.set_palette('colorblind')\n",
    "#sns.pairplot(df, height=3)\n",
    "#plt.show()"
   ]
  },
  {
   "cell_type": "code",
   "execution_count": 97,
   "id": "dd672f1f",
   "metadata": {},
   "outputs": [],
   "source": [
    "df = df[(df['unburn_carbon'] < 2)]"
   ]
  },
  {
   "cell_type": "code",
   "execution_count": 98,
   "id": "94885548",
   "metadata": {},
   "outputs": [
    {
     "data": {
      "text/html": [
       "<div>\n",
       "<style scoped>\n",
       "    .dataframe tbody tr th:only-of-type {\n",
       "        vertical-align: middle;\n",
       "    }\n",
       "\n",
       "    .dataframe tbody tr th {\n",
       "        vertical-align: top;\n",
       "    }\n",
       "\n",
       "    .dataframe thead th {\n",
       "        text-align: right;\n",
       "    }\n",
       "</style>\n",
       "<table border=\"1\" class=\"dataframe\">\n",
       "  <thead>\n",
       "    <tr style=\"text-align: right;\">\n",
       "      <th></th>\n",
       "      <th>unburn_carbon</th>\n",
       "      <th>nilai_kalor</th>\n",
       "      <th>co</th>\n",
       "      <th>co2</th>\n",
       "      <th>out_generator</th>\n",
       "      <th>sfc</th>\n",
       "      <th>eco_gas_out_temp</th>\n",
       "      <th>pa_flow</th>\n",
       "      <th>o2</th>\n",
       "      <th>fuel_temp</th>\n",
       "      <th>sa_flow</th>\n",
       "      <th>carbon</th>\n",
       "      <th>hydrogen</th>\n",
       "      <th>nitrogen</th>\n",
       "      <th>sulfur</th>\n",
       "      <th>ash</th>\n",
       "      <th>total_moisture</th>\n",
       "      <th>oxygen</th>\n",
       "      <th>surface_moisture</th>\n",
       "      <th>inherent_moisture</th>\n",
       "    </tr>\n",
       "  </thead>\n",
       "  <tbody>\n",
       "    <tr>\n",
       "      <th>1</th>\n",
       "      <td>1.5045</td>\n",
       "      <td>4739.94189</td>\n",
       "      <td>0.000000</td>\n",
       "      <td>13.250</td>\n",
       "      <td>620.713631</td>\n",
       "      <td>0.507914</td>\n",
       "      <td>375.683444</td>\n",
       "      <td>1016.945563</td>\n",
       "      <td>4.097500</td>\n",
       "      <td>60.332083</td>\n",
       "      <td>1408.914527</td>\n",
       "      <td>48.169496</td>\n",
       "      <td>3.481469</td>\n",
       "      <td>0.760060</td>\n",
       "      <td>0.432251</td>\n",
       "      <td>7.895477</td>\n",
       "      <td>27.330060</td>\n",
       "      <td>11.931188</td>\n",
       "      <td>10.932024</td>\n",
       "      <td>16.398036</td>\n",
       "    </tr>\n",
       "    <tr>\n",
       "      <th>3</th>\n",
       "      <td>0.9680</td>\n",
       "      <td>4599.993082</td>\n",
       "      <td>0.075700</td>\n",
       "      <td>13.275</td>\n",
       "      <td>632.613046</td>\n",
       "      <td>0.543439</td>\n",
       "      <td>356.020724</td>\n",
       "      <td>948.621111</td>\n",
       "      <td>4.335000</td>\n",
       "      <td>60.332083</td>\n",
       "      <td>1471.384697</td>\n",
       "      <td>48.348807</td>\n",
       "      <td>3.309546</td>\n",
       "      <td>0.671983</td>\n",
       "      <td>0.540600</td>\n",
       "      <td>7.817141</td>\n",
       "      <td>28.855547</td>\n",
       "      <td>10.456376</td>\n",
       "      <td>11.542219</td>\n",
       "      <td>17.313328</td>\n",
       "    </tr>\n",
       "    <tr>\n",
       "      <th>5</th>\n",
       "      <td>1.6795</td>\n",
       "      <td>4398</td>\n",
       "      <td>0.000150</td>\n",
       "      <td>15.625</td>\n",
       "      <td>NaN</td>\n",
       "      <td>NaN</td>\n",
       "      <td>361.808183</td>\n",
       "      <td>897.331199</td>\n",
       "      <td>3.357500</td>\n",
       "      <td>60.332083</td>\n",
       "      <td>1471.429447</td>\n",
       "      <td>50.770000</td>\n",
       "      <td>3.240000</td>\n",
       "      <td>0.570000</td>\n",
       "      <td>0.140000</td>\n",
       "      <td>2.940000</td>\n",
       "      <td>32.300000</td>\n",
       "      <td>10.040000</td>\n",
       "      <td>12.920000</td>\n",
       "      <td>19.380000</td>\n",
       "    </tr>\n",
       "    <tr>\n",
       "      <th>6</th>\n",
       "      <td>0.3195</td>\n",
       "      <td>3375.90205</td>\n",
       "      <td>0.000150</td>\n",
       "      <td>12.700</td>\n",
       "      <td>312.332833</td>\n",
       "      <td>0.647850</td>\n",
       "      <td>360.419045</td>\n",
       "      <td>730.391084</td>\n",
       "      <td>6.730000</td>\n",
       "      <td>60.332083</td>\n",
       "      <td>1179.142903</td>\n",
       "      <td>35.864958</td>\n",
       "      <td>4.043400</td>\n",
       "      <td>0.498686</td>\n",
       "      <td>0.276299</td>\n",
       "      <td>5.950537</td>\n",
       "      <td>32.610000</td>\n",
       "      <td>20.756120</td>\n",
       "      <td>13.044000</td>\n",
       "      <td>19.566000</td>\n",
       "    </tr>\n",
       "    <tr>\n",
       "      <th>7</th>\n",
       "      <td>0.1360</td>\n",
       "      <td>3677.49456</td>\n",
       "      <td>0.286900</td>\n",
       "      <td>17.650</td>\n",
       "      <td>487.335794</td>\n",
       "      <td>0.569324</td>\n",
       "      <td>335.432489</td>\n",
       "      <td>873.055673</td>\n",
       "      <td>1.450000</td>\n",
       "      <td>60.332083</td>\n",
       "      <td>1226.166930</td>\n",
       "      <td>39.115592</td>\n",
       "      <td>4.293008</td>\n",
       "      <td>0.615240</td>\n",
       "      <td>0.314456</td>\n",
       "      <td>4.450236</td>\n",
       "      <td>31.640000</td>\n",
       "      <td>19.571468</td>\n",
       "      <td>12.656000</td>\n",
       "      <td>18.984000</td>\n",
       "    </tr>\n",
       "    <tr>\n",
       "      <th>...</th>\n",
       "      <td>...</td>\n",
       "      <td>...</td>\n",
       "      <td>...</td>\n",
       "      <td>...</td>\n",
       "      <td>...</td>\n",
       "      <td>...</td>\n",
       "      <td>...</td>\n",
       "      <td>...</td>\n",
       "      <td>...</td>\n",
       "      <td>...</td>\n",
       "      <td>...</td>\n",
       "      <td>...</td>\n",
       "      <td>...</td>\n",
       "      <td>...</td>\n",
       "      <td>...</td>\n",
       "      <td>...</td>\n",
       "      <td>...</td>\n",
       "      <td>...</td>\n",
       "      <td>...</td>\n",
       "      <td>...</td>\n",
       "    </tr>\n",
       "    <tr>\n",
       "      <th>77</th>\n",
       "      <td>0.0510</td>\n",
       "      <td>4952.03</td>\n",
       "      <td>0.000339</td>\n",
       "      <td>11.450</td>\n",
       "      <td>576.265431</td>\n",
       "      <td>0.615289</td>\n",
       "      <td>364.995813</td>\n",
       "      <td>975.127889</td>\n",
       "      <td>2.220209</td>\n",
       "      <td>66.024762</td>\n",
       "      <td>1559.694208</td>\n",
       "      <td>51.750000</td>\n",
       "      <td>3.180000</td>\n",
       "      <td>0.990000</td>\n",
       "      <td>0.540000</td>\n",
       "      <td>5.320000</td>\n",
       "      <td>30.360000</td>\n",
       "      <td>7.860000</td>\n",
       "      <td>12.144000</td>\n",
       "      <td>18.216000</td>\n",
       "    </tr>\n",
       "    <tr>\n",
       "      <th>78</th>\n",
       "      <td>0.1520</td>\n",
       "      <td>4920.257913</td>\n",
       "      <td>0.000181</td>\n",
       "      <td>14.825</td>\n",
       "      <td>469.280000</td>\n",
       "      <td>0.481833</td>\n",
       "      <td>318.770000</td>\n",
       "      <td>911.528175</td>\n",
       "      <td>3.665884</td>\n",
       "      <td>66.024762</td>\n",
       "      <td>1290.524611</td>\n",
       "      <td>49.898146</td>\n",
       "      <td>3.881987</td>\n",
       "      <td>0.824682</td>\n",
       "      <td>0.706863</td>\n",
       "      <td>7.378129</td>\n",
       "      <td>26.180000</td>\n",
       "      <td>11.130193</td>\n",
       "      <td>10.472000</td>\n",
       "      <td>15.708000</td>\n",
       "    </tr>\n",
       "    <tr>\n",
       "      <th>79</th>\n",
       "      <td>0.1445</td>\n",
       "      <td>3984.455</td>\n",
       "      <td>0.013110</td>\n",
       "      <td>16.200</td>\n",
       "      <td>574.560000</td>\n",
       "      <td>0.585510</td>\n",
       "      <td>335.770603</td>\n",
       "      <td>1009.479762</td>\n",
       "      <td>2.017841</td>\n",
       "      <td>66.024762</td>\n",
       "      <td>1530.923753</td>\n",
       "      <td>41.620000</td>\n",
       "      <td>3.230000</td>\n",
       "      <td>0.660000</td>\n",
       "      <td>0.360000</td>\n",
       "      <td>7.630000</td>\n",
       "      <td>36.085000</td>\n",
       "      <td>10.415000</td>\n",
       "      <td>14.434000</td>\n",
       "      <td>21.651000</td>\n",
       "    </tr>\n",
       "    <tr>\n",
       "      <th>80</th>\n",
       "      <td>0.3310</td>\n",
       "      <td>3813.040009</td>\n",
       "      <td>0.013110</td>\n",
       "      <td>16.200</td>\n",
       "      <td>570.640000</td>\n",
       "      <td>0.634269</td>\n",
       "      <td>352.640860</td>\n",
       "      <td>1088.362946</td>\n",
       "      <td>3.655743</td>\n",
       "      <td>58.855238</td>\n",
       "      <td>1521.551443</td>\n",
       "      <td>40.046135</td>\n",
       "      <td>2.865088</td>\n",
       "      <td>0.632307</td>\n",
       "      <td>0.257607</td>\n",
       "      <td>5.558060</td>\n",
       "      <td>38.190000</td>\n",
       "      <td>12.450802</td>\n",
       "      <td>15.276000</td>\n",
       "      <td>22.914000</td>\n",
       "    </tr>\n",
       "    <tr>\n",
       "      <th>81</th>\n",
       "      <td>0.1010</td>\n",
       "      <td>3771.795399</td>\n",
       "      <td>0.000378</td>\n",
       "      <td>17.110</td>\n",
       "      <td>559.564603</td>\n",
       "      <td>0.634811</td>\n",
       "      <td>353.581291</td>\n",
       "      <td>1129.129841</td>\n",
       "      <td>3.311824</td>\n",
       "      <td>58.855238</td>\n",
       "      <td>1443.053448</td>\n",
       "      <td>39.763977</td>\n",
       "      <td>2.877641</td>\n",
       "      <td>0.596847</td>\n",
       "      <td>0.201533</td>\n",
       "      <td>5.937467</td>\n",
       "      <td>38.610000</td>\n",
       "      <td>12.012535</td>\n",
       "      <td>15.444000</td>\n",
       "      <td>23.166000</td>\n",
       "    </tr>\n",
       "  </tbody>\n",
       "</table>\n",
       "<p>74 rows × 20 columns</p>\n",
       "</div>"
      ],
      "text/plain": [
       "    unburn_carbon  nilai_kalor        co     co2  out_generator       sfc  \\\n",
       "1          1.5045   4739.94189  0.000000  13.250     620.713631  0.507914   \n",
       "3          0.9680  4599.993082  0.075700  13.275     632.613046  0.543439   \n",
       "5          1.6795         4398  0.000150  15.625            NaN       NaN   \n",
       "6          0.3195   3375.90205  0.000150  12.700     312.332833  0.647850   \n",
       "7          0.1360   3677.49456  0.286900  17.650     487.335794  0.569324   \n",
       "..            ...          ...       ...     ...            ...       ...   \n",
       "77         0.0510      4952.03  0.000339  11.450     576.265431  0.615289   \n",
       "78         0.1520  4920.257913  0.000181  14.825     469.280000  0.481833   \n",
       "79         0.1445     3984.455  0.013110  16.200     574.560000  0.585510   \n",
       "80         0.3310  3813.040009  0.013110  16.200     570.640000  0.634269   \n",
       "81         0.1010  3771.795399  0.000378  17.110     559.564603  0.634811   \n",
       "\n",
       "    eco_gas_out_temp      pa_flow        o2  fuel_temp      sa_flow  \\\n",
       "1         375.683444  1016.945563  4.097500  60.332083  1408.914527   \n",
       "3         356.020724   948.621111  4.335000  60.332083  1471.384697   \n",
       "5         361.808183   897.331199  3.357500  60.332083  1471.429447   \n",
       "6         360.419045   730.391084  6.730000  60.332083  1179.142903   \n",
       "7         335.432489   873.055673  1.450000  60.332083  1226.166930   \n",
       "..               ...          ...       ...        ...          ...   \n",
       "77        364.995813   975.127889  2.220209  66.024762  1559.694208   \n",
       "78        318.770000   911.528175  3.665884  66.024762  1290.524611   \n",
       "79        335.770603  1009.479762  2.017841  66.024762  1530.923753   \n",
       "80        352.640860  1088.362946  3.655743  58.855238  1521.551443   \n",
       "81        353.581291  1129.129841  3.311824  58.855238  1443.053448   \n",
       "\n",
       "       carbon  hydrogen  nitrogen    sulfur       ash  total_moisture  \\\n",
       "1   48.169496  3.481469  0.760060  0.432251  7.895477       27.330060   \n",
       "3   48.348807  3.309546  0.671983  0.540600  7.817141       28.855547   \n",
       "5   50.770000  3.240000  0.570000  0.140000  2.940000       32.300000   \n",
       "6   35.864958  4.043400  0.498686  0.276299  5.950537       32.610000   \n",
       "7   39.115592  4.293008  0.615240  0.314456  4.450236       31.640000   \n",
       "..        ...       ...       ...       ...       ...             ...   \n",
       "77  51.750000  3.180000  0.990000  0.540000  5.320000       30.360000   \n",
       "78  49.898146  3.881987  0.824682  0.706863  7.378129       26.180000   \n",
       "79  41.620000  3.230000  0.660000  0.360000  7.630000       36.085000   \n",
       "80  40.046135  2.865088  0.632307  0.257607  5.558060       38.190000   \n",
       "81  39.763977  2.877641  0.596847  0.201533  5.937467       38.610000   \n",
       "\n",
       "       oxygen  surface_moisture  inherent_moisture  \n",
       "1   11.931188         10.932024          16.398036  \n",
       "3   10.456376         11.542219          17.313328  \n",
       "5   10.040000         12.920000          19.380000  \n",
       "6   20.756120         13.044000          19.566000  \n",
       "7   19.571468         12.656000          18.984000  \n",
       "..        ...               ...                ...  \n",
       "77   7.860000         12.144000          18.216000  \n",
       "78  11.130193         10.472000          15.708000  \n",
       "79  10.415000         14.434000          21.651000  \n",
       "80  12.450802         15.276000          22.914000  \n",
       "81  12.012535         15.444000          23.166000  \n",
       "\n",
       "[74 rows x 20 columns]"
      ]
     },
     "execution_count": 98,
     "metadata": {},
     "output_type": "execute_result"
    }
   ],
   "source": [
    "df"
   ]
  },
  {
   "cell_type": "code",
   "execution_count": 99,
   "id": "a0d02f31-fd13-4195-a943-8e07188d77b9",
   "metadata": {},
   "outputs": [
    {
     "name": "stdout",
     "output_type": "stream",
     "text": [
      "['nilai_kalor']\n",
      "['co', 'co2', 'out_generator', 'sfc', 'eco_gas_out_temp', 'pa_flow', 'o2', 'fuel_temp', 'sa_flow', 'carbon', 'hydrogen', 'nitrogen', 'sulfur', 'ash', 'total_moisture', 'oxygen', 'surface_moisture', 'inherent_moisture']\n"
     ]
    }
   ],
   "source": [
    "# Membagi kolom menjadi kolom numerik dan kategori\n",
    "var_kategori = [var for var in df.columns if df[var].dtype=='O']\n",
    "var_numerik = [var for var in df.columns if df[var].dtype!='O' and var!='unburn_carbon']\n",
    "\n",
    "# Melihat variabel yang sudah dipisah\n",
    "print(var_kategori)\n",
    "print(var_numerik)"
   ]
  },
  {
   "cell_type": "code",
   "execution_count": 100,
   "id": "bfa86520-2071-423e-b91e-93005832b283",
   "metadata": {},
   "outputs": [
    {
     "data": {
      "text/plain": [
       "unburn_carbon        0.000000\n",
       "nilai_kalor          0.000000\n",
       "co                   0.000000\n",
       "co2                  0.000000\n",
       "out_generator        0.027027\n",
       "sfc                  0.027027\n",
       "eco_gas_out_temp     0.013514\n",
       "pa_flow              0.000000\n",
       "o2                   0.000000\n",
       "fuel_temp            0.000000\n",
       "sa_flow              0.000000\n",
       "carbon               0.000000\n",
       "hydrogen             0.000000\n",
       "nitrogen             0.000000\n",
       "sulfur               0.000000\n",
       "ash                  0.000000\n",
       "total_moisture       0.000000\n",
       "oxygen               0.000000\n",
       "surface_moisture     0.000000\n",
       "inherent_moisture    0.000000\n",
       "dtype: float64"
      ]
     },
     "execution_count": 100,
     "metadata": {},
     "output_type": "execute_result"
    }
   ],
   "source": [
    "# Mengecek data kosong\n",
    "df.isnull().mean()"
   ]
  },
  {
   "cell_type": "code",
   "execution_count": 101,
   "id": "905988a2-2cdf-4ca1-b6d6-74d779e6994f",
   "metadata": {},
   "outputs": [
    {
     "name": "stdout",
     "output_type": "stream",
     "text": [
      "(59, 19) (15, 19)\n"
     ]
    }
   ],
   "source": [
    "# Splitting data\n",
    "X_train, X_test, y_train, y_test = train_test_split(\n",
    "    df.drop(['unburn_carbon'], axis=1),\n",
    "    df['unburn_carbon'],\n",
    "    test_size = 0.2,\n",
    "    random_state = 0)\n",
    "\n",
    "# Melihat dimensi training set dan test set\n",
    "print((X_train.shape), (X_test.shape))"
   ]
  },
  {
   "cell_type": "code",
   "execution_count": 102,
   "id": "386211f5",
   "metadata": {},
   "outputs": [
    {
     "data": {
      "text/plain": [
       "74    1.237000\n",
       "32    0.490000\n",
       "56    0.082000\n",
       "65    0.346000\n",
       "61    0.262000\n",
       "9     0.266000\n",
       "57    0.760000\n",
       "77    0.051000\n",
       "7     0.136000\n",
       "63    0.142000\n",
       "67    0.150000\n",
       "5     1.679500\n",
       "81    0.101000\n",
       "52    0.398000\n",
       "14    0.333000\n",
       "36    0.654000\n",
       "6     0.319500\n",
       "68    0.150000\n",
       "13    0.333000\n",
       "38    0.664000\n",
       "70    0.904000\n",
       "60    0.089000\n",
       "71    0.515000\n",
       "39    0.118000\n",
       "17    0.412000\n",
       "48    1.065000\n",
       "22    0.529000\n",
       "34    0.976000\n",
       "79    0.144500\n",
       "42    1.121000\n",
       "21    0.529000\n",
       "1     1.504500\n",
       "80    0.331000\n",
       "18    0.636000\n",
       "8     1.049000\n",
       "19    0.609500\n",
       "23    0.529000\n",
       "76    0.026959\n",
       "11    0.489000\n",
       "16    0.272000\n",
       "30    0.499000\n",
       "44    0.378000\n",
       "20    0.817500\n",
       "27    0.211000\n",
       "54    1.544500\n",
       "26    0.309000\n",
       "46    0.499000\n",
       "45    1.049000\n",
       "3     0.968000\n",
       "66    0.195000\n",
       "15    0.271333\n",
       "43    0.664000\n",
       "24    0.529000\n",
       "12    1.087000\n",
       "78    0.152000\n",
       "75    0.839000\n",
       "72    0.515000\n",
       "55    1.490000\n",
       "51    0.187000\n",
       "Name: unburn_carbon, dtype: float64"
      ]
     },
     "execution_count": 102,
     "metadata": {},
     "output_type": "execute_result"
    }
   ],
   "source": [
    "y_train"
   ]
  },
  {
   "cell_type": "code",
   "execution_count": 103,
   "id": "7ff9cb79-1496-4df8-8d65-0f0c2ad801b9",
   "metadata": {},
   "outputs": [],
   "source": [
    "# Membuat Pipeline untuk preprocessing\n",
    "preprocessor_numerik = Pipeline([\n",
    "    ('imputasi', SimpleImputer(strategy='median')),\n",
    "    ('scaling', MinMaxScaler())\n",
    "])\n",
    "\n",
    "preprocessor_kategori = Pipeline([\n",
    "    ('imputasi', SimpleImputer(strategy='constant', fill_value='missing')),\n",
    "    ('encoding', OneHotEncoder(drop='first', handle_unknown='ignore'))         \n",
    "])\n",
    "\n",
    "# Menggabungkan kedua pipeline di atas\n",
    "preprocessor = ColumnTransformer([\n",
    "    ('preprocessing numerik', preprocessor_numerik, var_numerik),\n",
    "    ('preprocessing kategori', preprocessor_kategori, var_kategori)\n",
    "])"
   ]
  },
  {
   "cell_type": "code",
   "execution_count": 104,
   "id": "b206f6ec-c8ae-4ba6-bf97-8b1c95fc2afa",
   "metadata": {},
   "outputs": [],
   "source": [
    "# Membuat Pipeline untuk modeling\n",
    "model_reg = Pipeline(steps=[\n",
    "    ('preprocessing', preprocessor),\n",
    "    ('regresi lasso', Lasso(alpha=0.01, max_iter=2000))\n",
    "])"
   ]
  },
  {
   "cell_type": "code",
   "execution_count": 105,
   "id": "3bbee28d",
   "metadata": {},
   "outputs": [
    {
     "data": {
      "text/html": [
       "<style>#sk-container-id-5 {color: black;background-color: white;}#sk-container-id-5 pre{padding: 0;}#sk-container-id-5 div.sk-toggleable {background-color: white;}#sk-container-id-5 label.sk-toggleable__label {cursor: pointer;display: block;width: 100%;margin-bottom: 0;padding: 0.3em;box-sizing: border-box;text-align: center;}#sk-container-id-5 label.sk-toggleable__label-arrow:before {content: \"▸\";float: left;margin-right: 0.25em;color: #696969;}#sk-container-id-5 label.sk-toggleable__label-arrow:hover:before {color: black;}#sk-container-id-5 div.sk-estimator:hover label.sk-toggleable__label-arrow:before {color: black;}#sk-container-id-5 div.sk-toggleable__content {max-height: 0;max-width: 0;overflow: hidden;text-align: left;background-color: #f0f8ff;}#sk-container-id-5 div.sk-toggleable__content pre {margin: 0.2em;color: black;border-radius: 0.25em;background-color: #f0f8ff;}#sk-container-id-5 input.sk-toggleable__control:checked~div.sk-toggleable__content {max-height: 200px;max-width: 100%;overflow: auto;}#sk-container-id-5 input.sk-toggleable__control:checked~label.sk-toggleable__label-arrow:before {content: \"▾\";}#sk-container-id-5 div.sk-estimator input.sk-toggleable__control:checked~label.sk-toggleable__label {background-color: #d4ebff;}#sk-container-id-5 div.sk-label input.sk-toggleable__control:checked~label.sk-toggleable__label {background-color: #d4ebff;}#sk-container-id-5 input.sk-hidden--visually {border: 0;clip: rect(1px 1px 1px 1px);clip: rect(1px, 1px, 1px, 1px);height: 1px;margin: -1px;overflow: hidden;padding: 0;position: absolute;width: 1px;}#sk-container-id-5 div.sk-estimator {font-family: monospace;background-color: #f0f8ff;border: 1px dotted black;border-radius: 0.25em;box-sizing: border-box;margin-bottom: 0.5em;}#sk-container-id-5 div.sk-estimator:hover {background-color: #d4ebff;}#sk-container-id-5 div.sk-parallel-item::after {content: \"\";width: 100%;border-bottom: 1px solid gray;flex-grow: 1;}#sk-container-id-5 div.sk-label:hover label.sk-toggleable__label {background-color: #d4ebff;}#sk-container-id-5 div.sk-serial::before {content: \"\";position: absolute;border-left: 1px solid gray;box-sizing: border-box;top: 0;bottom: 0;left: 50%;z-index: 0;}#sk-container-id-5 div.sk-serial {display: flex;flex-direction: column;align-items: center;background-color: white;padding-right: 0.2em;padding-left: 0.2em;position: relative;}#sk-container-id-5 div.sk-item {position: relative;z-index: 1;}#sk-container-id-5 div.sk-parallel {display: flex;align-items: stretch;justify-content: center;background-color: white;position: relative;}#sk-container-id-5 div.sk-item::before, #sk-container-id-5 div.sk-parallel-item::before {content: \"\";position: absolute;border-left: 1px solid gray;box-sizing: border-box;top: 0;bottom: 0;left: 50%;z-index: -1;}#sk-container-id-5 div.sk-parallel-item {display: flex;flex-direction: column;z-index: 1;position: relative;background-color: white;}#sk-container-id-5 div.sk-parallel-item:first-child::after {align-self: flex-end;width: 50%;}#sk-container-id-5 div.sk-parallel-item:last-child::after {align-self: flex-start;width: 50%;}#sk-container-id-5 div.sk-parallel-item:only-child::after {width: 0;}#sk-container-id-5 div.sk-dashed-wrapped {border: 1px dashed gray;margin: 0 0.4em 0.5em 0.4em;box-sizing: border-box;padding-bottom: 0.4em;background-color: white;}#sk-container-id-5 div.sk-label label {font-family: monospace;font-weight: bold;display: inline-block;line-height: 1.2em;}#sk-container-id-5 div.sk-label-container {text-align: center;}#sk-container-id-5 div.sk-container {/* jupyter's `normalize.less` sets `[hidden] { display: none; }` but bootstrap.min.css set `[hidden] { display: none !important; }` so we also need the `!important` here to be able to override the default hidden behavior on the sphinx rendered scikit-learn.org. See: https://github.com/scikit-learn/scikit-learn/issues/21755 */display: inline-block !important;position: relative;}#sk-container-id-5 div.sk-text-repr-fallback {display: none;}</style><div id=\"sk-container-id-5\" class=\"sk-top-container\"><div class=\"sk-text-repr-fallback\"><pre>Pipeline(steps=[(&#x27;preprocessing&#x27;,\n",
       "                 ColumnTransformer(transformers=[(&#x27;preprocessing numerik&#x27;,\n",
       "                                                  Pipeline(steps=[(&#x27;imputasi&#x27;,\n",
       "                                                                   SimpleImputer(strategy=&#x27;median&#x27;)),\n",
       "                                                                  (&#x27;scaling&#x27;,\n",
       "                                                                   MinMaxScaler())]),\n",
       "                                                  [&#x27;co&#x27;, &#x27;co2&#x27;, &#x27;out_generator&#x27;,\n",
       "                                                   &#x27;sfc&#x27;, &#x27;eco_gas_out_temp&#x27;,\n",
       "                                                   &#x27;pa_flow&#x27;, &#x27;o2&#x27;, &#x27;fuel_temp&#x27;,\n",
       "                                                   &#x27;sa_flow&#x27;, &#x27;carbon&#x27;,\n",
       "                                                   &#x27;hydrogen&#x27;, &#x27;nitrogen&#x27;,\n",
       "                                                   &#x27;sulfur&#x27;, &#x27;ash&#x27;,\n",
       "                                                   &#x27;total_moisture&#x27;, &#x27;oxygen&#x27;,\n",
       "                                                   &#x27;surface_moisture&#x27;,\n",
       "                                                   &#x27;inherent_moisture&#x27;]),\n",
       "                                                 (&#x27;preprocessing kategori&#x27;,\n",
       "                                                  Pipeline(steps=[(&#x27;imputasi&#x27;,\n",
       "                                                                   SimpleImputer(fill_value=&#x27;missing&#x27;,\n",
       "                                                                                 strategy=&#x27;constant&#x27;)),\n",
       "                                                                  (&#x27;encoding&#x27;,\n",
       "                                                                   OneHotEncoder(drop=&#x27;first&#x27;,\n",
       "                                                                                 handle_unknown=&#x27;ignore&#x27;))]),\n",
       "                                                  [&#x27;nilai_kalor&#x27;])])),\n",
       "                (&#x27;regresi lasso&#x27;, Lasso(alpha=0.01, max_iter=2000))])</pre><b>In a Jupyter environment, please rerun this cell to show the HTML representation or trust the notebook. <br />On GitHub, the HTML representation is unable to render, please try loading this page with nbviewer.org.</b></div><div class=\"sk-container\" hidden><div class=\"sk-item sk-dashed-wrapped\"><div class=\"sk-label-container\"><div class=\"sk-label sk-toggleable\"><input class=\"sk-toggleable__control sk-hidden--visually\" id=\"sk-estimator-id-37\" type=\"checkbox\" ><label for=\"sk-estimator-id-37\" class=\"sk-toggleable__label sk-toggleable__label-arrow\">Pipeline</label><div class=\"sk-toggleable__content\"><pre>Pipeline(steps=[(&#x27;preprocessing&#x27;,\n",
       "                 ColumnTransformer(transformers=[(&#x27;preprocessing numerik&#x27;,\n",
       "                                                  Pipeline(steps=[(&#x27;imputasi&#x27;,\n",
       "                                                                   SimpleImputer(strategy=&#x27;median&#x27;)),\n",
       "                                                                  (&#x27;scaling&#x27;,\n",
       "                                                                   MinMaxScaler())]),\n",
       "                                                  [&#x27;co&#x27;, &#x27;co2&#x27;, &#x27;out_generator&#x27;,\n",
       "                                                   &#x27;sfc&#x27;, &#x27;eco_gas_out_temp&#x27;,\n",
       "                                                   &#x27;pa_flow&#x27;, &#x27;o2&#x27;, &#x27;fuel_temp&#x27;,\n",
       "                                                   &#x27;sa_flow&#x27;, &#x27;carbon&#x27;,\n",
       "                                                   &#x27;hydrogen&#x27;, &#x27;nitrogen&#x27;,\n",
       "                                                   &#x27;sulfur&#x27;, &#x27;ash&#x27;,\n",
       "                                                   &#x27;total_moisture&#x27;, &#x27;oxygen&#x27;,\n",
       "                                                   &#x27;surface_moisture&#x27;,\n",
       "                                                   &#x27;inherent_moisture&#x27;]),\n",
       "                                                 (&#x27;preprocessing kategori&#x27;,\n",
       "                                                  Pipeline(steps=[(&#x27;imputasi&#x27;,\n",
       "                                                                   SimpleImputer(fill_value=&#x27;missing&#x27;,\n",
       "                                                                                 strategy=&#x27;constant&#x27;)),\n",
       "                                                                  (&#x27;encoding&#x27;,\n",
       "                                                                   OneHotEncoder(drop=&#x27;first&#x27;,\n",
       "                                                                                 handle_unknown=&#x27;ignore&#x27;))]),\n",
       "                                                  [&#x27;nilai_kalor&#x27;])])),\n",
       "                (&#x27;regresi lasso&#x27;, Lasso(alpha=0.01, max_iter=2000))])</pre></div></div></div><div class=\"sk-serial\"><div class=\"sk-item sk-dashed-wrapped\"><div class=\"sk-label-container\"><div class=\"sk-label sk-toggleable\"><input class=\"sk-toggleable__control sk-hidden--visually\" id=\"sk-estimator-id-38\" type=\"checkbox\" ><label for=\"sk-estimator-id-38\" class=\"sk-toggleable__label sk-toggleable__label-arrow\">preprocessing: ColumnTransformer</label><div class=\"sk-toggleable__content\"><pre>ColumnTransformer(transformers=[(&#x27;preprocessing numerik&#x27;,\n",
       "                                 Pipeline(steps=[(&#x27;imputasi&#x27;,\n",
       "                                                  SimpleImputer(strategy=&#x27;median&#x27;)),\n",
       "                                                 (&#x27;scaling&#x27;, MinMaxScaler())]),\n",
       "                                 [&#x27;co&#x27;, &#x27;co2&#x27;, &#x27;out_generator&#x27;, &#x27;sfc&#x27;,\n",
       "                                  &#x27;eco_gas_out_temp&#x27;, &#x27;pa_flow&#x27;, &#x27;o2&#x27;,\n",
       "                                  &#x27;fuel_temp&#x27;, &#x27;sa_flow&#x27;, &#x27;carbon&#x27;, &#x27;hydrogen&#x27;,\n",
       "                                  &#x27;nitrogen&#x27;, &#x27;sulfur&#x27;, &#x27;ash&#x27;, &#x27;total_moisture&#x27;,\n",
       "                                  &#x27;oxygen&#x27;, &#x27;surface_moisture&#x27;,\n",
       "                                  &#x27;inherent_moisture&#x27;]),\n",
       "                                (&#x27;preprocessing kategori&#x27;,\n",
       "                                 Pipeline(steps=[(&#x27;imputasi&#x27;,\n",
       "                                                  SimpleImputer(fill_value=&#x27;missing&#x27;,\n",
       "                                                                strategy=&#x27;constant&#x27;)),\n",
       "                                                 (&#x27;encoding&#x27;,\n",
       "                                                  OneHotEncoder(drop=&#x27;first&#x27;,\n",
       "                                                                handle_unknown=&#x27;ignore&#x27;))]),\n",
       "                                 [&#x27;nilai_kalor&#x27;])])</pre></div></div></div><div class=\"sk-parallel\"><div class=\"sk-parallel-item\"><div class=\"sk-item\"><div class=\"sk-label-container\"><div class=\"sk-label sk-toggleable\"><input class=\"sk-toggleable__control sk-hidden--visually\" id=\"sk-estimator-id-39\" type=\"checkbox\" ><label for=\"sk-estimator-id-39\" class=\"sk-toggleable__label sk-toggleable__label-arrow\">preprocessing numerik</label><div class=\"sk-toggleable__content\"><pre>[&#x27;co&#x27;, &#x27;co2&#x27;, &#x27;out_generator&#x27;, &#x27;sfc&#x27;, &#x27;eco_gas_out_temp&#x27;, &#x27;pa_flow&#x27;, &#x27;o2&#x27;, &#x27;fuel_temp&#x27;, &#x27;sa_flow&#x27;, &#x27;carbon&#x27;, &#x27;hydrogen&#x27;, &#x27;nitrogen&#x27;, &#x27;sulfur&#x27;, &#x27;ash&#x27;, &#x27;total_moisture&#x27;, &#x27;oxygen&#x27;, &#x27;surface_moisture&#x27;, &#x27;inherent_moisture&#x27;]</pre></div></div></div><div class=\"sk-serial\"><div class=\"sk-item\"><div class=\"sk-serial\"><div class=\"sk-item\"><div class=\"sk-estimator sk-toggleable\"><input class=\"sk-toggleable__control sk-hidden--visually\" id=\"sk-estimator-id-40\" type=\"checkbox\" ><label for=\"sk-estimator-id-40\" class=\"sk-toggleable__label sk-toggleable__label-arrow\">SimpleImputer</label><div class=\"sk-toggleable__content\"><pre>SimpleImputer(strategy=&#x27;median&#x27;)</pre></div></div></div><div class=\"sk-item\"><div class=\"sk-estimator sk-toggleable\"><input class=\"sk-toggleable__control sk-hidden--visually\" id=\"sk-estimator-id-41\" type=\"checkbox\" ><label for=\"sk-estimator-id-41\" class=\"sk-toggleable__label sk-toggleable__label-arrow\">MinMaxScaler</label><div class=\"sk-toggleable__content\"><pre>MinMaxScaler()</pre></div></div></div></div></div></div></div></div><div class=\"sk-parallel-item\"><div class=\"sk-item\"><div class=\"sk-label-container\"><div class=\"sk-label sk-toggleable\"><input class=\"sk-toggleable__control sk-hidden--visually\" id=\"sk-estimator-id-42\" type=\"checkbox\" ><label for=\"sk-estimator-id-42\" class=\"sk-toggleable__label sk-toggleable__label-arrow\">preprocessing kategori</label><div class=\"sk-toggleable__content\"><pre>[&#x27;nilai_kalor&#x27;]</pre></div></div></div><div class=\"sk-serial\"><div class=\"sk-item\"><div class=\"sk-serial\"><div class=\"sk-item\"><div class=\"sk-estimator sk-toggleable\"><input class=\"sk-toggleable__control sk-hidden--visually\" id=\"sk-estimator-id-43\" type=\"checkbox\" ><label for=\"sk-estimator-id-43\" class=\"sk-toggleable__label sk-toggleable__label-arrow\">SimpleImputer</label><div class=\"sk-toggleable__content\"><pre>SimpleImputer(fill_value=&#x27;missing&#x27;, strategy=&#x27;constant&#x27;)</pre></div></div></div><div class=\"sk-item\"><div class=\"sk-estimator sk-toggleable\"><input class=\"sk-toggleable__control sk-hidden--visually\" id=\"sk-estimator-id-44\" type=\"checkbox\" ><label for=\"sk-estimator-id-44\" class=\"sk-toggleable__label sk-toggleable__label-arrow\">OneHotEncoder</label><div class=\"sk-toggleable__content\"><pre>OneHotEncoder(drop=&#x27;first&#x27;, handle_unknown=&#x27;ignore&#x27;)</pre></div></div></div></div></div></div></div></div></div></div><div class=\"sk-item\"><div class=\"sk-estimator sk-toggleable\"><input class=\"sk-toggleable__control sk-hidden--visually\" id=\"sk-estimator-id-45\" type=\"checkbox\" ><label for=\"sk-estimator-id-45\" class=\"sk-toggleable__label sk-toggleable__label-arrow\">Lasso</label><div class=\"sk-toggleable__content\"><pre>Lasso(alpha=0.01, max_iter=2000)</pre></div></div></div></div></div></div></div>"
      ],
      "text/plain": [
       "Pipeline(steps=[('preprocessing',\n",
       "                 ColumnTransformer(transformers=[('preprocessing numerik',\n",
       "                                                  Pipeline(steps=[('imputasi',\n",
       "                                                                   SimpleImputer(strategy='median')),\n",
       "                                                                  ('scaling',\n",
       "                                                                   MinMaxScaler())]),\n",
       "                                                  ['co', 'co2', 'out_generator',\n",
       "                                                   'sfc', 'eco_gas_out_temp',\n",
       "                                                   'pa_flow', 'o2', 'fuel_temp',\n",
       "                                                   'sa_flow', 'carbon',\n",
       "                                                   'hydrogen', 'nitrogen',\n",
       "                                                   'sulfur', 'ash',\n",
       "                                                   'total_moisture', 'oxygen',\n",
       "                                                   'surface_moisture',\n",
       "                                                   'inherent_moisture']),\n",
       "                                                 ('preprocessing kategori',\n",
       "                                                  Pipeline(steps=[('imputasi',\n",
       "                                                                   SimpleImputer(fill_value='missing',\n",
       "                                                                                 strategy='constant')),\n",
       "                                                                  ('encoding',\n",
       "                                                                   OneHotEncoder(drop='first',\n",
       "                                                                                 handle_unknown='ignore'))]),\n",
       "                                                  ['nilai_kalor'])])),\n",
       "                ('regresi lasso', Lasso(alpha=0.01, max_iter=2000))])"
      ]
     },
     "execution_count": 105,
     "metadata": {},
     "output_type": "execute_result"
    }
   ],
   "source": [
    "model_reg"
   ]
  },
  {
   "cell_type": "code",
   "execution_count": 106,
   "id": "c9670628-1908-441c-861c-57838b5a1352",
   "metadata": {},
   "outputs": [
    {
     "data": {
      "text/html": [
       "<style>#sk-container-id-6 {color: black;background-color: white;}#sk-container-id-6 pre{padding: 0;}#sk-container-id-6 div.sk-toggleable {background-color: white;}#sk-container-id-6 label.sk-toggleable__label {cursor: pointer;display: block;width: 100%;margin-bottom: 0;padding: 0.3em;box-sizing: border-box;text-align: center;}#sk-container-id-6 label.sk-toggleable__label-arrow:before {content: \"▸\";float: left;margin-right: 0.25em;color: #696969;}#sk-container-id-6 label.sk-toggleable__label-arrow:hover:before {color: black;}#sk-container-id-6 div.sk-estimator:hover label.sk-toggleable__label-arrow:before {color: black;}#sk-container-id-6 div.sk-toggleable__content {max-height: 0;max-width: 0;overflow: hidden;text-align: left;background-color: #f0f8ff;}#sk-container-id-6 div.sk-toggleable__content pre {margin: 0.2em;color: black;border-radius: 0.25em;background-color: #f0f8ff;}#sk-container-id-6 input.sk-toggleable__control:checked~div.sk-toggleable__content {max-height: 200px;max-width: 100%;overflow: auto;}#sk-container-id-6 input.sk-toggleable__control:checked~label.sk-toggleable__label-arrow:before {content: \"▾\";}#sk-container-id-6 div.sk-estimator input.sk-toggleable__control:checked~label.sk-toggleable__label {background-color: #d4ebff;}#sk-container-id-6 div.sk-label input.sk-toggleable__control:checked~label.sk-toggleable__label {background-color: #d4ebff;}#sk-container-id-6 input.sk-hidden--visually {border: 0;clip: rect(1px 1px 1px 1px);clip: rect(1px, 1px, 1px, 1px);height: 1px;margin: -1px;overflow: hidden;padding: 0;position: absolute;width: 1px;}#sk-container-id-6 div.sk-estimator {font-family: monospace;background-color: #f0f8ff;border: 1px dotted black;border-radius: 0.25em;box-sizing: border-box;margin-bottom: 0.5em;}#sk-container-id-6 div.sk-estimator:hover {background-color: #d4ebff;}#sk-container-id-6 div.sk-parallel-item::after {content: \"\";width: 100%;border-bottom: 1px solid gray;flex-grow: 1;}#sk-container-id-6 div.sk-label:hover label.sk-toggleable__label {background-color: #d4ebff;}#sk-container-id-6 div.sk-serial::before {content: \"\";position: absolute;border-left: 1px solid gray;box-sizing: border-box;top: 0;bottom: 0;left: 50%;z-index: 0;}#sk-container-id-6 div.sk-serial {display: flex;flex-direction: column;align-items: center;background-color: white;padding-right: 0.2em;padding-left: 0.2em;position: relative;}#sk-container-id-6 div.sk-item {position: relative;z-index: 1;}#sk-container-id-6 div.sk-parallel {display: flex;align-items: stretch;justify-content: center;background-color: white;position: relative;}#sk-container-id-6 div.sk-item::before, #sk-container-id-6 div.sk-parallel-item::before {content: \"\";position: absolute;border-left: 1px solid gray;box-sizing: border-box;top: 0;bottom: 0;left: 50%;z-index: -1;}#sk-container-id-6 div.sk-parallel-item {display: flex;flex-direction: column;z-index: 1;position: relative;background-color: white;}#sk-container-id-6 div.sk-parallel-item:first-child::after {align-self: flex-end;width: 50%;}#sk-container-id-6 div.sk-parallel-item:last-child::after {align-self: flex-start;width: 50%;}#sk-container-id-6 div.sk-parallel-item:only-child::after {width: 0;}#sk-container-id-6 div.sk-dashed-wrapped {border: 1px dashed gray;margin: 0 0.4em 0.5em 0.4em;box-sizing: border-box;padding-bottom: 0.4em;background-color: white;}#sk-container-id-6 div.sk-label label {font-family: monospace;font-weight: bold;display: inline-block;line-height: 1.2em;}#sk-container-id-6 div.sk-label-container {text-align: center;}#sk-container-id-6 div.sk-container {/* jupyter's `normalize.less` sets `[hidden] { display: none; }` but bootstrap.min.css set `[hidden] { display: none !important; }` so we also need the `!important` here to be able to override the default hidden behavior on the sphinx rendered scikit-learn.org. See: https://github.com/scikit-learn/scikit-learn/issues/21755 */display: inline-block !important;position: relative;}#sk-container-id-6 div.sk-text-repr-fallback {display: none;}</style><div id=\"sk-container-id-6\" class=\"sk-top-container\"><div class=\"sk-text-repr-fallback\"><pre>Pipeline(steps=[(&#x27;preprocessing&#x27;,\n",
       "                 ColumnTransformer(transformers=[(&#x27;preprocessing numerik&#x27;,\n",
       "                                                  Pipeline(steps=[(&#x27;imputasi&#x27;,\n",
       "                                                                   SimpleImputer(strategy=&#x27;median&#x27;)),\n",
       "                                                                  (&#x27;scaling&#x27;,\n",
       "                                                                   MinMaxScaler())]),\n",
       "                                                  [&#x27;co&#x27;, &#x27;co2&#x27;, &#x27;out_generator&#x27;,\n",
       "                                                   &#x27;sfc&#x27;, &#x27;eco_gas_out_temp&#x27;,\n",
       "                                                   &#x27;pa_flow&#x27;, &#x27;o2&#x27;, &#x27;fuel_temp&#x27;,\n",
       "                                                   &#x27;sa_flow&#x27;, &#x27;carbon&#x27;,\n",
       "                                                   &#x27;hydrogen&#x27;, &#x27;nitrogen&#x27;,\n",
       "                                                   &#x27;sulfur&#x27;, &#x27;ash&#x27;,\n",
       "                                                   &#x27;total_moisture&#x27;, &#x27;oxygen&#x27;,\n",
       "                                                   &#x27;surface_moisture&#x27;,\n",
       "                                                   &#x27;inherent_moisture&#x27;]),\n",
       "                                                 (&#x27;preprocessing kategori&#x27;,\n",
       "                                                  Pipeline(steps=[(&#x27;imputasi&#x27;,\n",
       "                                                                   SimpleImputer(fill_value=&#x27;missing&#x27;,\n",
       "                                                                                 strategy=&#x27;constant&#x27;)),\n",
       "                                                                  (&#x27;encoding&#x27;,\n",
       "                                                                   OneHotEncoder(drop=&#x27;first&#x27;,\n",
       "                                                                                 handle_unknown=&#x27;ignore&#x27;))]),\n",
       "                                                  [&#x27;nilai_kalor&#x27;])])),\n",
       "                (&#x27;regresi lasso&#x27;, Lasso(alpha=0.01, max_iter=2000))])</pre><b>In a Jupyter environment, please rerun this cell to show the HTML representation or trust the notebook. <br />On GitHub, the HTML representation is unable to render, please try loading this page with nbviewer.org.</b></div><div class=\"sk-container\" hidden><div class=\"sk-item sk-dashed-wrapped\"><div class=\"sk-label-container\"><div class=\"sk-label sk-toggleable\"><input class=\"sk-toggleable__control sk-hidden--visually\" id=\"sk-estimator-id-46\" type=\"checkbox\" ><label for=\"sk-estimator-id-46\" class=\"sk-toggleable__label sk-toggleable__label-arrow\">Pipeline</label><div class=\"sk-toggleable__content\"><pre>Pipeline(steps=[(&#x27;preprocessing&#x27;,\n",
       "                 ColumnTransformer(transformers=[(&#x27;preprocessing numerik&#x27;,\n",
       "                                                  Pipeline(steps=[(&#x27;imputasi&#x27;,\n",
       "                                                                   SimpleImputer(strategy=&#x27;median&#x27;)),\n",
       "                                                                  (&#x27;scaling&#x27;,\n",
       "                                                                   MinMaxScaler())]),\n",
       "                                                  [&#x27;co&#x27;, &#x27;co2&#x27;, &#x27;out_generator&#x27;,\n",
       "                                                   &#x27;sfc&#x27;, &#x27;eco_gas_out_temp&#x27;,\n",
       "                                                   &#x27;pa_flow&#x27;, &#x27;o2&#x27;, &#x27;fuel_temp&#x27;,\n",
       "                                                   &#x27;sa_flow&#x27;, &#x27;carbon&#x27;,\n",
       "                                                   &#x27;hydrogen&#x27;, &#x27;nitrogen&#x27;,\n",
       "                                                   &#x27;sulfur&#x27;, &#x27;ash&#x27;,\n",
       "                                                   &#x27;total_moisture&#x27;, &#x27;oxygen&#x27;,\n",
       "                                                   &#x27;surface_moisture&#x27;,\n",
       "                                                   &#x27;inherent_moisture&#x27;]),\n",
       "                                                 (&#x27;preprocessing kategori&#x27;,\n",
       "                                                  Pipeline(steps=[(&#x27;imputasi&#x27;,\n",
       "                                                                   SimpleImputer(fill_value=&#x27;missing&#x27;,\n",
       "                                                                                 strategy=&#x27;constant&#x27;)),\n",
       "                                                                  (&#x27;encoding&#x27;,\n",
       "                                                                   OneHotEncoder(drop=&#x27;first&#x27;,\n",
       "                                                                                 handle_unknown=&#x27;ignore&#x27;))]),\n",
       "                                                  [&#x27;nilai_kalor&#x27;])])),\n",
       "                (&#x27;regresi lasso&#x27;, Lasso(alpha=0.01, max_iter=2000))])</pre></div></div></div><div class=\"sk-serial\"><div class=\"sk-item sk-dashed-wrapped\"><div class=\"sk-label-container\"><div class=\"sk-label sk-toggleable\"><input class=\"sk-toggleable__control sk-hidden--visually\" id=\"sk-estimator-id-47\" type=\"checkbox\" ><label for=\"sk-estimator-id-47\" class=\"sk-toggleable__label sk-toggleable__label-arrow\">preprocessing: ColumnTransformer</label><div class=\"sk-toggleable__content\"><pre>ColumnTransformer(transformers=[(&#x27;preprocessing numerik&#x27;,\n",
       "                                 Pipeline(steps=[(&#x27;imputasi&#x27;,\n",
       "                                                  SimpleImputer(strategy=&#x27;median&#x27;)),\n",
       "                                                 (&#x27;scaling&#x27;, MinMaxScaler())]),\n",
       "                                 [&#x27;co&#x27;, &#x27;co2&#x27;, &#x27;out_generator&#x27;, &#x27;sfc&#x27;,\n",
       "                                  &#x27;eco_gas_out_temp&#x27;, &#x27;pa_flow&#x27;, &#x27;o2&#x27;,\n",
       "                                  &#x27;fuel_temp&#x27;, &#x27;sa_flow&#x27;, &#x27;carbon&#x27;, &#x27;hydrogen&#x27;,\n",
       "                                  &#x27;nitrogen&#x27;, &#x27;sulfur&#x27;, &#x27;ash&#x27;, &#x27;total_moisture&#x27;,\n",
       "                                  &#x27;oxygen&#x27;, &#x27;surface_moisture&#x27;,\n",
       "                                  &#x27;inherent_moisture&#x27;]),\n",
       "                                (&#x27;preprocessing kategori&#x27;,\n",
       "                                 Pipeline(steps=[(&#x27;imputasi&#x27;,\n",
       "                                                  SimpleImputer(fill_value=&#x27;missing&#x27;,\n",
       "                                                                strategy=&#x27;constant&#x27;)),\n",
       "                                                 (&#x27;encoding&#x27;,\n",
       "                                                  OneHotEncoder(drop=&#x27;first&#x27;,\n",
       "                                                                handle_unknown=&#x27;ignore&#x27;))]),\n",
       "                                 [&#x27;nilai_kalor&#x27;])])</pre></div></div></div><div class=\"sk-parallel\"><div class=\"sk-parallel-item\"><div class=\"sk-item\"><div class=\"sk-label-container\"><div class=\"sk-label sk-toggleable\"><input class=\"sk-toggleable__control sk-hidden--visually\" id=\"sk-estimator-id-48\" type=\"checkbox\" ><label for=\"sk-estimator-id-48\" class=\"sk-toggleable__label sk-toggleable__label-arrow\">preprocessing numerik</label><div class=\"sk-toggleable__content\"><pre>[&#x27;co&#x27;, &#x27;co2&#x27;, &#x27;out_generator&#x27;, &#x27;sfc&#x27;, &#x27;eco_gas_out_temp&#x27;, &#x27;pa_flow&#x27;, &#x27;o2&#x27;, &#x27;fuel_temp&#x27;, &#x27;sa_flow&#x27;, &#x27;carbon&#x27;, &#x27;hydrogen&#x27;, &#x27;nitrogen&#x27;, &#x27;sulfur&#x27;, &#x27;ash&#x27;, &#x27;total_moisture&#x27;, &#x27;oxygen&#x27;, &#x27;surface_moisture&#x27;, &#x27;inherent_moisture&#x27;]</pre></div></div></div><div class=\"sk-serial\"><div class=\"sk-item\"><div class=\"sk-serial\"><div class=\"sk-item\"><div class=\"sk-estimator sk-toggleable\"><input class=\"sk-toggleable__control sk-hidden--visually\" id=\"sk-estimator-id-49\" type=\"checkbox\" ><label for=\"sk-estimator-id-49\" class=\"sk-toggleable__label sk-toggleable__label-arrow\">SimpleImputer</label><div class=\"sk-toggleable__content\"><pre>SimpleImputer(strategy=&#x27;median&#x27;)</pre></div></div></div><div class=\"sk-item\"><div class=\"sk-estimator sk-toggleable\"><input class=\"sk-toggleable__control sk-hidden--visually\" id=\"sk-estimator-id-50\" type=\"checkbox\" ><label for=\"sk-estimator-id-50\" class=\"sk-toggleable__label sk-toggleable__label-arrow\">MinMaxScaler</label><div class=\"sk-toggleable__content\"><pre>MinMaxScaler()</pre></div></div></div></div></div></div></div></div><div class=\"sk-parallel-item\"><div class=\"sk-item\"><div class=\"sk-label-container\"><div class=\"sk-label sk-toggleable\"><input class=\"sk-toggleable__control sk-hidden--visually\" id=\"sk-estimator-id-51\" type=\"checkbox\" ><label for=\"sk-estimator-id-51\" class=\"sk-toggleable__label sk-toggleable__label-arrow\">preprocessing kategori</label><div class=\"sk-toggleable__content\"><pre>[&#x27;nilai_kalor&#x27;]</pre></div></div></div><div class=\"sk-serial\"><div class=\"sk-item\"><div class=\"sk-serial\"><div class=\"sk-item\"><div class=\"sk-estimator sk-toggleable\"><input class=\"sk-toggleable__control sk-hidden--visually\" id=\"sk-estimator-id-52\" type=\"checkbox\" ><label for=\"sk-estimator-id-52\" class=\"sk-toggleable__label sk-toggleable__label-arrow\">SimpleImputer</label><div class=\"sk-toggleable__content\"><pre>SimpleImputer(fill_value=&#x27;missing&#x27;, strategy=&#x27;constant&#x27;)</pre></div></div></div><div class=\"sk-item\"><div class=\"sk-estimator sk-toggleable\"><input class=\"sk-toggleable__control sk-hidden--visually\" id=\"sk-estimator-id-53\" type=\"checkbox\" ><label for=\"sk-estimator-id-53\" class=\"sk-toggleable__label sk-toggleable__label-arrow\">OneHotEncoder</label><div class=\"sk-toggleable__content\"><pre>OneHotEncoder(drop=&#x27;first&#x27;, handle_unknown=&#x27;ignore&#x27;)</pre></div></div></div></div></div></div></div></div></div></div><div class=\"sk-item\"><div class=\"sk-estimator sk-toggleable\"><input class=\"sk-toggleable__control sk-hidden--visually\" id=\"sk-estimator-id-54\" type=\"checkbox\" ><label for=\"sk-estimator-id-54\" class=\"sk-toggleable__label sk-toggleable__label-arrow\">Lasso</label><div class=\"sk-toggleable__content\"><pre>Lasso(alpha=0.01, max_iter=2000)</pre></div></div></div></div></div></div></div>"
      ],
      "text/plain": [
       "Pipeline(steps=[('preprocessing',\n",
       "                 ColumnTransformer(transformers=[('preprocessing numerik',\n",
       "                                                  Pipeline(steps=[('imputasi',\n",
       "                                                                   SimpleImputer(strategy='median')),\n",
       "                                                                  ('scaling',\n",
       "                                                                   MinMaxScaler())]),\n",
       "                                                  ['co', 'co2', 'out_generator',\n",
       "                                                   'sfc', 'eco_gas_out_temp',\n",
       "                                                   'pa_flow', 'o2', 'fuel_temp',\n",
       "                                                   'sa_flow', 'carbon',\n",
       "                                                   'hydrogen', 'nitrogen',\n",
       "                                                   'sulfur', 'ash',\n",
       "                                                   'total_moisture', 'oxygen',\n",
       "                                                   'surface_moisture',\n",
       "                                                   'inherent_moisture']),\n",
       "                                                 ('preprocessing kategori',\n",
       "                                                  Pipeline(steps=[('imputasi',\n",
       "                                                                   SimpleImputer(fill_value='missing',\n",
       "                                                                                 strategy='constant')),\n",
       "                                                                  ('encoding',\n",
       "                                                                   OneHotEncoder(drop='first',\n",
       "                                                                                 handle_unknown='ignore'))]),\n",
       "                                                  ['nilai_kalor'])])),\n",
       "                ('regresi lasso', Lasso(alpha=0.01, max_iter=2000))])"
      ]
     },
     "execution_count": 106,
     "metadata": {},
     "output_type": "execute_result"
    }
   ],
   "source": [
    "# Mengeksekusi Pipeline akhir\n",
    "model_reg.fit(X_train, y_train)"
   ]
  },
  {
   "cell_type": "code",
   "execution_count": 107,
   "id": "ebddbb62-9599-4aae-a5a5-f2074ebbb451",
   "metadata": {},
   "outputs": [
    {
     "data": {
      "text/plain": [
       "array([0.71442358, 0.49550028, 0.38946012, 0.40282098, 0.49011328,\n",
       "       0.51738139, 0.43374904, 0.54895828, 0.51098181, 0.45602615,\n",
       "       0.49340785, 1.08950015, 0.34460709, 0.51137252, 0.53513189,\n",
       "       0.52986896, 0.57329439, 0.50698016, 0.5018829 , 0.59460802,\n",
       "       0.46091674, 0.38163862, 0.42560175, 0.53152705, 0.41299953,\n",
       "       0.50428823, 0.53253095, 0.62831323, 0.39688739, 0.619017  ,\n",
       "       0.53384293, 0.9145    , 0.37124616, 0.57879331, 0.68780753,\n",
       "       0.62347321, 0.53243162, 0.43417094, 0.61063979, 0.48277398,\n",
       "       0.5545836 , 0.5475511 , 0.51877823, 0.56791275, 0.95450006,\n",
       "       0.45780382, 0.59048961, 0.6313363 , 0.56908775, 0.4263587 ,\n",
       "       0.56669242, 0.53239438, 0.51493719, 0.57806832, 0.58413632,\n",
       "       0.77157709, 0.55819021, 0.89999983, 0.47992603])"
      ]
     },
     "execution_count": 107,
     "metadata": {},
     "output_type": "execute_result"
    }
   ],
   "source": [
    "# Mencoba memprediksi training set\n",
    "model_reg.predict(X_train)"
   ]
  },
  {
   "cell_type": "markdown",
   "id": "1d91f8a2-be4b-4df6-a924-9baf5cb105ae",
   "metadata": {},
   "source": [
    "Untuk melihat koefisien intercept dan koefisien variabel independen lainnya, kita menggunakan cara yang berbeda untuk Pipeline, di mana kita harus menuliskan nama *step*nya di Pipeline."
   ]
  },
  {
   "cell_type": "code",
   "execution_count": 108,
   "id": "d37e724e-28ec-47d9-a2d0-ca45b8ea9f47",
   "metadata": {},
   "outputs": [
    {
     "name": "stdout",
     "output_type": "stream",
     "text": [
      "0.6415140842974455\n",
      "[-0.          0.         -0.         -0.         -0.         -0.28317581\n",
      "  0.         -0.08530436 -0.0393901   0.19996964 -0.          0.\n",
      " -0.          0.         -0.         -0.01967439 -0.         -0.\n",
      "  0.42723944 -0.         -0.         -0.         -0.         -0.\n",
      "  0.         -0.         -0.         -0.         -0.         -0.\n",
      "  0.         -0.         -0.         -0.          0.459886    0.\n",
      "  0.         -0.          0.          0.         -0.         -0.\n",
      "  0.23230308 -0.         -0.         -0.         -0.         -0.\n",
      "  0.         -0.         -0.         -0.          0.         -0.\n",
      " -0.         -0.         -0.         -0.          0.45330272  0.\n",
      "  0.         -0.          0.         -0.          0.         -0.\n",
      "  0.          0.          0.          0.39418063 -0.         -0.\n",
      " -0.          0.         -0.        ]\n"
     ]
    }
   ],
   "source": [
    "# Melihat intercept\n",
    "print(model_reg['regresi lasso'].intercept_)\n",
    "\n",
    "# Melihat koefisien\n",
    "print(model_reg['regresi lasso'].coef_)"
   ]
  },
  {
   "cell_type": "code",
   "execution_count": 109,
   "id": "938ec824-c947-4964-b76f-e5970fbfddae",
   "metadata": {},
   "outputs": [
    {
     "name": "stdout",
     "output_type": "stream",
     "text": [
      "['preprocessing numerik__co' 'preprocessing numerik__co2'\n",
      " 'preprocessing numerik__out_generator' 'preprocessing numerik__sfc'\n",
      " 'preprocessing numerik__eco_gas_out_temp'\n",
      " 'preprocessing numerik__pa_flow' 'preprocessing numerik__o2'\n",
      " 'preprocessing numerik__fuel_temp' 'preprocessing numerik__sa_flow'\n",
      " 'preprocessing numerik__carbon' 'preprocessing numerik__hydrogen'\n",
      " 'preprocessing numerik__nitrogen' 'preprocessing numerik__sulfur'\n",
      " 'preprocessing numerik__ash' 'preprocessing numerik__total_moisture'\n",
      " 'preprocessing numerik__oxygen' 'preprocessing numerik__surface_moisture'\n",
      " 'preprocessing numerik__inherent_moisture'\n",
      " 'preprocessing kategori__nilai_kalor_3598.57'\n",
      " 'preprocessing kategori__nilai_kalor_3677.49456'\n",
      " 'preprocessing kategori__nilai_kalor_3697.709076'\n",
      " 'preprocessing kategori__nilai_kalor_3771.795399'\n",
      " 'preprocessing kategori__nilai_kalor_3813.040009'\n",
      " 'preprocessing kategori__nilai_kalor_3831.060664'\n",
      " 'preprocessing kategori__nilai_kalor_3877.577092'\n",
      " 'preprocessing kategori__nilai_kalor_3906.545288'\n",
      " 'preprocessing kategori__nilai_kalor_3912.000016'\n",
      " 'preprocessing kategori__nilai_kalor_3947.754754'\n",
      " 'preprocessing kategori__nilai_kalor_3979.206672'\n",
      " 'preprocessing kategori__nilai_kalor_3979.531998'\n",
      " 'preprocessing kategori__nilai_kalor_3982.426186'\n",
      " 'preprocessing kategori__nilai_kalor_3984.455'\n",
      " 'preprocessing kategori__nilai_kalor_3993.937391'\n",
      " 'preprocessing kategori__nilai_kalor_4002.608435'\n",
      " 'preprocessing kategori__nilai_kalor_4047.91761'\n",
      " 'preprocessing kategori__nilai_kalor_4050'\n",
      " 'preprocessing kategori__nilai_kalor_4073.933954'\n",
      " 'preprocessing kategori__nilai_kalor_4082.712779'\n",
      " 'preprocessing kategori__nilai_kalor_4082.939271'\n",
      " 'preprocessing kategori__nilai_kalor_4093.227914'\n",
      " 'preprocessing kategori__nilai_kalor_4102.137031'\n",
      " 'preprocessing kategori__nilai_kalor_4109.103579'\n",
      " 'preprocessing kategori__nilai_kalor_4134.120869'\n",
      " 'preprocessing kategori__nilai_kalor_4136.473491'\n",
      " 'preprocessing kategori__nilai_kalor_4138.056394'\n",
      " 'preprocessing kategori__nilai_kalor_4144'\n",
      " 'preprocessing kategori__nilai_kalor_4165.916534'\n",
      " 'preprocessing kategori__nilai_kalor_4171'\n",
      " 'preprocessing kategori__nilai_kalor_4173.735311'\n",
      " 'preprocessing kategori__nilai_kalor_4204'\n",
      " 'preprocessing kategori__nilai_kalor_4223.16'\n",
      " 'preprocessing kategori__nilai_kalor_4223.769872'\n",
      " 'preprocessing kategori__nilai_kalor_4270.433185'\n",
      " 'preprocessing kategori__nilai_kalor_4318'\n",
      " 'preprocessing kategori__nilai_kalor_4329.451993'\n",
      " 'preprocessing kategori__nilai_kalor_4330.680727'\n",
      " 'preprocessing kategori__nilai_kalor_4369.295871'\n",
      " 'preprocessing kategori__nilai_kalor_4385.400982'\n",
      " 'preprocessing kategori__nilai_kalor_4398'\n",
      " 'preprocessing kategori__nilai_kalor_4410.367329'\n",
      " 'preprocessing kategori__nilai_kalor_4420.600906'\n",
      " 'preprocessing kategori__nilai_kalor_4461.899765'\n",
      " 'preprocessing kategori__nilai_kalor_4467'\n",
      " 'preprocessing kategori__nilai_kalor_4575.316736'\n",
      " 'preprocessing kategori__nilai_kalor_4578.137136'\n",
      " 'preprocessing kategori__nilai_kalor_4591'\n",
      " 'preprocessing kategori__nilai_kalor_4592.569358'\n",
      " 'preprocessing kategori__nilai_kalor_4599.993082'\n",
      " 'preprocessing kategori__nilai_kalor_4733.346453'\n",
      " 'preprocessing kategori__nilai_kalor_4739.94189'\n",
      " 'preprocessing kategori__nilai_kalor_4771.217799'\n",
      " 'preprocessing kategori__nilai_kalor_4920.257913'\n",
      " 'preprocessing kategori__nilai_kalor_4927.289678'\n",
      " 'preprocessing kategori__nilai_kalor_4928'\n",
      " 'preprocessing kategori__nilai_kalor_4952.03']\n"
     ]
    }
   ],
   "source": [
    "# Melihat nama kolom preprocessing\n",
    "print(model_reg['preprocessing'].get_feature_names_out())"
   ]
  },
  {
   "cell_type": "code",
   "execution_count": 110,
   "id": "1ca76b97-1e75-47d2-8fa0-bf93d1ddc558",
   "metadata": {
    "colab": {
     "base_uri": "https://localhost:8080/"
    },
    "executionInfo": {
     "elapsed": 356,
     "status": "ok",
     "timestamp": 1667549768272,
     "user": {
      "displayName": "Mega Bagus Herlambang",
      "userId": "03891521875432168268"
     },
     "user_tz": -420
    },
    "id": "fcNf9OBuic4-",
    "outputId": "308ff9e4-cf21-4bb8-89a5-d47963698e9f"
   },
   "outputs": [
    {
     "name": "stdout",
     "output_type": "stream",
     "text": [
      "unburn carbon =  0.6415140842974455 + -0.0 * preprocessing numerik__co + 0.0 * preprocessing numerik__co2 + -0.0 * preprocessing numerik__out_generator + -0.0 * preprocessing numerik__sfc + -0.0 * preprocessing numerik__eco_gas_out_temp\n"
     ]
    }
   ],
   "source": [
    "# Menulis secara runut model regresi\n",
    "print('unburn carbon = ',model_reg['regresi lasso'].intercept_,'+',\n",
    "      model_reg['regresi lasso'].coef_[0],'*',model_reg['preprocessing'].get_feature_names_out()[0],'+',\n",
    "      model_reg['regresi lasso'].coef_[1],'*',model_reg['preprocessing'].get_feature_names_out()[1],'+',\n",
    "      model_reg['regresi lasso'].coef_[2],'*',model_reg['preprocessing'].get_feature_names_out()[2],'+',\n",
    "      model_reg['regresi lasso'].coef_[3],'*',model_reg['preprocessing'].get_feature_names_out()[3],'+',\n",
    "      model_reg['regresi lasso'].coef_[4],'*',model_reg['preprocessing'].get_feature_names_out()[4])"
   ]
  },
  {
   "cell_type": "markdown",
   "id": "83d58688-caaf-49a0-a4ee-2e276ee8f2d6",
   "metadata": {},
   "source": [
    "Hasil penulisan dari penggunaan Pipeline agak sedikit berbeda di mana ada tambahan prefiks nama preprocessor-nya sehingga harus disesuaikan kembali."
   ]
  },
  {
   "cell_type": "markdown",
   "id": "83080a60-e2a1-46e6-a094-dafa3568ebe5",
   "metadata": {
    "id": "H5t8ifK3Kxqh"
   },
   "source": [
    "Dengan formula di atas, maka kita bisa memprediksi Profit sebuah startup cukup hanya dengan mengisikan nilai dari setiap variabel independennya.\n",
    "\n",
    "Formula di atas adalah model regresi dalam bentuk formula matematis. Model ini dibangun melalui pembelajaran data-data yang ada di training set."
   ]
  },
  {
   "cell_type": "markdown",
   "id": "559dd725-e377-459e-9e7b-303fa71ce3b1",
   "metadata": {
    "id": "0g81UA3N3bvU"
   },
   "source": [
    "## 4. Evaluasi Model"
   ]
  },
  {
   "cell_type": "markdown",
   "id": "f067aea6-3482-4487-924f-064020b66eba",
   "metadata": {
    "id": "1nuzGGgDQUe5"
   },
   "source": [
    "Sekarang kita akan coba menggunakan formula di atas untuk memprediksi nilai Profit yang ada di training set menggunakan variabel independen di training set, kemudian nanti membandingkan hasilnya dengan y_train."
   ]
  },
  {
   "cell_type": "markdown",
   "id": "53cac480-ca31-4882-b7f0-bdd460f46cbc",
   "metadata": {
    "id": "9LiTgjdV3k2d"
   },
   "source": [
    "#### Evaluasi di Training Set"
   ]
  },
  {
   "cell_type": "code",
   "execution_count": 111,
   "id": "b5fb6e40-7e23-4147-bfbd-e5e0ea32702e",
   "metadata": {
    "executionInfo": {
     "elapsed": 556,
     "status": "ok",
     "timestamp": 1667549771806,
     "user": {
      "displayName": "Mega Bagus Herlambang",
      "userId": "03891521875432168268"
     },
     "user_tz": -420
    },
    "id": "rhBPhLn3_A_L"
   },
   "outputs": [],
   "source": [
    "# Memprediksi X_train dan membandingkannya hasilnya dengan y_train\n",
    "pred_train = model_reg.predict(X_train)"
   ]
  },
  {
   "cell_type": "code",
   "execution_count": 112,
   "id": "a410d062-25f4-448f-be5e-61dbfb7829b4",
   "metadata": {
    "colab": {
     "base_uri": "https://localhost:8080/",
     "height": 206
    },
    "executionInfo": {
     "elapsed": 15,
     "status": "ok",
     "timestamp": 1667549773511,
     "user": {
      "displayName": "Mega Bagus Herlambang",
      "userId": "03891521875432168268"
     },
     "user_tz": -420
    },
    "id": "tquGFda7_UhZ",
    "outputId": "ca999888-7802-47cc-9624-2033b8168b9d"
   },
   "outputs": [
    {
     "data": {
      "text/html": [
       "<div>\n",
       "<style scoped>\n",
       "    .dataframe tbody tr th:only-of-type {\n",
       "        vertical-align: middle;\n",
       "    }\n",
       "\n",
       "    .dataframe tbody tr th {\n",
       "        vertical-align: top;\n",
       "    }\n",
       "\n",
       "    .dataframe thead th {\n",
       "        text-align: right;\n",
       "    }\n",
       "</style>\n",
       "<table border=\"1\" class=\"dataframe\">\n",
       "  <thead>\n",
       "    <tr style=\"text-align: right;\">\n",
       "      <th></th>\n",
       "      <th>unburn_carbon</th>\n",
       "    </tr>\n",
       "  </thead>\n",
       "  <tbody>\n",
       "    <tr>\n",
       "      <th>0</th>\n",
       "      <td>0.714424</td>\n",
       "    </tr>\n",
       "    <tr>\n",
       "      <th>1</th>\n",
       "      <td>0.495500</td>\n",
       "    </tr>\n",
       "    <tr>\n",
       "      <th>2</th>\n",
       "      <td>0.389460</td>\n",
       "    </tr>\n",
       "    <tr>\n",
       "      <th>3</th>\n",
       "      <td>0.402821</td>\n",
       "    </tr>\n",
       "    <tr>\n",
       "      <th>4</th>\n",
       "      <td>0.490113</td>\n",
       "    </tr>\n",
       "  </tbody>\n",
       "</table>\n",
       "</div>"
      ],
      "text/plain": [
       "   unburn_carbon\n",
       "0       0.714424\n",
       "1       0.495500\n",
       "2       0.389460\n",
       "3       0.402821\n",
       "4       0.490113"
      ]
     },
     "execution_count": 112,
     "metadata": {},
     "output_type": "execute_result"
    }
   ],
   "source": [
    "# Hasil prediksi training set\n",
    "pred_train = pd.DataFrame(pred_train, columns=['unburn_carbon'])\n",
    "pred_train.head()"
   ]
  },
  {
   "cell_type": "code",
   "execution_count": 113,
   "id": "a0abf03e-50b9-4a0f-ba7d-06dc8a8167cc",
   "metadata": {
    "colab": {
     "base_uri": "https://localhost:8080/"
    },
    "executionInfo": {
     "elapsed": 509,
     "status": "ok",
     "timestamp": 1667549776492,
     "user": {
      "displayName": "Mega Bagus Herlambang",
      "userId": "03891521875432168268"
     },
     "user_tz": -420
    },
    "id": "7ZM6WT3zHqLq",
    "outputId": "a9e1d2cb-fbac-466e-8d2d-bfc9f5947263"
   },
   "outputs": [
    {
     "data": {
      "text/plain": [
       "0    1.237\n",
       "1    0.490\n",
       "2    0.082\n",
       "3    0.346\n",
       "4    0.262\n",
       "Name: unburn_carbon, dtype: float64"
      ]
     },
     "execution_count": 113,
     "metadata": {},
     "output_type": "execute_result"
    }
   ],
   "source": [
    "# Mereset index y_train\n",
    "y_train = y_train.reset_index(drop=True)\n",
    "y_train.head()"
   ]
  },
  {
   "cell_type": "code",
   "execution_count": 114,
   "id": "5e50718b-9e19-40a1-8a2d-e312ebbe9242",
   "metadata": {
    "colab": {
     "base_uri": "https://localhost:8080/",
     "height": 206
    },
    "executionInfo": {
     "elapsed": 352,
     "status": "ok",
     "timestamp": 1667549778562,
     "user": {
      "displayName": "Mega Bagus Herlambang",
      "userId": "03891521875432168268"
     },
     "user_tz": -420
    },
    "id": "RvWRcXH2ISu4",
    "outputId": "4d1dab9c-439e-4969-d3d8-44dc3d62fe6e"
   },
   "outputs": [
    {
     "data": {
      "text/html": [
       "<div>\n",
       "<style scoped>\n",
       "    .dataframe tbody tr th:only-of-type {\n",
       "        vertical-align: middle;\n",
       "    }\n",
       "\n",
       "    .dataframe tbody tr th {\n",
       "        vertical-align: top;\n",
       "    }\n",
       "\n",
       "    .dataframe thead th {\n",
       "        text-align: right;\n",
       "    }\n",
       "</style>\n",
       "<table border=\"1\" class=\"dataframe\">\n",
       "  <thead>\n",
       "    <tr style=\"text-align: right;\">\n",
       "      <th></th>\n",
       "      <th>Prediksi</th>\n",
       "      <th>Asli</th>\n",
       "      <th>Error</th>\n",
       "    </tr>\n",
       "  </thead>\n",
       "  <tbody>\n",
       "    <tr>\n",
       "      <th>0</th>\n",
       "      <td>0.714424</td>\n",
       "      <td>1.237</td>\n",
       "      <td>0.522576</td>\n",
       "    </tr>\n",
       "    <tr>\n",
       "      <th>1</th>\n",
       "      <td>0.495500</td>\n",
       "      <td>0.490</td>\n",
       "      <td>0.005500</td>\n",
       "    </tr>\n",
       "    <tr>\n",
       "      <th>2</th>\n",
       "      <td>0.389460</td>\n",
       "      <td>0.082</td>\n",
       "      <td>0.307460</td>\n",
       "    </tr>\n",
       "    <tr>\n",
       "      <th>3</th>\n",
       "      <td>0.402821</td>\n",
       "      <td>0.346</td>\n",
       "      <td>0.056821</td>\n",
       "    </tr>\n",
       "    <tr>\n",
       "      <th>4</th>\n",
       "      <td>0.490113</td>\n",
       "      <td>0.262</td>\n",
       "      <td>0.228113</td>\n",
       "    </tr>\n",
       "  </tbody>\n",
       "</table>\n",
       "</div>"
      ],
      "text/plain": [
       "   Prediksi   Asli     Error\n",
       "0  0.714424  1.237  0.522576\n",
       "1  0.495500  0.490  0.005500\n",
       "2  0.389460  0.082  0.307460\n",
       "3  0.402821  0.346  0.056821\n",
       "4  0.490113  0.262  0.228113"
      ]
     },
     "execution_count": 114,
     "metadata": {},
     "output_type": "execute_result"
    }
   ],
   "source": [
    "# Membandingkan 2 numpy array (kita gunakan np.column_stack untuk menggabungkan kedua array ini)\n",
    "banding_train = pd.DataFrame(np.column_stack((pred_train, pd.DataFrame(y_train), abs(pred_train - pd.DataFrame(y_train)))), columns=['Prediksi', 'Asli', 'Error'])\n",
    "banding_train.head()"
   ]
  },
  {
   "cell_type": "markdown",
   "id": "ee640787-46a1-40d4-991f-c03eb1eaae95",
   "metadata": {
    "id": "DBufAfc7N4ow"
   },
   "source": [
    "Kolom error menunjukkan selisih antara nilai prediksi di training set dengan nilai Profit asli di training set."
   ]
  },
  {
   "cell_type": "code",
   "execution_count": 115,
   "id": "b1774e8d-cf76-4a27-b375-27325cbe6060",
   "metadata": {
    "colab": {
     "base_uri": "https://localhost:8080/",
     "height": 300
    },
    "executionInfo": {
     "elapsed": 453,
     "status": "ok",
     "timestamp": 1667549781599,
     "user": {
      "displayName": "Mega Bagus Herlambang",
      "userId": "03891521875432168268"
     },
     "user_tz": -420
    },
    "id": "ByHxcpmA3Jt0",
    "outputId": "326ec538-58cc-4569-e894-71f49cd5ec81"
   },
   "outputs": [
    {
     "data": {
      "text/html": [
       "<div>\n",
       "<style scoped>\n",
       "    .dataframe tbody tr th:only-of-type {\n",
       "        vertical-align: middle;\n",
       "    }\n",
       "\n",
       "    .dataframe tbody tr th {\n",
       "        vertical-align: top;\n",
       "    }\n",
       "\n",
       "    .dataframe thead th {\n",
       "        text-align: right;\n",
       "    }\n",
       "</style>\n",
       "<table border=\"1\" class=\"dataframe\">\n",
       "  <thead>\n",
       "    <tr style=\"text-align: right;\">\n",
       "      <th></th>\n",
       "      <th>Prediksi</th>\n",
       "      <th>Asli</th>\n",
       "      <th>Error</th>\n",
       "    </tr>\n",
       "  </thead>\n",
       "  <tbody>\n",
       "    <tr>\n",
       "      <th>count</th>\n",
       "      <td>59.000000</td>\n",
       "      <td>59.000000</td>\n",
       "      <td>59.000000</td>\n",
       "    </tr>\n",
       "    <tr>\n",
       "      <th>mean</th>\n",
       "      <td>0.552674</td>\n",
       "      <td>0.552674</td>\n",
       "      <td>0.257659</td>\n",
       "    </tr>\n",
       "    <tr>\n",
       "      <th>std</th>\n",
       "      <td>0.140707</td>\n",
       "      <td>0.415950</td>\n",
       "      <td>0.181382</td>\n",
       "    </tr>\n",
       "    <tr>\n",
       "      <th>min</th>\n",
       "      <td>0.344607</td>\n",
       "      <td>0.026959</td>\n",
       "      <td>0.001000</td>\n",
       "    </tr>\n",
       "    <tr>\n",
       "      <th>25%</th>\n",
       "      <td>0.481350</td>\n",
       "      <td>0.236500</td>\n",
       "      <td>0.090444</td>\n",
       "    </tr>\n",
       "    <tr>\n",
       "      <th>50%</th>\n",
       "      <td>0.532394</td>\n",
       "      <td>0.490000</td>\n",
       "      <td>0.252387</td>\n",
       "    </tr>\n",
       "    <tr>\n",
       "      <th>75%</th>\n",
       "      <td>0.581465</td>\n",
       "      <td>0.788750</td>\n",
       "      <td>0.386947</td>\n",
       "    </tr>\n",
       "    <tr>\n",
       "      <th>max</th>\n",
       "      <td>1.089500</td>\n",
       "      <td>1.679500</td>\n",
       "      <td>0.590000</td>\n",
       "    </tr>\n",
       "  </tbody>\n",
       "</table>\n",
       "</div>"
      ],
      "text/plain": [
       "        Prediksi       Asli      Error\n",
       "count  59.000000  59.000000  59.000000\n",
       "mean    0.552674   0.552674   0.257659\n",
       "std     0.140707   0.415950   0.181382\n",
       "min     0.344607   0.026959   0.001000\n",
       "25%     0.481350   0.236500   0.090444\n",
       "50%     0.532394   0.490000   0.252387\n",
       "75%     0.581465   0.788750   0.386947\n",
       "max     1.089500   1.679500   0.590000"
      ]
     },
     "execution_count": 115,
     "metadata": {},
     "output_type": "execute_result"
    }
   ],
   "source": [
    "# Menghitung nilai rata-rata dari error yang sudah dibuat absolut (MAE = Mean absolute error)\n",
    "banding_train.describe()"
   ]
  },
  {
   "cell_type": "markdown",
   "id": "e906b942-ef8c-4127-bb8e-39a924426a20",
   "metadata": {
    "id": "9zSrOTbn3UWt"
   },
   "source": [
    "Nilai MAE adalah 6341.26"
   ]
  },
  {
   "cell_type": "code",
   "execution_count": 116,
   "id": "cde5c319-d8d6-4f48-abe7-49607cadbb91",
   "metadata": {
    "colab": {
     "base_uri": "https://localhost:8080/",
     "height": 301
    },
    "executionInfo": {
     "elapsed": 469,
     "status": "ok",
     "timestamp": 1667549785522,
     "user": {
      "displayName": "Mega Bagus Herlambang",
      "userId": "03891521875432168268"
     },
     "user_tz": -420
    },
    "id": "KDCgWDxHJ7UD",
    "outputId": "3336a522-dd27-4805-c1a8-82db0769accb"
   },
   "outputs": [
    {
     "data": {
      "image/png": "[encoded data removed]",
      "text/plain": [
       "<Figure size 640x480 with 1 Axes>"
      ]
     },
     "metadata": {},
     "output_type": "display_data"
    }
   ],
   "source": [
    "# Membuat plot antara pred_train dengan y_train\n",
    "plt.scatter(pred_train, y_train, color='green')\n",
    "m, b = np.polyfit(pred_train.squeeze(), y_train.squeeze(), 1)     # method squeeze adalah merubah Pandas DataFrame menjadi Pandas Series\n",
    "plt.plot(pred_train, m*pred_train+b, color='red')\n",
    "plt.title('Perbandingan prediksi dan data asli Training Set')\n",
    "plt.xlabel('Prediksi')\n",
    "plt.ylabel('Asli')\n",
    "plt.show()"
   ]
  },
  {
   "cell_type": "markdown",
   "id": "0a81f03d-314e-4c10-89fa-f103d1e8b04c",
   "metadata": {
    "id": "EY_LQfi2zwLa"
   },
   "source": [
    "#### Menghitung Metrics di Training Set"
   ]
  },
  {
   "cell_type": "markdown",
   "id": "dbf94026-933d-44bb-be7a-b84914319068",
   "metadata": {
    "id": "Wg6EpICrQnxR"
   },
   "source": [
    "Plot perbandingan antara prediksi training set (pred_train) dengan y_train memang tampak baik. Tapi kita harus bisa meng-kuantifikasikan baik tidaknya sebuah model. Caranya adalah dengan menghitung nilai error-nya sekaligus menghitung nilai *coefficient of determination* (R2)."
   ]
  },
  {
   "cell_type": "code",
   "execution_count": 117,
   "id": "04844e9a-1c8c-4233-908c-65616c2723a4",
   "metadata": {
    "colab": {
     "base_uri": "https://localhost:8080/"
    },
    "executionInfo": {
     "elapsed": 559,
     "status": "ok",
     "timestamp": 1667549789253,
     "user": {
      "displayName": "Mega Bagus Herlambang",
      "userId": "03891521875432168268"
     },
     "user_tz": -420
    },
    "id": "WdiMklgaozca",
    "outputId": "3f41c2f1-e65a-4b30-d3bf-adddbdbefce3"
   },
   "outputs": [
    {
     "name": "stdout",
     "output_type": "stream",
     "text": [
      "MAE = 0.26\n",
      "MSE = 0.10\n",
      "RMSE = 0.31\n",
      "R2 = 0.42\n"
     ]
    }
   ],
   "source": [
    "# Menghitung nilai error (MAE, MSE, RMSE) di Training Set\n",
    "from sklearn import metrics\n",
    "print('MAE = {0:.2f}'.format(metrics.mean_absolute_error(y_train, pred_train)))           # MAE adalah nilai error rata-rata seperti yang ada di tabel banding_train\n",
    "print('MSE = {0:.2f}'.format(metrics.mean_squared_error(y_train, pred_train)))            # penulisan {0:.2f} adalah untuk menuliskan 2 angka di belakang koma\n",
    "print('RMSE = {0:.2f}'.format(np.sqrt(metrics.mean_squared_error(y_train, pred_train))))\n",
    "print('R2 = {0:.2f}'.format(metrics.r2_score(y_train, pred_train)))"
   ]
  },
  {
   "cell_type": "code",
   "execution_count": 118,
   "id": "e4c7886c-475e-4509-8282-38fc6ba39cbc",
   "metadata": {
    "colab": {
     "base_uri": "https://localhost:8080/"
    },
    "executionInfo": {
     "elapsed": 348,
     "status": "ok",
     "timestamp": 1667549791726,
     "user": {
      "displayName": "Mega Bagus Herlambang",
      "userId": "03891521875432168268"
     },
     "user_tz": -420
    },
    "id": "Zw0QXyBpj8bO",
    "outputId": "b561e15e-6bc1-493b-82e8-6198fc627e0a"
   },
   "outputs": [
    {
     "name": "stdout",
     "output_type": "stream",
     "text": [
      "Coefficient of Determination (R2) = 0.42\n"
     ]
    }
   ],
   "source": [
    "# Cara lain menghitung R2\n",
    "R2 = model_reg.score(X_train, y_train)\n",
    "print('Coefficient of Determination (R2) = {0:.2f}'.format(R2))"
   ]
  },
  {
   "cell_type": "markdown",
   "id": "b88fc2ff-6486-4340-8fac-ffd78e2e2369",
   "metadata": {
    "id": "mWHebDZ6kOcZ"
   },
   "source": [
    "Nilai R2 artinya, model regresi kita dapat menjelaskan 95% variasi yang ada, maka bisa dikatakan performa model regresi kita sudah baik."
   ]
  },
  {
   "cell_type": "markdown",
   "id": "c83e5f84-785a-48f1-9aa2-32c2f3c4961d",
   "metadata": {
    "id": "ejcr1hjezrSx"
   },
   "source": [
    "#### Evaluasi di Test Set"
   ]
  },
  {
   "cell_type": "markdown",
   "id": "e114348e-7cf5-4cfc-a9ac-48f5eb733bad",
   "metadata": {
    "id": "Og233MSjLBff"
   },
   "source": [
    "Sekarang kita akan mencoba memprediksi data yang belum pernah dilihat oleh model regresi, yaitu nilai Profit yang ada di test set."
   ]
  },
  {
   "cell_type": "code",
   "execution_count": 119,
   "id": "5a8bd2ab-ca2f-440f-935b-fa8efdbfdeb7",
   "metadata": {
    "executionInfo": {
     "elapsed": 410,
     "status": "ok",
     "timestamp": 1667549802303,
     "user": {
      "displayName": "Mega Bagus Herlambang",
      "userId": "03891521875432168268"
     },
     "user_tz": -420
    },
    "id": "_7m7PbXEevYT"
   },
   "outputs": [
    {
     "name": "stderr",
     "output_type": "stream",
     "text": [
      "c:\\Users\\Hawlett-Packard\\anaconda3\\Lib\\site-packages\\sklearn\\preprocessing\\_encoders.py:202: UserWarning: Found unknown categories in columns [0] during transform. These unknown categories will be encoded as all zeros\n",
      "  warnings.warn(\n"
     ]
    }
   ],
   "source": [
    "# Memprediksi hasil Test set\n",
    "pred_test = model_reg.predict(X_test)"
   ]
  },
  {
   "cell_type": "code",
   "execution_count": 120,
   "id": "1268a3f5-529b-4b59-ac5d-0245d6341405",
   "metadata": {
    "colab": {
     "base_uri": "https://localhost:8080/",
     "height": 206
    },
    "executionInfo": {
     "elapsed": 13,
     "status": "ok",
     "timestamp": 1667549803881,
     "user": {
      "displayName": "Mega Bagus Herlambang",
      "userId": "03891521875432168268"
     },
     "user_tz": -420
    },
    "id": "f5Su8sRVlmW_",
    "outputId": "6f444257-e515-4f95-8704-17bc2461aaa8"
   },
   "outputs": [
    {
     "data": {
      "text/html": [
       "<div>\n",
       "<style scoped>\n",
       "    .dataframe tbody tr th:only-of-type {\n",
       "        vertical-align: middle;\n",
       "    }\n",
       "\n",
       "    .dataframe tbody tr th {\n",
       "        vertical-align: top;\n",
       "    }\n",
       "\n",
       "    .dataframe thead th {\n",
       "        text-align: right;\n",
       "    }\n",
       "</style>\n",
       "<table border=\"1\" class=\"dataframe\">\n",
       "  <thead>\n",
       "    <tr style=\"text-align: right;\">\n",
       "      <th></th>\n",
       "      <th>unburn_carbon</th>\n",
       "    </tr>\n",
       "  </thead>\n",
       "  <tbody>\n",
       "    <tr>\n",
       "      <th>0</th>\n",
       "      <td>0.448582</td>\n",
       "    </tr>\n",
       "    <tr>\n",
       "      <th>1</th>\n",
       "      <td>0.423244</td>\n",
       "    </tr>\n",
       "    <tr>\n",
       "      <th>2</th>\n",
       "      <td>0.522233</td>\n",
       "    </tr>\n",
       "    <tr>\n",
       "      <th>3</th>\n",
       "      <td>0.504288</td>\n",
       "    </tr>\n",
       "    <tr>\n",
       "      <th>4</th>\n",
       "      <td>0.605915</td>\n",
       "    </tr>\n",
       "  </tbody>\n",
       "</table>\n",
       "</div>"
      ],
      "text/plain": [
       "   unburn_carbon\n",
       "0       0.448582\n",
       "1       0.423244\n",
       "2       0.522233\n",
       "3       0.504288\n",
       "4       0.605915"
      ]
     },
     "execution_count": 120,
     "metadata": {},
     "output_type": "execute_result"
    }
   ],
   "source": [
    "# Hasil prediksi test set\n",
    "pred_test = pd.DataFrame(pred_test, columns=['unburn_carbon'])\n",
    "pred_test.head()"
   ]
  },
  {
   "cell_type": "code",
   "execution_count": 121,
   "id": "9e503189-cc01-4279-8ca9-c831c1ef9beb",
   "metadata": {
    "colab": {
     "base_uri": "https://localhost:8080/"
    },
    "executionInfo": {
     "elapsed": 356,
     "status": "ok",
     "timestamp": 1667549806255,
     "user": {
      "displayName": "Mega Bagus Herlambang",
      "userId": "03891521875432168268"
     },
     "user_tz": -420
    },
    "id": "NT8Wn9MHO0UP",
    "outputId": "a8c6bcc5-3bdf-4a72-f6ad-9c58303bf749"
   },
   "outputs": [
    {
     "data": {
      "text/plain": [
       "0    0.124\n",
       "1    0.262\n",
       "2    1.055\n",
       "3    1.065\n",
       "4    0.490\n",
       "Name: unburn_carbon, dtype: float64"
      ]
     },
     "execution_count": 121,
     "metadata": {},
     "output_type": "execute_result"
    }
   ],
   "source": [
    "# Mereset index y_test\n",
    "y_test = y_test.reset_index(drop=True)\n",
    "y_test.head()"
   ]
  },
  {
   "cell_type": "code",
   "execution_count": 122,
   "id": "d90dd71b-245c-4fe7-a664-8214eb7bf642",
   "metadata": {
    "colab": {
     "base_uri": "https://localhost:8080/",
     "height": 363
    },
    "executionInfo": {
     "elapsed": 551,
     "status": "ok",
     "timestamp": 1667549808546,
     "user": {
      "displayName": "Mega Bagus Herlambang",
      "userId": "03891521875432168268"
     },
     "user_tz": -420
    },
    "id": "tKIi2XZ5ltC5",
    "outputId": "3b0e023d-9e2c-4ca4-feed-a80a9bbb401c"
   },
   "outputs": [
    {
     "data": {
      "text/html": [
       "<div>\n",
       "<style scoped>\n",
       "    .dataframe tbody tr th:only-of-type {\n",
       "        vertical-align: middle;\n",
       "    }\n",
       "\n",
       "    .dataframe tbody tr th {\n",
       "        vertical-align: top;\n",
       "    }\n",
       "\n",
       "    .dataframe thead th {\n",
       "        text-align: right;\n",
       "    }\n",
       "</style>\n",
       "<table border=\"1\" class=\"dataframe\">\n",
       "  <thead>\n",
       "    <tr style=\"text-align: right;\">\n",
       "      <th></th>\n",
       "      <th>Prediksi</th>\n",
       "      <th>Asli</th>\n",
       "      <th>Error</th>\n",
       "    </tr>\n",
       "  </thead>\n",
       "  <tbody>\n",
       "    <tr>\n",
       "      <th>0</th>\n",
       "      <td>0.448582</td>\n",
       "      <td>0.1240</td>\n",
       "      <td>0.324582</td>\n",
       "    </tr>\n",
       "    <tr>\n",
       "      <th>1</th>\n",
       "      <td>0.423244</td>\n",
       "      <td>0.2620</td>\n",
       "      <td>0.161244</td>\n",
       "    </tr>\n",
       "    <tr>\n",
       "      <th>2</th>\n",
       "      <td>0.522233</td>\n",
       "      <td>1.0550</td>\n",
       "      <td>0.532767</td>\n",
       "    </tr>\n",
       "    <tr>\n",
       "      <th>3</th>\n",
       "      <td>0.504288</td>\n",
       "      <td>1.0650</td>\n",
       "      <td>0.560712</td>\n",
       "    </tr>\n",
       "    <tr>\n",
       "      <th>4</th>\n",
       "      <td>0.605915</td>\n",
       "      <td>0.4900</td>\n",
       "      <td>0.115915</td>\n",
       "    </tr>\n",
       "    <tr>\n",
       "      <th>5</th>\n",
       "      <td>0.489142</td>\n",
       "      <td>0.6420</td>\n",
       "      <td>0.152858</td>\n",
       "    </tr>\n",
       "    <tr>\n",
       "      <th>6</th>\n",
       "      <td>0.489643</td>\n",
       "      <td>0.7970</td>\n",
       "      <td>0.307357</td>\n",
       "    </tr>\n",
       "    <tr>\n",
       "      <th>7</th>\n",
       "      <td>0.532305</td>\n",
       "      <td>0.3050</td>\n",
       "      <td>0.227305</td>\n",
       "    </tr>\n",
       "    <tr>\n",
       "      <th>8</th>\n",
       "      <td>0.456997</td>\n",
       "      <td>0.8700</td>\n",
       "      <td>0.413003</td>\n",
       "    </tr>\n",
       "    <tr>\n",
       "      <th>9</th>\n",
       "      <td>0.625565</td>\n",
       "      <td>0.2820</td>\n",
       "      <td>0.343565</td>\n",
       "    </tr>\n",
       "    <tr>\n",
       "      <th>10</th>\n",
       "      <td>0.486964</td>\n",
       "      <td>0.4390</td>\n",
       "      <td>0.047964</td>\n",
       "    </tr>\n",
       "    <tr>\n",
       "      <th>11</th>\n",
       "      <td>0.526755</td>\n",
       "      <td>0.5810</td>\n",
       "      <td>0.054245</td>\n",
       "    </tr>\n",
       "    <tr>\n",
       "      <th>12</th>\n",
       "      <td>0.617222</td>\n",
       "      <td>1.0490</td>\n",
       "      <td>0.431778</td>\n",
       "    </tr>\n",
       "    <tr>\n",
       "      <th>13</th>\n",
       "      <td>0.462815</td>\n",
       "      <td>0.8390</td>\n",
       "      <td>0.376185</td>\n",
       "    </tr>\n",
       "    <tr>\n",
       "      <th>14</th>\n",
       "      <td>0.634915</td>\n",
       "      <td>0.4195</td>\n",
       "      <td>0.215415</td>\n",
       "    </tr>\n",
       "  </tbody>\n",
       "</table>\n",
       "</div>"
      ],
      "text/plain": [
       "    Prediksi    Asli     Error\n",
       "0   0.448582  0.1240  0.324582\n",
       "1   0.423244  0.2620  0.161244\n",
       "2   0.522233  1.0550  0.532767\n",
       "3   0.504288  1.0650  0.560712\n",
       "4   0.605915  0.4900  0.115915\n",
       "5   0.489142  0.6420  0.152858\n",
       "6   0.489643  0.7970  0.307357\n",
       "7   0.532305  0.3050  0.227305\n",
       "8   0.456997  0.8700  0.413003\n",
       "9   0.625565  0.2820  0.343565\n",
       "10  0.486964  0.4390  0.047964\n",
       "11  0.526755  0.5810  0.054245\n",
       "12  0.617222  1.0490  0.431778\n",
       "13  0.462815  0.8390  0.376185\n",
       "14  0.634915  0.4195  0.215415"
      ]
     },
     "execution_count": 122,
     "metadata": {},
     "output_type": "execute_result"
    }
   ],
   "source": [
    "# Membandingkan 2 numpy array (kita gunakan np.column_stack untuk menggabungkan kedua array ini)\n",
    "banding_test = pd.DataFrame(np.column_stack((pred_test, pd.DataFrame(y_test), abs(pred_test - pd.DataFrame(y_test)))), columns=['Prediksi', 'Asli', 'Error'])\n",
    "banding_test"
   ]
  },
  {
   "cell_type": "code",
   "execution_count": 123,
   "id": "7c9837ac-7f6b-453d-a566-30210bb40dc4",
   "metadata": {
    "colab": {
     "base_uri": "https://localhost:8080/",
     "height": 300
    },
    "executionInfo": {
     "elapsed": 12,
     "status": "ok",
     "timestamp": 1667549811846,
     "user": {
      "displayName": "Mega Bagus Herlambang",
      "userId": "03891521875432168268"
     },
     "user_tz": -420
    },
    "id": "PWHUAKrc80ty",
    "outputId": "fd35dcbf-bb70-4b0d-c3a0-22dd8cdb8491"
   },
   "outputs": [
    {
     "data": {
      "text/html": [
       "<div>\n",
       "<style scoped>\n",
       "    .dataframe tbody tr th:only-of-type {\n",
       "        vertical-align: middle;\n",
       "    }\n",
       "\n",
       "    .dataframe tbody tr th {\n",
       "        vertical-align: top;\n",
       "    }\n",
       "\n",
       "    .dataframe thead th {\n",
       "        text-align: right;\n",
       "    }\n",
       "</style>\n",
       "<table border=\"1\" class=\"dataframe\">\n",
       "  <thead>\n",
       "    <tr style=\"text-align: right;\">\n",
       "      <th></th>\n",
       "      <th>Prediksi</th>\n",
       "      <th>Asli</th>\n",
       "      <th>Error</th>\n",
       "    </tr>\n",
       "  </thead>\n",
       "  <tbody>\n",
       "    <tr>\n",
       "      <th>count</th>\n",
       "      <td>15.000000</td>\n",
       "      <td>15.000000</td>\n",
       "      <td>15.000000</td>\n",
       "    </tr>\n",
       "    <tr>\n",
       "      <th>mean</th>\n",
       "      <td>0.521772</td>\n",
       "      <td>0.614633</td>\n",
       "      <td>0.284326</td>\n",
       "    </tr>\n",
       "    <tr>\n",
       "      <th>std</th>\n",
       "      <td>0.068791</td>\n",
       "      <td>0.315342</td>\n",
       "      <td>0.162153</td>\n",
       "    </tr>\n",
       "    <tr>\n",
       "      <th>min</th>\n",
       "      <td>0.423244</td>\n",
       "      <td>0.124000</td>\n",
       "      <td>0.047964</td>\n",
       "    </tr>\n",
       "    <tr>\n",
       "      <th>25%</th>\n",
       "      <td>0.474890</td>\n",
       "      <td>0.362250</td>\n",
       "      <td>0.157051</td>\n",
       "    </tr>\n",
       "    <tr>\n",
       "      <th>50%</th>\n",
       "      <td>0.504288</td>\n",
       "      <td>0.581000</td>\n",
       "      <td>0.307357</td>\n",
       "    </tr>\n",
       "    <tr>\n",
       "      <th>75%</th>\n",
       "      <td>0.569110</td>\n",
       "      <td>0.854500</td>\n",
       "      <td>0.394594</td>\n",
       "    </tr>\n",
       "    <tr>\n",
       "      <th>max</th>\n",
       "      <td>0.634915</td>\n",
       "      <td>1.065000</td>\n",
       "      <td>0.560712</td>\n",
       "    </tr>\n",
       "  </tbody>\n",
       "</table>\n",
       "</div>"
      ],
      "text/plain": [
       "        Prediksi       Asli      Error\n",
       "count  15.000000  15.000000  15.000000\n",
       "mean    0.521772   0.614633   0.284326\n",
       "std     0.068791   0.315342   0.162153\n",
       "min     0.423244   0.124000   0.047964\n",
       "25%     0.474890   0.362250   0.157051\n",
       "50%     0.504288   0.581000   0.307357\n",
       "75%     0.569110   0.854500   0.394594\n",
       "max     0.634915   1.065000   0.560712"
      ]
     },
     "execution_count": 123,
     "metadata": {},
     "output_type": "execute_result"
    }
   ],
   "source": [
    "# Menghitung nilai rata-rata dari error yang sudah dibuat absolut di test set (MAE = Mean absolute error)\n",
    "banding_test.describe()"
   ]
  },
  {
   "cell_type": "markdown",
   "id": "fee37335-9f3a-4e72-9aa6-2b2424551f33",
   "metadata": {
    "id": "i6PIo5AF4VEE"
   },
   "source": [
    "Nilai MAE untuk di test set adalah 7509.57"
   ]
  },
  {
   "cell_type": "code",
   "execution_count": 124,
   "id": "9e2cbadf-9ff5-42c5-a915-4b2192b4673c",
   "metadata": {
    "colab": {
     "base_uri": "https://localhost:8080/",
     "height": 301
    },
    "executionInfo": {
     "elapsed": 488,
     "status": "ok",
     "timestamp": 1667549815150,
     "user": {
      "displayName": "Mega Bagus Herlambang",
      "userId": "03891521875432168268"
     },
     "user_tz": -420
    },
    "id": "TCeJWFOh2E8S",
    "outputId": "6bf76297-d67b-4317-d8d3-4f1159d7fa0d"
   },
   "outputs": [
    {
     "data": {
      "image/png": "[encoded data removed]",
      "text/plain": [
       "<Figure size 640x480 with 1 Axes>"
      ]
     },
     "metadata": {},
     "output_type": "display_data"
    }
   ],
   "source": [
    "# Membuat plot antara pred_test dengan y_test\n",
    "plt.scatter(pred_test, y_test, color='green')\n",
    "m, b = np.polyfit(pred_test.squeeze(), y_test.squeeze(), 1)     # method squeeze adalah merubah Pandas DataFrame menjadi Pandas Series\n",
    "plt.plot(pred_test, m*pred_test+b, color='red')\n",
    "plt.title('Perbandingan prediksi dan data asli Test Set')\n",
    "plt.xlabel('Prediksi')\n",
    "plt.ylabel('Asli')\n",
    "plt.show()"
   ]
  },
  {
   "cell_type": "markdown",
   "id": "1aa889ae-1dc9-4aef-b2b9-4e3b14dd0327",
   "metadata": {
    "id": "xq_NlavM4lQV"
   },
   "source": [
    "Terlihat melalui *scatter plot* di atas bahwa nilai prediksi di test set dengan nilai asli (Profit) di test set hampir sama. Hal ini ditunjukkan dengan titik-titik data di scatter plot (warna hijau) sangat mendekati garis diagonalnya (warna merah)."
   ]
  },
  {
   "cell_type": "markdown",
   "id": "5e449175-28be-4fae-b3e3-e4bf00d3c505",
   "metadata": {
    "id": "nOZa6TBA4iy9"
   },
   "source": [
    "#### Menghitung metrics di test set"
   ]
  },
  {
   "cell_type": "code",
   "execution_count": 125,
   "id": "9b5c47dd-909d-42cc-829b-ff8b3e3c17b3",
   "metadata": {
    "colab": {
     "base_uri": "https://localhost:8080/"
    },
    "executionInfo": {
     "elapsed": 8,
     "status": "ok",
     "timestamp": 1667550472294,
     "user": {
      "displayName": "Mega Bagus Herlambang",
      "userId": "03891521875432168268"
     },
     "user_tz": -420
    },
    "id": "EPnrLyWLVAxJ",
    "outputId": "80e910d3-d2d7-4bd3-c0cb-bbcb8bbd8dea"
   },
   "outputs": [
    {
     "name": "stdout",
     "output_type": "stream",
     "text": [
      "MAE = 0.28\n",
      "MSE = 0.11\n",
      "RMSE = 0.32\n",
      "R2 = -0.14\n"
     ]
    }
   ],
   "source": [
    "# Menghitung nilai error (MAE, MSE, RMSE) di Test Set\n",
    "print('MAE = {0:.2f}'.format(metrics.mean_absolute_error(y_test, pred_test)))           # MAE adalah nilai error rata-rata seperti yang ada di tabel banding_train\n",
    "print('MSE = {0:.2f}'.format(metrics.mean_squared_error(y_test, pred_test)))            # penulisan {0:.2f} adalah untuk menuliskan 2 angka di belakang koma\n",
    "print('RMSE = {0:.2f}'.format(np.sqrt(metrics.mean_squared_error(y_test, pred_test))))\n",
    "print('R2 = {0:.2f}'.format(metrics.r2_score(y_test, pred_test)))"
   ]
  },
  {
   "cell_type": "markdown",
   "id": "084846e0-68dc-42f7-ad9d-ff5bb827da15",
   "metadata": {
    "id": "5VM3_GwkVXAx"
   },
   "source": [
    "Bisa kita katakan bahwa performa model di Test Set sangatlah baik (sudah fit).\n",
    "\n",
    "Hal ini terlihat dari nilai R2 yang cukup tinggi di training set (0.95) dan tidak terlalu jauh dengan nilai R2 saat di test set (0.93). \n",
    "\n",
    "Kemudian untuk nilai RMSE di training set (9031) dengan RMSE di test set (9131) tidak terlalu jauh.\n",
    "\n",
    "Selain itu, secara visual, perbandingan antara nilai prediksi dengan nilai asli juga tidak terlalu jauh."
   ]
  },
  {
   "cell_type": "markdown",
   "id": "7319737c-2436-488d-8fa4-609983ebed1a",
   "metadata": {},
   "source": [
    "<br>"
   ]
  },
  {
   "cell_type": "markdown",
   "id": "b6cba9b9-b9a2-43dd-8870-4923fb429fdc",
   "metadata": {},
   "source": [
    "### Melakukan Evaluasi Dengan Cross Validation"
   ]
  },
  {
   "cell_type": "markdown",
   "id": "a1771205-13da-440c-b506-941a782abdf0",
   "metadata": {},
   "source": [
    "Proses evaluasi model yang kita lakukan sebelumnya adalah dengan membandingkan performa *training set* dengan *test set*. Dalam *domain machine learning* proses ini disebut dengan ***hold-out method***.\n",
    "\n",
    "Hal yang perlu dicatat, proses ini berarti hanya 1x evaluasi. \n",
    "\n",
    "Ilustrasi dari apa yang sudah kita lakukan adalah sebagai berikut:"
   ]
  },
  {
   "cell_type": "markdown",
   "id": "f1e617ea-27bd-4031-b14a-def70505596e",
   "metadata": {},
   "source": [
    "<a href=\"https://ibb.co/pvnxFJt\"><img src=\"https://i.ibb.co/JRCKJ5f/traintest.jpg\" alt=\"traintest\" border=\"0\"></a>"
   ]
  },
  {
   "cell_type": "markdown",
   "id": "a42e60ac-a0e4-4709-9c8e-4cdb226481bc",
   "metadata": {},
   "source": [
    "Kita menggunakan data *training* dengan proporsi 80%, kita hitung performanya, lalu kemudian kita bandingkan performa model yang sudah belajar dari data-data yang ada di *training set* dengan performa di *test set*."
   ]
  },
  {
   "cell_type": "markdown",
   "id": "026763b4-03cb-41e1-bdc6-649f0b80e663",
   "metadata": {},
   "source": [
    "***Hold-out method*** memiliki kekurangan di mana bisa saja data-data yang ada di *test set* sangat berbeda dengan yang ada di *training set*, sehingga muncul argumen bisa saja performa keduanya berbeda karena memang isi data keduanya juga tidak identik.\n",
    "\n",
    "Untuk memastikan kinerja model untuk evaluasi lebih dari 1x, kita bisa melakukan proses yang disebut ***cross-validation***.\n",
    "\n",
    "Implementasi *cross-validation* perlu membagi *training set* membagi 2 lagi, yaitu *training set* dan *validation set*."
   ]
  },
  {
   "cell_type": "markdown",
   "id": "55bac35a-5d07-408e-9535-22f9fe179029",
   "metadata": {},
   "source": [
    "<br>"
   ]
  },
  {
   "cell_type": "markdown",
   "id": "47cec1ad-dff4-4cd4-ab63-4996ace5fff5",
   "metadata": {},
   "source": [
    "### Memahami *Validation Set*"
   ]
  },
  {
   "cell_type": "markdown",
   "id": "f3ac3666-9c9a-4784-8078-9fbd7e10175c",
   "metadata": {},
   "source": [
    "Terkadang kita ingin membandingkan performa beberapa model, di mana setiap model menggunakan algoritma yang berbeda, atau bisa juga setiap model menggunakan algoritma yang sama tapi dengan setting *hyperparameter* yang berbeda.\n",
    "\n",
    "Untuk itu kita bagi data menjadi 2 bagian (*training set* dan *test set*), lalu bagi training set tadi menjadi 2 lagi (*training set* dan *validation set*).\n",
    "Kita gunakan *training set* untuk melatih setiap model dan gunakan *validation set* untuk memilih model terbaik.\n",
    "\n",
    "Setelah model terbaik didapat, kita *retrain* ulang model tadi menggunakan *training set* awal (gabungan *training+validation*) dan melihat performa model terbaik di *test set*.\n",
    "\n",
    "Ilustrasinya adalah sebagai berikut:"
   ]
  },
  {
   "cell_type": "markdown",
   "id": "c88b0ec3-6ca4-488b-9fd3-4446cde5a547",
   "metadata": {},
   "source": [
    "<a href=\"https://ibb.co/1spWJJw\"><img src=\"https://i.ibb.co/q04QFFP/traintest2.jpg\" alt=\"traintest2\" border=\"0\"></a>"
   ]
  },
  {
   "cell_type": "markdown",
   "id": "18bbe0c1-ca5c-42fe-8cde-c6d878b762ff",
   "metadata": {},
   "source": [
    "<br>"
   ]
  },
  {
   "cell_type": "markdown",
   "id": "f2cfdbc6-9b11-4cd7-8ed1-152af51ec783",
   "metadata": {},
   "source": [
    "### *Cross Validation*"
   ]
  },
  {
   "cell_type": "markdown",
   "id": "66189ba4-6857-446f-8014-7073ee248bb4",
   "metadata": {},
   "source": [
    "Cara lain untuk memilih model terbaik (selain menggunakan *validation set* yang bersifat *fixed*) adalah dengan *cross validation*.<br>\n",
    "Sebelum melakukan *cross validation*, kita bagi dataset menjadi 2 (*training set* dan *test set*).<br>\n",
    "Selanjutnya, proses *cross validation* dilakukan di *training set* tadi. \n",
    "\n",
    "Melalui *cross validation*, proses *training* dan evaluasi model akan dilakukan berkali-kali menggunakan komposisi *training set* dan *validation set* yang berbeda-beda sebanyak k buah.<br>\n",
    "Kita bisa melakukan proses *training* dan evaluasi tadi juga sebanyak k kali (sehingga disebut ***k-fold cross validation***).<br>\n",
    "Jika dibagi menjadi 5 buah, maka disebut *5-fold cross-validation*, yang artinya jumlah iterasinya juga sebanyak 5 buah.\n",
    "\n",
    "Pembagian *training set* dan *validation set* bisa dilakukan secara *random* atau *stratified*.\n",
    "\n",
    "Setelah model terbaik dipilih, kita uji model terbaik di *test set*."
   ]
  },
  {
   "cell_type": "markdown",
   "id": "a224a8a6-2a1e-4097-a032-2fdea7548275",
   "metadata": {},
   "source": [
    "Ilustrasi pembagian datasetnya untuk *cross validation* adalah sebagai berikut:"
   ]
  },
  {
   "cell_type": "markdown",
   "id": "92b9e7eb-4172-4efa-b0b9-17c36cc9b7c9",
   "metadata": {},
   "source": [
    "<a href=\"https://ibb.co/YT9rx69\"><img src=\"https://i.ibb.co/M5TXmbT/traintest3.jpg\" alt=\"traintest3\" border=\"0\"></a>"
   ]
  },
  {
   "cell_type": "markdown",
   "id": "f1883129-2973-4439-83a6-67b7f06f08ba",
   "metadata": {},
   "source": [
    "Jika dipilih pembagian training dan validation set secara *stratified*, maka memastikan bahwa setiap *fold*nya, memiliki proporsi distribusi *class* yang sama (ilustrasi di bawah).\n",
    "\n",
    "<a href=\"https://ibb.co/w63gsj1\"><img src=\"https://i.ibb.co/mz1T8g7/traintest4.jpg\" alt=\"traintest4\" border=\"0\"></a>\n",
    "\n",
    "Strategi paling umum dipakai adalah 10-fold, paling sedikit adalah 5-fold dan paling banyak 20-fold. Tentu saja sang *data scientist* bebas memilih angka ini."
   ]
  },
  {
   "cell_type": "markdown",
   "id": "2d40a2c0-9963-4816-addf-db1810c4a340",
   "metadata": {},
   "source": [
    "Untuk melakukan evaluasi model, kita menghitung nilai *error* setiap *validation set* di setiap iterasi (setiap *round*), kemudian kita ambil nilai rata-rata *error* nya. \n",
    "\n",
    "Ilustrasinya dapat dilihat pada gambar berikut:"
   ]
  },
  {
   "cell_type": "markdown",
   "id": "97c3d4bc-92dd-4278-900a-d84f022b067c",
   "metadata": {},
   "source": [
    "<a href=\"https://ibb.co/yY7v7Ks\"><img src=\"https://i.ibb.co/cCVfVRT/traintest5.jpg\" alt=\"traintest5\" border=\"0\"></a>"
   ]
  },
  {
   "cell_type": "markdown",
   "id": "98a3b754-aad0-49c8-9c8a-df9a005ebc63",
   "metadata": {},
   "source": [
    "<hr>\n",
    "<br>"
   ]
  },
  {
   "cell_type": "markdown",
   "id": "64abd873-b51f-4e4e-9237-c07290ac6fe1",
   "metadata": {},
   "source": [
    "### *Cross Validation* di Python"
   ]
  },
  {
   "cell_type": "markdown",
   "id": "bf662be5-e6e4-44c7-9f57-f94fd120cd13",
   "metadata": {},
   "source": [
    "Kita akan menggunakan beberapa model regresi sekaligus.<br> \n",
    "Kemudian model terbaik dipilih menggunakan 10-fold *cross validation*."
   ]
  },
  {
   "cell_type": "code",
   "execution_count": 126,
   "id": "f85f2f4a-9a94-4266-b222-515a15cb28e7",
   "metadata": {},
   "outputs": [],
   "source": [
    "# Mengimpor library\n",
    "import numpy as np\n",
    "import pandas as pd\n",
    "import matplotlib.pyplot as plt\n",
    "\n",
    "from sklearn.compose import ColumnTransformer\n",
    "from sklearn.pipeline import Pipeline\n",
    "from sklearn.impute import SimpleImputer\n",
    "from sklearn.preprocessing import MinMaxScaler, OneHotEncoder\n",
    "\n",
    "from sklearn.model_selection import train_test_split, GridSearchCV, StratifiedKFold\n",
    "\n",
    "from sklearn.linear_model import LinearRegression, Ridge, Lasso, ElasticNet\n",
    "from sklearn.tree import DecisionTreeRegressor\n",
    "from sklearn.ensemble import GradientBoostingRegressor, RandomForestRegressor\n",
    "from xgboost import XGBRegressor\n",
    "from lightgbm import LGBMRegressor\n",
    "\n",
    "from sklearn.metrics import mean_absolute_error, mean_squared_error, r2_score"
   ]
  },
  {
   "cell_type": "code",
   "execution_count": 127,
   "id": "8dc4ea30-6e30-4b2d-8e97-e9d9a869def4",
   "metadata": {},
   "outputs": [
    {
     "name": "stdout",
     "output_type": "stream",
     "text": [
      "(59, 19) (15, 19)\n"
     ]
    }
   ],
   "source": [
    "# Splitting data\n",
    "X_train, X_test, y_train, y_test = train_test_split(\n",
    "    df.drop(['unburn_carbon'], axis=1),\n",
    "    df['unburn_carbon'],\n",
    "    test_size = 0.2,\n",
    "    random_state = 0)\n",
    "\n",
    "# Melihat dimensi training set dan test set\n",
    "print((X_train.shape), (X_test.shape))"
   ]
  },
  {
   "cell_type": "code",
   "execution_count": 128,
   "id": "bed2c5ff-301c-49ac-bc18-26c1021ccdb9",
   "metadata": {},
   "outputs": [],
   "source": [
    "# Reset index y_train dan y_test\n",
    "y_train = y_train.reset_index(drop=True)\n",
    "y_test = y_test.reset_index(drop=True)"
   ]
  },
  {
   "cell_type": "code",
   "execution_count": 129,
   "id": "a02577ac-336f-4b34-ae30-f094894774a9",
   "metadata": {},
   "outputs": [],
   "source": [
    "# Membuat Pipeline untuk preprocessing\n",
    "preprocessor_numerik = Pipeline([\n",
    "    ('imputasi', SimpleImputer(strategy='median')),\n",
    "    ('scaling', MinMaxScaler())\n",
    "])\n",
    "\n",
    "preprocessor_kategori = Pipeline([\n",
    "    ('imputasi', SimpleImputer(strategy='constant', fill_value='missing')),\n",
    "    ('encoding', OneHotEncoder(drop='first', handle_unknown='ignore'))         \n",
    "])\n",
    "\n",
    "# Menggabungkan kedua pipeline di atas\n",
    "preprocessor = ColumnTransformer([\n",
    "    ('preprocessing numerik', preprocessor_numerik, var_numerik),\n",
    "    ('preprocessing kategori', preprocessor_kategori, var_kategori)\n",
    "])"
   ]
  },
  {
   "cell_type": "markdown",
   "id": "4a6d7f43-dfc8-4925-af29-e3d8feb43f69",
   "metadata": {},
   "source": [
    "Sekarang kita akan mendefinisikan beberapa model kemudian diikuti dengan *hyperparameter tuning*."
   ]
  },
  {
   "cell_type": "markdown",
   "id": "c3146229-bc81-48ca-92a1-96dc8d6f510d",
   "metadata": {},
   "source": [
    "#### 1. Linear Regression"
   ]
  },
  {
   "cell_type": "code",
   "execution_count": 130,
   "id": "67ab0d82-d737-4c26-a49e-42d1df946c28",
   "metadata": {},
   "outputs": [],
   "source": [
    "# Model regresi Linear\n",
    "linreg = LinearRegression()\n",
    "\n",
    "# Pipeline model regresi linear\n",
    "pipe_linreg = Pipeline(steps=[\n",
    "    ('preprocessing', preprocessor),\n",
    "    ('linear', linreg)\n",
    "])\n",
    "\n",
    "# Hyperparameter tuning Linear Regression\n",
    "param_linreg = {}"
   ]
  },
  {
   "cell_type": "markdown",
   "id": "0088101b-519b-4889-a6b8-1672a708432d",
   "metadata": {},
   "source": [
    "<br>"
   ]
  },
  {
   "cell_type": "markdown",
   "id": "d6546027-97fe-4af5-a28e-03b7c6ad1e42",
   "metadata": {},
   "source": [
    "#### 2. Lasso Regression"
   ]
  },
  {
   "cell_type": "code",
   "execution_count": 131,
   "id": "7319e4ea-80b8-4374-9fe9-8120d3753761",
   "metadata": {},
   "outputs": [],
   "source": [
    "# Model regresi Lasso\n",
    "lasso = Lasso(alpha=0.001, random_state=0)\n",
    "\n",
    "# Pipeline model regresi lasso\n",
    "pipe_lasso = Pipeline(steps=[\n",
    "    ('preprocessing', preprocessor),\n",
    "    ('lasso', lasso)\n",
    "])\n",
    "\n",
    "# Hyperparameter tuning regresi Lasso\n",
    "param_lasso = {'lasso__alpha': np.arange(0.00, 1.0, 0.01)}"
   ]
  },
  {
   "cell_type": "markdown",
   "id": "894a9e46-1c3f-4079-9923-7e984dcbdd3a",
   "metadata": {},
   "source": [
    "<br>"
   ]
  },
  {
   "cell_type": "markdown",
   "id": "617a8dff-65ab-4884-a3f8-8e4e64f4507a",
   "metadata": {},
   "source": [
    "#### 3. Elastic Net"
   ]
  },
  {
   "cell_type": "code",
   "execution_count": 132,
   "id": "9ad33756-031c-4cc2-8ea1-174cb9c241f5",
   "metadata": {},
   "outputs": [],
   "source": [
    "# Model regresi ElasticNet\n",
    "enet = ElasticNet(random_state=0)\n",
    "\n",
    "# Pipeline model regresi Elastic Net\n",
    "pipe_enet = Pipeline([\n",
    "    ('preprocessing', preprocessor),\n",
    "    ('enet', enet)\n",
    "])\n",
    "\n",
    "# Hyperparameter tuning Elastic Net\n",
    "param_enet = {\n",
    "    'enet__alpha': [0.01, 0.1, 0.5],\n",
    "    'enet__l1_ratio': [0.01, 0.1, 0.5, 0.9, 1]\n",
    "}"
   ]
  },
  {
   "cell_type": "markdown",
   "id": "e9278ab9-b30a-425a-8481-d981e4ed20c5",
   "metadata": {},
   "source": [
    "<br>"
   ]
  },
  {
   "cell_type": "markdown",
   "id": "3096f529-5f2f-4961-af02-ccc9ecb82872",
   "metadata": {},
   "source": [
    "#### 4. Decision Tree Regressor"
   ]
  },
  {
   "cell_type": "code",
   "execution_count": 133,
   "id": "fdd3dc87-9e37-426d-b1ad-3869d4534892",
   "metadata": {},
   "outputs": [],
   "source": [
    "# Model regresi Decision Tree\n",
    "dt = DecisionTreeRegressor(random_state=0)\n",
    "\n",
    "# Pipeline model regresi Decision Tree\n",
    "pipe_dt = Pipeline([\n",
    "    ('preprocessing', preprocessor),\n",
    "    ('dt', dt)\n",
    "])\n",
    "\n",
    "# Hyperparameter tuning regresi Decision Tree\n",
    "param_dt = {\n",
    "    'dt__splitter': ('best','random'),\n",
    "    'dt__max_depth': np.arange(1,10), \n",
    "    'dt__min_samples_split': np.arange(2,10),\n",
    "    'dt__min_samples_leaf': np.arange(1,5)\n",
    "}"
   ]
  },
  {
   "cell_type": "markdown",
   "id": "0b5af851-767c-4323-a0d9-e7cfe815c1f4",
   "metadata": {},
   "source": [
    "<br>"
   ]
  },
  {
   "cell_type": "markdown",
   "id": "7f1ac0ef-3d32-434d-b132-d27113633fbc",
   "metadata": {},
   "source": [
    "#### 5. Random Forest Regressor"
   ]
  },
  {
   "cell_type": "code",
   "execution_count": 134,
   "id": "d4486b30-858e-4b80-b163-6556a32cc339",
   "metadata": {},
   "outputs": [],
   "source": [
    "# Model regresi Decision Tree\n",
    "rf = RandomForestRegressor(random_state=0)\n",
    "\n",
    "# Pipeline model regresi Decision Tree\n",
    "pipe_rf = Pipeline([\n",
    "    ('preprocessing', preprocessor),\n",
    "    ('rf', rf)\n",
    "])\n",
    "\n",
    "# Hyperparameter tuning regresi Decision Tree\n",
    "param_rf = {\n",
    "    'rf__criterion': ('squared_error', 'absolute_error', 'friedman_mse', 'poisson'), \n",
    "    'rf__min_samples_split': np.arange(2,10),\n",
    "    'rf__min_samples_leaf': np.arange(1,5)\n",
    "}"
   ]
  },
  {
   "cell_type": "markdown",
   "id": "6d69680f-891a-4cad-9420-8b752ba472f5",
   "metadata": {},
   "source": [
    "<br>"
   ]
  },
  {
   "cell_type": "markdown",
   "id": "17f91a30-d90b-488c-a961-dd47b3b18f3b",
   "metadata": {},
   "source": [
    "#### 6. Gradient Boosting"
   ]
  },
  {
   "cell_type": "code",
   "execution_count": 135,
   "id": "d18ba9c6-c707-4388-884c-a36351daddfe",
   "metadata": {},
   "outputs": [],
   "source": [
    "# Model regresi Gradient Boosting\n",
    "gboost = GradientBoostingRegressor(loss='huber',criterion='squared_error',random_state=0)\n",
    "\n",
    "# Pipeline model regresi Gradient Boosting\n",
    "pipe_gboost = Pipeline([\n",
    "    ('preprocessing', preprocessor),\n",
    "    ('gboost', gboost)\n",
    "])\n",
    "\n",
    "# Hyperparameter tuning Gradient Boosting\n",
    "param_gboost = {\n",
    "    'gboost__n_estimators':[200, 250, 350, 400], #default 100\n",
    "    'gboost__learning_rate':[0.75, 0.1, 1.25], #default 0.1\n",
    "    'gboost__max_depth':[2], #default 3\n",
    "    'gboost__min_samples_split':[5, 6, 7, 8], #default 2\n",
    "    'gboost__min_samples_leaf':[1, 2, 3] # default 1\n",
    "}"
   ]
  },
  {
   "cell_type": "markdown",
   "id": "8f0beb7a-a2b3-4c06-8272-588aec0ef338",
   "metadata": {},
   "source": [
    "<br>"
   ]
  },
  {
   "cell_type": "markdown",
   "id": "6e0eba74-8f75-4fea-b5a1-ab12559ea7d9",
   "metadata": {},
   "source": [
    "#### 7. XGBoost"
   ]
  },
  {
   "cell_type": "code",
   "execution_count": 136,
   "id": "3961371d-efe5-46e4-b2be-d5ddd072f496",
   "metadata": {},
   "outputs": [],
   "source": [
    "# Model regresi XGBoost\n",
    "xgb = XGBRegressor()\n",
    "\n",
    "# Pipeline model regresi XGBoost\n",
    "pipe_xgb = Pipeline([\n",
    "    ('preprocessing', preprocessor),\n",
    "    ('xgb',xgb)\n",
    "])\n",
    "\n",
    "# Hyperparameter tuning regresi XGBoost\n",
    "param_xgb = {\n",
    "    'xgb__learning_rate':[0.01, 0.05, 0.1],\n",
    "    'xgb__n_estimators':[200, 300, 400]\n",
    "}"
   ]
  },
  {
   "cell_type": "markdown",
   "id": "062d2568-b077-4c8c-b42f-fc8483325d04",
   "metadata": {},
   "source": [
    "<br>"
   ]
  },
  {
   "cell_type": "markdown",
   "id": "c67544a3-e972-4b32-b200-f8e65fe79076",
   "metadata": {},
   "source": [
    "#### 8. LightGBM Regressor"
   ]
  },
  {
   "cell_type": "code",
   "execution_count": 137,
   "id": "dd146411-853a-4cfd-8413-713b05d31624",
   "metadata": {},
   "outputs": [],
   "source": [
    "# Model regresi LightGBM\n",
    "lgb = LGBMRegressor(random_state=0)\n",
    "\n",
    "# Pipeline model regresi LightGBM\n",
    "pipe_lgb = Pipeline([\n",
    "    ('preprocessing', preprocessor),\n",
    "    ('lgb', lgb)   \n",
    "])\n",
    "\n",
    "# Hyperparameter tuning regresi LightGBM\n",
    "param_lgb = {\n",
    "    'lgb__learning_rate':[0.01, 0.05, 0.1, 0.2],\n",
    "    'lgb__n_estimators':[200, 300, 400]\n",
    "}"
   ]
  },
  {
   "cell_type": "markdown",
   "id": "019db1ca-ba55-4240-a7d4-bdf56d9b8396",
   "metadata": {},
   "source": [
    "Sekarang kita akan mentraining semua model di atas dan mengevaluasinya langsung menggunakan *3-fold cross validation*.\n",
    "\n",
    "Perlu diperhatikan bahwa kita belum mengimplementasikan *hyperparameter tuning*."
   ]
  },
  {
   "cell_type": "markdown",
   "id": "d0b3df7f-5a0a-4386-bbcf-a78ae008a24d",
   "metadata": {},
   "source": [
    "Dokumentasi tipe *scoring* yang bisa dipakai di *cross validation* dapat dilihat melalui link berikut:<br>\n",
    "https://scikit-learn.org/stable/modules/model_evaluation.html"
   ]
  },
  {
   "cell_type": "code",
   "execution_count": 138,
   "id": "2a5187f0-2e2f-44d8-8c2c-6bbbef491a5a",
   "metadata": {},
   "outputs": [
    {
     "name": "stderr",
     "output_type": "stream",
     "text": [
      "[Parallel(n_jobs=-1)]: Using backend LokyBackend with 8 concurrent workers.\n",
      "[Parallel(n_jobs=-1)]: Done   3 out of   3 | elapsed:    3.6s finished\n",
      "[Parallel(n_jobs=-1)]: Using backend LokyBackend with 8 concurrent workers.\n",
      "[Parallel(n_jobs=-1)]: Done   3 out of   3 | elapsed:    2.4s finished\n",
      "c:\\Users\\Hawlett-Packard\\anaconda3\\Lib\\site-packages\\sklearn\\preprocessing\\_encoders.py:202: UserWarning: Found unknown categories in columns [0] during transform. These unknown categories will be encoded as all zeros\n",
      "  warnings.warn(\n",
      "[Parallel(n_jobs=-1)]: Using backend LokyBackend with 8 concurrent workers.\n",
      "[Parallel(n_jobs=-1)]: Done   3 out of   3 | elapsed:    1.9s finished\n",
      "[Parallel(n_jobs=-1)]: Using backend LokyBackend with 8 concurrent workers.\n",
      "[Parallel(n_jobs=-1)]: Done   3 out of   3 | elapsed:    0.0s finished\n",
      "c:\\Users\\Hawlett-Packard\\anaconda3\\Lib\\site-packages\\sklearn\\preprocessing\\_encoders.py:202: UserWarning: Found unknown categories in columns [0] during transform. These unknown categories will be encoded as all zeros\n",
      "  warnings.warn(\n",
      "[Parallel(n_jobs=-1)]: Using backend LokyBackend with 8 concurrent workers.\n",
      "[Parallel(n_jobs=-1)]: Done   3 out of   3 | elapsed:    0.0s finished\n",
      "[Parallel(n_jobs=-1)]: Using backend LokyBackend with 8 concurrent workers.\n",
      "[Parallel(n_jobs=-1)]: Done   3 out of   3 | elapsed:    0.0s finished\n",
      "c:\\Users\\Hawlett-Packard\\anaconda3\\Lib\\site-packages\\sklearn\\preprocessing\\_encoders.py:202: UserWarning: Found unknown categories in columns [0] during transform. These unknown categories will be encoded as all zeros\n",
      "  warnings.warn(\n",
      "[Parallel(n_jobs=-1)]: Using backend LokyBackend with 8 concurrent workers.\n",
      "[Parallel(n_jobs=-1)]: Done   3 out of   3 | elapsed:    0.0s finished\n",
      "[Parallel(n_jobs=-1)]: Using backend LokyBackend with 8 concurrent workers.\n",
      "[Parallel(n_jobs=-1)]: Done   3 out of   3 | elapsed:    0.0s finished\n",
      "c:\\Users\\Hawlett-Packard\\anaconda3\\Lib\\site-packages\\sklearn\\preprocessing\\_encoders.py:202: UserWarning: Found unknown categories in columns [0] during transform. These unknown categories will be encoded as all zeros\n",
      "  warnings.warn(\n",
      "[Parallel(n_jobs=-1)]: Using backend LokyBackend with 8 concurrent workers.\n",
      "[Parallel(n_jobs=-1)]: Done   3 out of   3 | elapsed:    0.3s finished\n",
      "[Parallel(n_jobs=-1)]: Using backend LokyBackend with 8 concurrent workers.\n",
      "[Parallel(n_jobs=-1)]: Done   3 out of   3 | elapsed:    0.2s finished\n",
      "c:\\Users\\Hawlett-Packard\\anaconda3\\Lib\\site-packages\\sklearn\\preprocessing\\_encoders.py:202: UserWarning: Found unknown categories in columns [0] during transform. These unknown categories will be encoded as all zeros\n",
      "  warnings.warn(\n",
      "[Parallel(n_jobs=-1)]: Using backend LokyBackend with 8 concurrent workers.\n",
      "[Parallel(n_jobs=-1)]: Done   3 out of   3 | elapsed:    0.4s finished\n",
      "[Parallel(n_jobs=-1)]: Using backend LokyBackend with 8 concurrent workers.\n",
      "[Parallel(n_jobs=-1)]: Done   3 out of   3 | elapsed:    0.5s finished\n",
      "c:\\Users\\Hawlett-Packard\\anaconda3\\Lib\\site-packages\\sklearn\\preprocessing\\_encoders.py:202: UserWarning: Found unknown categories in columns [0] during transform. These unknown categories will be encoded as all zeros\n",
      "  warnings.warn(\n",
      "[Parallel(n_jobs=-1)]: Using backend LokyBackend with 8 concurrent workers.\n",
      "[Parallel(n_jobs=-1)]: Done   3 out of   3 | elapsed:    0.0s finished\n",
      "[Parallel(n_jobs=-1)]: Using backend LokyBackend with 8 concurrent workers.\n",
      "[Parallel(n_jobs=-1)]: Done   3 out of   3 | elapsed:    0.1s finished\n",
      "c:\\Users\\Hawlett-Packard\\anaconda3\\Lib\\site-packages\\sklearn\\preprocessing\\_encoders.py:202: UserWarning: Found unknown categories in columns [0] during transform. These unknown categories will be encoded as all zeros\n",
      "  warnings.warn(\n",
      "[Parallel(n_jobs=-1)]: Using backend LokyBackend with 8 concurrent workers.\n"
     ]
    },
    {
     "name": "stderr",
     "output_type": "stream",
     "text": [
      "[Parallel(n_jobs=-1)]: Done   3 out of   3 | elapsed:    2.2s finished\n",
      "[Parallel(n_jobs=-1)]: Using backend LokyBackend with 8 concurrent workers.\n",
      "[Parallel(n_jobs=-1)]: Done   3 out of   3 | elapsed:    2.2s finished\n",
      "c:\\Users\\Hawlett-Packard\\anaconda3\\Lib\\site-packages\\sklearn\\preprocessing\\_encoders.py:202: UserWarning: Found unknown categories in columns [0] during transform. These unknown categories will be encoded as all zeros\n",
      "  warnings.warn(\n"
     ]
    }
   ],
   "source": [
    "# Model training dengan cross validation\n",
    "daftar_model = [pipe_linreg, pipe_lasso, pipe_enet, pipe_dt, pipe_rf, pipe_gboost, pipe_xgb, pipe_lgb]\n",
    "daftar_nama_model = ['linreg', 'lasso', 'elastic', 'dt', 'rf', 'gboost', 'xgb', 'lgb']\n",
    "mean_mae = []\n",
    "mean_r2 = []\n",
    "std_mae = []\n",
    "std_r2 = []\n",
    "test_score_mae = []\n",
    "test_score_r2 = []\n",
    "\n",
    "# Setting parameter jika permasalahannya adalah klasifikasi\n",
    "# skf = StratifiedKFold(n_splits=5, random_state=0, shuffle=True)\n",
    "# tentukan cv = skf jika ingin stratified cross validation\n",
    "\n",
    "# Looping untuk setiap model yang sudah disiapkan \n",
    "for i in daftar_model:\n",
    "    \n",
    "    # Melakukan cross validation dan menggunakan kriteria berdasarkan skor MAE dan R2\n",
    "    cv_mae = -cross_val_score(i, X_train, y_train, cv=3, scoring='neg_mean_absolute_error', verbose=1, n_jobs=-1)  # kita kalikan dengan -1 karena scoring menggunakan nilai negatif\n",
    "    cv_r2 = cross_val_score(i, X_train, y_train, cv=3, scoring='r2', verbose=1, n_jobs=-1) # n_jobs=-1 artinya kita gunakan semua prerocessor\n",
    "    \n",
    "    # Menghitung nilai rata-rata MAE dan R2 dan menambahkannya ke variabel mean_mae dan mean_r2\n",
    "    mean_mae.append(round(cv_mae.mean(),2))   # round(nilai,2) untuk membulatkan nilai 2 angka di belakang koma\n",
    "    mean_r2.append(round(cv_r2.mean(),2))\n",
    "    \n",
    "    # Menghitung nilai standar deviasi MAE dan R2 dan menambahkannya ke variabel std_mae dan std_r2\n",
    "    std_mae.append(round(cv_mae.std(),2))\n",
    "    std_r2.append(round(cv_r2.std(),2))\n",
    "    \n",
    "    # Melakukan fitting training set kemudian melakukan prediksi  di test set\n",
    "    i.fit(X_train, y_train)\n",
    "    i_predict = i.predict(X_test)\n",
    "    \n",
    "    # Menghitung nilai rata-rata MAE dan R2 di test set dan menambahkannya ke variabel test_score_mae dan test_core_r2\n",
    "    test_score_mae.append(round(mean_absolute_error(y_test, i_predict),2))\n",
    "    test_score_r2.append(round(r2_score(y_test, i_predict),2))"
   ]
  },
  {
   "cell_type": "code",
   "execution_count": 139,
   "id": "68632c0d-c5d5-4bb4-ba75-ecb0d1291a3c",
   "metadata": {},
   "outputs": [],
   "source": [
    "# Membuat DataFrame\n",
    "cv_mae = pd.DataFrame({'model':daftar_nama_model, 'Train_Mean':mean_mae, 'std':std_mae, 'Test_Score':test_score_mae})\n",
    "cv_r2 = pd.DataFrame({'model':daftar_nama_model, 'Train_Mean':mean_r2, 'std':std_r2, 'Test_Score':test_score_r2})"
   ]
  },
  {
   "cell_type": "code",
   "execution_count": 140,
   "id": "ca44f1c6-8fbb-4425-91f8-51250ca82576",
   "metadata": {},
   "outputs": [
    {
     "data": {
      "text/html": [
       "<div>\n",
       "<style scoped>\n",
       "    .dataframe tbody tr th:only-of-type {\n",
       "        vertical-align: middle;\n",
       "    }\n",
       "\n",
       "    .dataframe tbody tr th {\n",
       "        vertical-align: top;\n",
       "    }\n",
       "\n",
       "    .dataframe thead th {\n",
       "        text-align: right;\n",
       "    }\n",
       "</style>\n",
       "<table border=\"1\" class=\"dataframe\">\n",
       "  <thead>\n",
       "    <tr style=\"text-align: right;\">\n",
       "      <th></th>\n",
       "      <th>model</th>\n",
       "      <th>Train_Mean</th>\n",
       "      <th>std</th>\n",
       "      <th>Test_Score</th>\n",
       "    </tr>\n",
       "  </thead>\n",
       "  <tbody>\n",
       "    <tr>\n",
       "      <th>0</th>\n",
       "      <td>linreg</td>\n",
       "      <td>0.44</td>\n",
       "      <td>0.08</td>\n",
       "      <td>0.30</td>\n",
       "    </tr>\n",
       "    <tr>\n",
       "      <th>1</th>\n",
       "      <td>lasso</td>\n",
       "      <td>0.36</td>\n",
       "      <td>0.02</td>\n",
       "      <td>0.27</td>\n",
       "    </tr>\n",
       "    <tr>\n",
       "      <th>2</th>\n",
       "      <td>elastic</td>\n",
       "      <td>0.34</td>\n",
       "      <td>0.03</td>\n",
       "      <td>0.27</td>\n",
       "    </tr>\n",
       "    <tr>\n",
       "      <th>3</th>\n",
       "      <td>dt</td>\n",
       "      <td>0.54</td>\n",
       "      <td>0.01</td>\n",
       "      <td>0.44</td>\n",
       "    </tr>\n",
       "    <tr>\n",
       "      <th>4</th>\n",
       "      <td>rf</td>\n",
       "      <td>0.37</td>\n",
       "      <td>0.03</td>\n",
       "      <td>0.27</td>\n",
       "    </tr>\n",
       "    <tr>\n",
       "      <th>5</th>\n",
       "      <td>gboost</td>\n",
       "      <td>0.37</td>\n",
       "      <td>0.02</td>\n",
       "      <td>0.32</td>\n",
       "    </tr>\n",
       "    <tr>\n",
       "      <th>6</th>\n",
       "      <td>xgb</td>\n",
       "      <td>0.49</td>\n",
       "      <td>0.08</td>\n",
       "      <td>0.26</td>\n",
       "    </tr>\n",
       "    <tr>\n",
       "      <th>7</th>\n",
       "      <td>lgb</td>\n",
       "      <td>0.35</td>\n",
       "      <td>0.03</td>\n",
       "      <td>0.26</td>\n",
       "    </tr>\n",
       "  </tbody>\n",
       "</table>\n",
       "</div>"
      ],
      "text/plain": [
       "     model  Train_Mean   std  Test_Score\n",
       "0   linreg        0.44  0.08        0.30\n",
       "1    lasso        0.36  0.02        0.27\n",
       "2  elastic        0.34  0.03        0.27\n",
       "3       dt        0.54  0.01        0.44\n",
       "4       rf        0.37  0.03        0.27\n",
       "5   gboost        0.37  0.02        0.32\n",
       "6      xgb        0.49  0.08        0.26\n",
       "7      lgb        0.35  0.03        0.26"
      ]
     },
     "execution_count": 140,
     "metadata": {},
     "output_type": "execute_result"
    }
   ],
   "source": [
    "# Melihat hasil cross validation berdasarkan MAE\n",
    "cv_mae"
   ]
  },
  {
   "cell_type": "code",
   "execution_count": 141,
   "id": "ccd61bf6-8088-4a5c-a1c6-1901806c584d",
   "metadata": {},
   "outputs": [
    {
     "data": {
      "text/html": [
       "<div>\n",
       "<style scoped>\n",
       "    .dataframe tbody tr th:only-of-type {\n",
       "        vertical-align: middle;\n",
       "    }\n",
       "\n",
       "    .dataframe tbody tr th {\n",
       "        vertical-align: top;\n",
       "    }\n",
       "\n",
       "    .dataframe thead th {\n",
       "        text-align: right;\n",
       "    }\n",
       "</style>\n",
       "<table border=\"1\" class=\"dataframe\">\n",
       "  <thead>\n",
       "    <tr style=\"text-align: right;\">\n",
       "      <th></th>\n",
       "      <th>model</th>\n",
       "      <th>Train_Mean</th>\n",
       "      <th>std</th>\n",
       "      <th>Test_Score</th>\n",
       "    </tr>\n",
       "  </thead>\n",
       "  <tbody>\n",
       "    <tr>\n",
       "      <th>0</th>\n",
       "      <td>elastic</td>\n",
       "      <td>0.34</td>\n",
       "      <td>0.03</td>\n",
       "      <td>0.27</td>\n",
       "    </tr>\n",
       "    <tr>\n",
       "      <th>1</th>\n",
       "      <td>lgb</td>\n",
       "      <td>0.35</td>\n",
       "      <td>0.03</td>\n",
       "      <td>0.26</td>\n",
       "    </tr>\n",
       "    <tr>\n",
       "      <th>2</th>\n",
       "      <td>lasso</td>\n",
       "      <td>0.36</td>\n",
       "      <td>0.02</td>\n",
       "      <td>0.27</td>\n",
       "    </tr>\n",
       "    <tr>\n",
       "      <th>3</th>\n",
       "      <td>rf</td>\n",
       "      <td>0.37</td>\n",
       "      <td>0.03</td>\n",
       "      <td>0.27</td>\n",
       "    </tr>\n",
       "    <tr>\n",
       "      <th>4</th>\n",
       "      <td>gboost</td>\n",
       "      <td>0.37</td>\n",
       "      <td>0.02</td>\n",
       "      <td>0.32</td>\n",
       "    </tr>\n",
       "    <tr>\n",
       "      <th>5</th>\n",
       "      <td>linreg</td>\n",
       "      <td>0.44</td>\n",
       "      <td>0.08</td>\n",
       "      <td>0.30</td>\n",
       "    </tr>\n",
       "    <tr>\n",
       "      <th>6</th>\n",
       "      <td>xgb</td>\n",
       "      <td>0.49</td>\n",
       "      <td>0.08</td>\n",
       "      <td>0.26</td>\n",
       "    </tr>\n",
       "    <tr>\n",
       "      <th>7</th>\n",
       "      <td>dt</td>\n",
       "      <td>0.54</td>\n",
       "      <td>0.01</td>\n",
       "      <td>0.44</td>\n",
       "    </tr>\n",
       "  </tbody>\n",
       "</table>\n",
       "</div>"
      ],
      "text/plain": [
       "     model  Train_Mean   std  Test_Score\n",
       "0  elastic        0.34  0.03        0.27\n",
       "1      lgb        0.35  0.03        0.26\n",
       "2    lasso        0.36  0.02        0.27\n",
       "3       rf        0.37  0.03        0.27\n",
       "4   gboost        0.37  0.02        0.32\n",
       "5   linreg        0.44  0.08        0.30\n",
       "6      xgb        0.49  0.08        0.26\n",
       "7       dt        0.54  0.01        0.44"
      ]
     },
     "execution_count": 141,
     "metadata": {},
     "output_type": "execute_result"
    }
   ],
   "source": [
    "# Mengurutkan skor dari kecil ke besar\n",
    "cv_mae_urut = cv_mae.sort_values(by=['Train_Mean','Test_Score'],  ignore_index=True)\n",
    "cv_mae_urut"
   ]
  },
  {
   "cell_type": "code",
   "execution_count": 142,
   "id": "05f439d8-19dc-47ae-ac8f-45115fcff9fb",
   "metadata": {},
   "outputs": [
    {
     "data": {
      "text/html": [
       "<div>\n",
       "<style scoped>\n",
       "    .dataframe tbody tr th:only-of-type {\n",
       "        vertical-align: middle;\n",
       "    }\n",
       "\n",
       "    .dataframe tbody tr th {\n",
       "        vertical-align: top;\n",
       "    }\n",
       "\n",
       "    .dataframe thead th {\n",
       "        text-align: right;\n",
       "    }\n",
       "</style>\n",
       "<table border=\"1\" class=\"dataframe\">\n",
       "  <thead>\n",
       "    <tr style=\"text-align: right;\">\n",
       "      <th></th>\n",
       "      <th>model</th>\n",
       "      <th>Train_Mean</th>\n",
       "      <th>std</th>\n",
       "      <th>Test_Score</th>\n",
       "    </tr>\n",
       "  </thead>\n",
       "  <tbody>\n",
       "    <tr>\n",
       "      <th>0</th>\n",
       "      <td>linreg</td>\n",
       "      <td>-1.00</td>\n",
       "      <td>0.71</td>\n",
       "      <td>-0.58</td>\n",
       "    </tr>\n",
       "    <tr>\n",
       "      <th>1</th>\n",
       "      <td>lasso</td>\n",
       "      <td>-0.37</td>\n",
       "      <td>0.08</td>\n",
       "      <td>-0.12</td>\n",
       "    </tr>\n",
       "    <tr>\n",
       "      <th>2</th>\n",
       "      <td>elastic</td>\n",
       "      <td>-0.12</td>\n",
       "      <td>0.08</td>\n",
       "      <td>-0.04</td>\n",
       "    </tr>\n",
       "    <tr>\n",
       "      <th>3</th>\n",
       "      <td>dt</td>\n",
       "      <td>-1.88</td>\n",
       "      <td>0.27</td>\n",
       "      <td>-2.61</td>\n",
       "    </tr>\n",
       "    <tr>\n",
       "      <th>4</th>\n",
       "      <td>rf</td>\n",
       "      <td>-0.36</td>\n",
       "      <td>0.21</td>\n",
       "      <td>-0.03</td>\n",
       "    </tr>\n",
       "    <tr>\n",
       "      <th>5</th>\n",
       "      <td>gboost</td>\n",
       "      <td>-0.35</td>\n",
       "      <td>0.21</td>\n",
       "      <td>-0.53</td>\n",
       "    </tr>\n",
       "    <tr>\n",
       "      <th>6</th>\n",
       "      <td>xgb</td>\n",
       "      <td>-1.46</td>\n",
       "      <td>0.64</td>\n",
       "      <td>-0.07</td>\n",
       "    </tr>\n",
       "    <tr>\n",
       "      <th>7</th>\n",
       "      <td>lgb</td>\n",
       "      <td>-0.15</td>\n",
       "      <td>0.09</td>\n",
       "      <td>0.06</td>\n",
       "    </tr>\n",
       "  </tbody>\n",
       "</table>\n",
       "</div>"
      ],
      "text/plain": [
       "     model  Train_Mean   std  Test_Score\n",
       "0   linreg       -1.00  0.71       -0.58\n",
       "1    lasso       -0.37  0.08       -0.12\n",
       "2  elastic       -0.12  0.08       -0.04\n",
       "3       dt       -1.88  0.27       -2.61\n",
       "4       rf       -0.36  0.21       -0.03\n",
       "5   gboost       -0.35  0.21       -0.53\n",
       "6      xgb       -1.46  0.64       -0.07\n",
       "7      lgb       -0.15  0.09        0.06"
      ]
     },
     "execution_count": 142,
     "metadata": {},
     "output_type": "execute_result"
    }
   ],
   "source": [
    "# Melihat hasil cross validation berdasarkan R2\n",
    "cv_r2"
   ]
  },
  {
   "cell_type": "code",
   "execution_count": 143,
   "id": "51646c6a-6872-495c-9666-2445e1030305",
   "metadata": {},
   "outputs": [
    {
     "data": {
      "text/html": [
       "<div>\n",
       "<style scoped>\n",
       "    .dataframe tbody tr th:only-of-type {\n",
       "        vertical-align: middle;\n",
       "    }\n",
       "\n",
       "    .dataframe tbody tr th {\n",
       "        vertical-align: top;\n",
       "    }\n",
       "\n",
       "    .dataframe thead th {\n",
       "        text-align: right;\n",
       "    }\n",
       "</style>\n",
       "<table border=\"1\" class=\"dataframe\">\n",
       "  <thead>\n",
       "    <tr style=\"text-align: right;\">\n",
       "      <th></th>\n",
       "      <th>model</th>\n",
       "      <th>Train_Mean</th>\n",
       "      <th>std</th>\n",
       "      <th>Test_Score</th>\n",
       "    </tr>\n",
       "  </thead>\n",
       "  <tbody>\n",
       "    <tr>\n",
       "      <th>0</th>\n",
       "      <td>elastic</td>\n",
       "      <td>-0.12</td>\n",
       "      <td>0.08</td>\n",
       "      <td>-0.04</td>\n",
       "    </tr>\n",
       "    <tr>\n",
       "      <th>1</th>\n",
       "      <td>lgb</td>\n",
       "      <td>-0.15</td>\n",
       "      <td>0.09</td>\n",
       "      <td>0.06</td>\n",
       "    </tr>\n",
       "    <tr>\n",
       "      <th>2</th>\n",
       "      <td>gboost</td>\n",
       "      <td>-0.35</td>\n",
       "      <td>0.21</td>\n",
       "      <td>-0.53</td>\n",
       "    </tr>\n",
       "    <tr>\n",
       "      <th>3</th>\n",
       "      <td>rf</td>\n",
       "      <td>-0.36</td>\n",
       "      <td>0.21</td>\n",
       "      <td>-0.03</td>\n",
       "    </tr>\n",
       "    <tr>\n",
       "      <th>4</th>\n",
       "      <td>lasso</td>\n",
       "      <td>-0.37</td>\n",
       "      <td>0.08</td>\n",
       "      <td>-0.12</td>\n",
       "    </tr>\n",
       "    <tr>\n",
       "      <th>5</th>\n",
       "      <td>linreg</td>\n",
       "      <td>-1.00</td>\n",
       "      <td>0.71</td>\n",
       "      <td>-0.58</td>\n",
       "    </tr>\n",
       "    <tr>\n",
       "      <th>6</th>\n",
       "      <td>xgb</td>\n",
       "      <td>-1.46</td>\n",
       "      <td>0.64</td>\n",
       "      <td>-0.07</td>\n",
       "    </tr>\n",
       "    <tr>\n",
       "      <th>7</th>\n",
       "      <td>dt</td>\n",
       "      <td>-1.88</td>\n",
       "      <td>0.27</td>\n",
       "      <td>-2.61</td>\n",
       "    </tr>\n",
       "  </tbody>\n",
       "</table>\n",
       "</div>"
      ],
      "text/plain": [
       "     model  Train_Mean   std  Test_Score\n",
       "0  elastic       -0.12  0.08       -0.04\n",
       "1      lgb       -0.15  0.09        0.06\n",
       "2   gboost       -0.35  0.21       -0.53\n",
       "3       rf       -0.36  0.21       -0.03\n",
       "4    lasso       -0.37  0.08       -0.12\n",
       "5   linreg       -1.00  0.71       -0.58\n",
       "6      xgb       -1.46  0.64       -0.07\n",
       "7       dt       -1.88  0.27       -2.61"
      ]
     },
     "execution_count": 143,
     "metadata": {},
     "output_type": "execute_result"
    }
   ],
   "source": [
    "# Mengurutkan skor dari besar ke kecil\n",
    "cv_r2_urut = cv_r2.sort_values(by=['Train_Mean','Test_Score'], ascending=False, ignore_index=True)\n",
    "cv_r2_urut"
   ]
  },
  {
   "cell_type": "markdown",
   "id": "69b8dd9a-ea74-4c1c-8006-8812e87b77da",
   "metadata": {},
   "source": [
    "Bisa dilihat pada skor di atas bahwa model terbaik (skor MAE terendah dan R2 tertinggi) adalah menggunakan regresi linear (linreg).\n",
    "\n",
    "Selain itu kita bisa lihat juga performa di *test set* lebih baik daripada di *training set*, artinya modelnya sudah fit."
   ]
  },
  {
   "cell_type": "markdown",
   "id": "58d82aa9-6793-47f7-b37e-a61e904ffc03",
   "metadata": {},
   "source": [
    "<hr>\n",
    "<br>"
   ]
  },
  {
   "cell_type": "markdown",
   "id": "4adc67e9-aa5b-4815-b8ac-86c11409166f",
   "metadata": {},
   "source": [
    "### Hyperparameter Tuning"
   ]
  },
  {
   "cell_type": "markdown",
   "id": "142186cb-69c2-45f0-ae4b-ebd84d0d4d62",
   "metadata": {},
   "source": [
    "Sebenarnya kita sudah cukup puas dengan model regresi linear di atas.\n",
    "\n",
    "Namun performa di atas bisa ditingkatkan lagi dengan memilih parameter terbaik di setiap modelnya.\n",
    "\n",
    "Parameter yang diotak-atik (*tuning*) di setiap model ini kita tentukan sebelum model-model tersbeut di*training*.\n",
    "Selama proses *training*, nilai parameter ini tidak akan berubah.\n",
    "\n",
    "Nilai parameter yang kita *setting* di awal ini disebut dengan ***hyperparameter***.\n",
    "\n",
    "Untuk melakukan *hyperparameter tuning* kita gunakan modul <code>GridSearchCV()</code>.<br>\n",
    "**GridSearchCV()** akan mencoba semua kombinasi parameter yang sudah kita sediakan. Semakin banyak parameter dan semakin besar nilai k untuk CV maka semakin lama prosesnya.\n",
    "\n",
    "<code>GridSearchCV()</code> akan mengevaluasi semua settingan dari *hyperparameter* yang sudah disiapkan dan mempertahankan *setting*-an terbaik sampai selesai (setelah mencoba semua kombinasi *hyperparameter* dan semua *fold* di *cross validation*).\n",
    "\n",
    "Dokumentasi dari <code>GridSearchCV()</code> bisa dilihat melalui link berikut:<br>\n",
    "https://scikit-learn.org/stable/modules/generated/sklearn.model_selection.GridSearchCV.html"
   ]
  },
  {
   "cell_type": "markdown",
   "id": "2c412f75-daac-4f1f-990d-7e533753179d",
   "metadata": {},
   "source": [
    "Dalam melakukan *hyperparameter tuning*, jumlah *fold* yang kita gunakan kali ini adalah 5."
   ]
  },
  {
   "cell_type": "code",
   "execution_count": 144,
   "id": "b829d0fe-1813-4ef2-b41b-3b0850caabc2",
   "metadata": {},
   "outputs": [
    {
     "name": "stdout",
     "output_type": "stream",
     "text": [
      "Fitting 5 folds for each of 1 candidates, totalling 5 fits\n",
      "Fitting 5 folds for each of 100 candidates, totalling 500 fits\n"
     ]
    },
    {
     "name": "stderr",
     "output_type": "stream",
     "text": [
      "c:\\Users\\Hawlett-Packard\\anaconda3\\Lib\\site-packages\\sklearn\\preprocessing\\_encoders.py:202: UserWarning: Found unknown categories in columns [0] during transform. These unknown categories will be encoded as all zeros\n",
      "  warnings.warn(\n"
     ]
    },
    {
     "name": "stderr",
     "output_type": "stream",
     "text": [
      "c:\\Users\\Hawlett-Packard\\anaconda3\\Lib\\site-packages\\sklearn\\preprocessing\\_encoders.py:202: UserWarning: Found unknown categories in columns [0] during transform. These unknown categories will be encoded as all zeros\n",
      "  warnings.warn(\n"
     ]
    },
    {
     "name": "stdout",
     "output_type": "stream",
     "text": [
      "Fitting 5 folds for each of 15 candidates, totalling 75 fits\n"
     ]
    },
    {
     "name": "stderr",
     "output_type": "stream",
     "text": [
      "c:\\Users\\Hawlett-Packard\\anaconda3\\Lib\\site-packages\\sklearn\\preprocessing\\_encoders.py:202: UserWarning: Found unknown categories in columns [0] during transform. These unknown categories will be encoded as all zeros\n",
      "  warnings.warn(\n"
     ]
    },
    {
     "name": "stdout",
     "output_type": "stream",
     "text": [
      "Fitting 5 folds for each of 576 candidates, totalling 2880 fits\n"
     ]
    },
    {
     "name": "stderr",
     "output_type": "stream",
     "text": [
      "c:\\Users\\Hawlett-Packard\\anaconda3\\Lib\\site-packages\\sklearn\\preprocessing\\_encoders.py:202: UserWarning: Found unknown categories in columns [0] during transform. These unknown categories will be encoded as all zeros\n",
      "  warnings.warn(\n"
     ]
    },
    {
     "name": "stdout",
     "output_type": "stream",
     "text": [
      "Fitting 5 folds for each of 128 candidates, totalling 640 fits\n"
     ]
    },
    {
     "name": "stderr",
     "output_type": "stream",
     "text": [
      "c:\\Users\\Hawlett-Packard\\anaconda3\\Lib\\site-packages\\sklearn\\preprocessing\\_encoders.py:202: UserWarning: Found unknown categories in columns [0] during transform. These unknown categories will be encoded as all zeros\n",
      "  warnings.warn(\n"
     ]
    },
    {
     "name": "stdout",
     "output_type": "stream",
     "text": [
      "Fitting 5 folds for each of 144 candidates, totalling 720 fits\n"
     ]
    },
    {
     "name": "stderr",
     "output_type": "stream",
     "text": [
      "c:\\Users\\Hawlett-Packard\\anaconda3\\Lib\\site-packages\\sklearn\\preprocessing\\_encoders.py:202: UserWarning: Found unknown categories in columns [0] during transform. These unknown categories will be encoded as all zeros\n",
      "  warnings.warn(\n"
     ]
    },
    {
     "name": "stdout",
     "output_type": "stream",
     "text": [
      "Fitting 5 folds for each of 9 candidates, totalling 45 fits\n"
     ]
    },
    {
     "name": "stderr",
     "output_type": "stream",
     "text": [
      "c:\\Users\\Hawlett-Packard\\anaconda3\\Lib\\site-packages\\sklearn\\preprocessing\\_encoders.py:202: UserWarning: Found unknown categories in columns [0] during transform. These unknown categories will be encoded as all zeros\n",
      "  warnings.warn(\n"
     ]
    },
    {
     "name": "stdout",
     "output_type": "stream",
     "text": [
      "Fitting 5 folds for each of 12 candidates, totalling 60 fits\n"
     ]
    },
    {
     "name": "stderr",
     "output_type": "stream",
     "text": [
      "c:\\Users\\Hawlett-Packard\\anaconda3\\Lib\\site-packages\\sklearn\\preprocessing\\_encoders.py:202: UserWarning: Found unknown categories in columns [0] during transform. These unknown categories will be encoded as all zeros\n",
      "  warnings.warn(\n"
     ]
    }
   ],
   "source": [
    "# Model training dengan GridSearchCV\n",
    "daftar_model = [pipe_linreg, pipe_lasso, pipe_enet, pipe_dt, pipe_rf, pipe_gboost, pipe_xgb, pipe_lgb]\n",
    "daftar_nama_model = ['model_linreg', 'model_lasso', 'model_elastic', 'model_dt', \n",
    "                     'model_rf', 'model_gboost', 'model_xgb', 'model_lgb']\n",
    "daftar_param_model = [param_linreg, param_lasso, param_enet, param_dt, \n",
    "                     param_rf, param_gboost, param_xgb, param_lgb]\n",
    "\n",
    "# Nilai yang akan diisikan\n",
    "mae_tuning = []\n",
    "mae_tuning_test = []\n",
    "r2_tuning = []\n",
    "r2_tuning_test = []\n",
    "best_param = []\n",
    "best_estimator = []\n",
    "\n",
    "for i in range(len(daftar_model)):\n",
    "    \n",
    "    # Menjalankan GridSearchCV\n",
    "    model_grid_cv = GridSearchCV(\n",
    "    daftar_model[i],\n",
    "    daftar_param_model[i],\n",
    "    cv=5,\n",
    "    verbose=1,\n",
    "    n_jobs=-1\n",
    "    ).fit(X_train,y_train)\n",
    "    \n",
    "    # Mencoba memprediksi training dan test set setelah fitting di training set, kemudian dikemas dalam format DataFrame\n",
    "    pred_train = pd.DataFrame(model_grid_cv.predict(X_train), columns=['unburn_carbon'])\n",
    "    pred_test = pd.DataFrame(model_grid_cv.predict(X_test), columns=['unburn_carbon'])\n",
    "\n",
    "    # Mencatat skor MAE training dan test set\n",
    "    mae_tuning.append(mean_absolute_error(y_train, pred_train))\n",
    "    mae_tuning_test.append(mean_absolute_error(y_test, pred_test))\n",
    "\n",
    "    # Mencatat skor R2 training dan test set\n",
    "    r2_tuning.append(r2_score(y_train, pred_train))\n",
    "    r2_tuning_test.append(r2_score(y_test, pred_test))   \n",
    "    \n",
    "    # Mencatat parameter terbaik di setiap model\n",
    "    best_param.append(model_grid_cv.best_params_)\n",
    "    \n",
    "    # Merekam settingan modelnya\n",
    "    best_estimator.append(model_grid_cv.best_estimator_)"
   ]
  },
  {
   "cell_type": "code",
   "execution_count": 145,
   "id": "097aa9f5-348c-4587-9c63-f81766307ab9",
   "metadata": {},
   "outputs": [],
   "source": [
    "# Membuat DataFrame sekaligus kita urutkan\n",
    "grid_mae = pd.DataFrame({'model':daftar_nama_model, 'Training':mae_tuning, 'Testing':mae_tuning_test})\n",
    "grid_mae_urut = grid_mae.sort_values(by='Testing',  ignore_index=True)\n",
    "\n",
    "grid_r2 = pd.DataFrame({'model':daftar_nama_model, 'Training':r2_tuning, 'Testing':r2_tuning_test})\n",
    "grid_r2_urut = grid_r2.sort_values(by='Testing', ascending=False, ignore_index=True)"
   ]
  },
  {
   "cell_type": "markdown",
   "id": "68d6eaed-5a1f-4c3b-b22f-8d42050062fa",
   "metadata": {},
   "source": [
    "Kita pilih model terbaik berdasarkan performanya di *Test Set*."
   ]
  },
  {
   "cell_type": "code",
   "execution_count": 146,
   "id": "41dff66c-3be2-418a-b9e5-aa5ba496224c",
   "metadata": {},
   "outputs": [
    {
     "data": {
      "text/html": [
       "<div>\n",
       "<style scoped>\n",
       "    .dataframe tbody tr th:only-of-type {\n",
       "        vertical-align: middle;\n",
       "    }\n",
       "\n",
       "    .dataframe tbody tr th {\n",
       "        vertical-align: top;\n",
       "    }\n",
       "\n",
       "    .dataframe thead th {\n",
       "        text-align: right;\n",
       "    }\n",
       "</style>\n",
       "<table border=\"1\" class=\"dataframe\">\n",
       "  <thead>\n",
       "    <tr style=\"text-align: right;\">\n",
       "      <th></th>\n",
       "      <th>model</th>\n",
       "      <th>Training</th>\n",
       "      <th>Testing</th>\n",
       "    </tr>\n",
       "  </thead>\n",
       "  <tbody>\n",
       "    <tr>\n",
       "      <th>0</th>\n",
       "      <td>model_lgb</td>\n",
       "      <td>2.795385e-01</td>\n",
       "      <td>0.262556</td>\n",
       "    </tr>\n",
       "    <tr>\n",
       "      <th>1</th>\n",
       "      <td>model_lasso</td>\n",
       "      <td>3.292317e-01</td>\n",
       "      <td>0.268255</td>\n",
       "    </tr>\n",
       "    <tr>\n",
       "      <th>2</th>\n",
       "      <td>model_elastic</td>\n",
       "      <td>3.292317e-01</td>\n",
       "      <td>0.268255</td>\n",
       "    </tr>\n",
       "    <tr>\n",
       "      <th>3</th>\n",
       "      <td>model_rf</td>\n",
       "      <td>2.250612e-01</td>\n",
       "      <td>0.269959</td>\n",
       "    </tr>\n",
       "    <tr>\n",
       "      <th>4</th>\n",
       "      <td>model_dt</td>\n",
       "      <td>2.831824e-01</td>\n",
       "      <td>0.270733</td>\n",
       "    </tr>\n",
       "    <tr>\n",
       "      <th>5</th>\n",
       "      <td>model_xgb</td>\n",
       "      <td>7.599728e-02</td>\n",
       "      <td>0.276801</td>\n",
       "    </tr>\n",
       "    <tr>\n",
       "      <th>6</th>\n",
       "      <td>model_gboost</td>\n",
       "      <td>2.696910e-05</td>\n",
       "      <td>0.290106</td>\n",
       "    </tr>\n",
       "    <tr>\n",
       "      <th>7</th>\n",
       "      <td>model_linreg</td>\n",
       "      <td>5.815951e-07</td>\n",
       "      <td>0.303110</td>\n",
       "    </tr>\n",
       "  </tbody>\n",
       "</table>\n",
       "</div>"
      ],
      "text/plain": [
       "           model      Training   Testing\n",
       "0      model_lgb  2.795385e-01  0.262556\n",
       "1    model_lasso  3.292317e-01  0.268255\n",
       "2  model_elastic  3.292317e-01  0.268255\n",
       "3       model_rf  2.250612e-01  0.269959\n",
       "4       model_dt  2.831824e-01  0.270733\n",
       "5      model_xgb  7.599728e-02  0.276801\n",
       "6   model_gboost  2.696910e-05  0.290106\n",
       "7   model_linreg  5.815951e-07  0.303110"
      ]
     },
     "execution_count": 146,
     "metadata": {},
     "output_type": "execute_result"
    }
   ],
   "source": [
    "# Melihat performa tuning berdasarkan MAE\n",
    "grid_mae_urut"
   ]
  },
  {
   "cell_type": "code",
   "execution_count": 147,
   "id": "ba21487c-2eba-4fdf-802c-6b8dbe6ad9ca",
   "metadata": {},
   "outputs": [
    {
     "data": {
      "text/html": [
       "<div>\n",
       "<style scoped>\n",
       "    .dataframe tbody tr th:only-of-type {\n",
       "        vertical-align: middle;\n",
       "    }\n",
       "\n",
       "    .dataframe tbody tr th {\n",
       "        vertical-align: top;\n",
       "    }\n",
       "\n",
       "    .dataframe thead th {\n",
       "        text-align: right;\n",
       "    }\n",
       "</style>\n",
       "<table border=\"1\" class=\"dataframe\">\n",
       "  <thead>\n",
       "    <tr style=\"text-align: right;\">\n",
       "      <th></th>\n",
       "      <th>model</th>\n",
       "      <th>Training</th>\n",
       "      <th>Testing</th>\n",
       "    </tr>\n",
       "  </thead>\n",
       "  <tbody>\n",
       "    <tr>\n",
       "      <th>0</th>\n",
       "      <td>model_lgb</td>\n",
       "      <td>0.223211</td>\n",
       "      <td>0.027735</td>\n",
       "    </tr>\n",
       "    <tr>\n",
       "      <th>1</th>\n",
       "      <td>model_lasso</td>\n",
       "      <td>0.000000</td>\n",
       "      <td>-0.041363</td>\n",
       "    </tr>\n",
       "    <tr>\n",
       "      <th>2</th>\n",
       "      <td>model_elastic</td>\n",
       "      <td>0.000000</td>\n",
       "      <td>-0.041363</td>\n",
       "    </tr>\n",
       "    <tr>\n",
       "      <th>3</th>\n",
       "      <td>model_rf</td>\n",
       "      <td>0.473785</td>\n",
       "      <td>-0.043227</td>\n",
       "    </tr>\n",
       "    <tr>\n",
       "      <th>4</th>\n",
       "      <td>model_xgb</td>\n",
       "      <td>0.936196</td>\n",
       "      <td>-0.094861</td>\n",
       "    </tr>\n",
       "    <tr>\n",
       "      <th>5</th>\n",
       "      <td>model_dt</td>\n",
       "      <td>0.232411</td>\n",
       "      <td>-0.105875</td>\n",
       "    </tr>\n",
       "    <tr>\n",
       "      <th>6</th>\n",
       "      <td>model_gboost</td>\n",
       "      <td>1.000000</td>\n",
       "      <td>-0.525293</td>\n",
       "    </tr>\n",
       "    <tr>\n",
       "      <th>7</th>\n",
       "      <td>model_linreg</td>\n",
       "      <td>1.000000</td>\n",
       "      <td>-0.579852</td>\n",
       "    </tr>\n",
       "  </tbody>\n",
       "</table>\n",
       "</div>"
      ],
      "text/plain": [
       "           model  Training   Testing\n",
       "0      model_lgb  0.223211  0.027735\n",
       "1    model_lasso  0.000000 -0.041363\n",
       "2  model_elastic  0.000000 -0.041363\n",
       "3       model_rf  0.473785 -0.043227\n",
       "4      model_xgb  0.936196 -0.094861\n",
       "5       model_dt  0.232411 -0.105875\n",
       "6   model_gboost  1.000000 -0.525293\n",
       "7   model_linreg  1.000000 -0.579852"
      ]
     },
     "execution_count": 147,
     "metadata": {},
     "output_type": "execute_result"
    }
   ],
   "source": [
    "# Melihat performa tuning berdasarkan R2\n",
    "grid_r2_urut"
   ]
  },
  {
   "cell_type": "markdown",
   "id": "8e31cbc2-e4a7-463d-bbb1-b92e05a9eb6f",
   "metadata": {},
   "source": [
    "Dari model di atas dapat kita lihat bahwa model terbaik adalah menggunakan *Random Forest Regression*.\n",
    "\n",
    "Sekarang kita bisa menyimpam parameter dan estimator dari setiap model dalam format DataFrame."
   ]
  },
  {
   "cell_type": "code",
   "execution_count": 148,
   "id": "8d4089d4-1b75-47af-a592-4d3a0b800a7a",
   "metadata": {},
   "outputs": [
    {
     "data": {
      "text/html": [
       "<div>\n",
       "<style scoped>\n",
       "    .dataframe tbody tr th:only-of-type {\n",
       "        vertical-align: middle;\n",
       "    }\n",
       "\n",
       "    .dataframe tbody tr th {\n",
       "        vertical-align: top;\n",
       "    }\n",
       "\n",
       "    .dataframe thead th {\n",
       "        text-align: right;\n",
       "    }\n",
       "</style>\n",
       "<table border=\"1\" class=\"dataframe\">\n",
       "  <thead>\n",
       "    <tr style=\"text-align: right;\">\n",
       "      <th></th>\n",
       "      <th>model</th>\n",
       "      <th>Param</th>\n",
       "    </tr>\n",
       "  </thead>\n",
       "  <tbody>\n",
       "    <tr>\n",
       "      <th>0</th>\n",
       "      <td>model_linreg</td>\n",
       "      <td>{}</td>\n",
       "    </tr>\n",
       "    <tr>\n",
       "      <th>1</th>\n",
       "      <td>model_lasso</td>\n",
       "      <td>{'lasso__alpha': 0.03}</td>\n",
       "    </tr>\n",
       "    <tr>\n",
       "      <th>2</th>\n",
       "      <td>model_elastic</td>\n",
       "      <td>{'enet__alpha': 0.1, 'enet__l1_ratio': 0.5}</td>\n",
       "    </tr>\n",
       "    <tr>\n",
       "      <th>3</th>\n",
       "      <td>model_dt</td>\n",
       "      <td>{'dt__max_depth': 2, 'dt__min_samples_leaf': 1...</td>\n",
       "    </tr>\n",
       "    <tr>\n",
       "      <th>4</th>\n",
       "      <td>model_rf</td>\n",
       "      <td>{'rf__criterion': 'absolute_error', 'rf__min_s...</td>\n",
       "    </tr>\n",
       "    <tr>\n",
       "      <th>5</th>\n",
       "      <td>model_gboost</td>\n",
       "      <td>{'gboost__learning_rate': 0.75, 'gboost__max_d...</td>\n",
       "    </tr>\n",
       "    <tr>\n",
       "      <th>6</th>\n",
       "      <td>model_xgb</td>\n",
       "      <td>{'xgb__learning_rate': 0.01, 'xgb__n_estimator...</td>\n",
       "    </tr>\n",
       "    <tr>\n",
       "      <th>7</th>\n",
       "      <td>model_lgb</td>\n",
       "      <td>{'lgb__learning_rate': 0.01, 'lgb__n_estimator...</td>\n",
       "    </tr>\n",
       "  </tbody>\n",
       "</table>\n",
       "</div>"
      ],
      "text/plain": [
       "           model                                              Param\n",
       "0   model_linreg                                                 {}\n",
       "1    model_lasso                             {'lasso__alpha': 0.03}\n",
       "2  model_elastic        {'enet__alpha': 0.1, 'enet__l1_ratio': 0.5}\n",
       "3       model_dt  {'dt__max_depth': 2, 'dt__min_samples_leaf': 1...\n",
       "4       model_rf  {'rf__criterion': 'absolute_error', 'rf__min_s...\n",
       "5   model_gboost  {'gboost__learning_rate': 0.75, 'gboost__max_d...\n",
       "6      model_xgb  {'xgb__learning_rate': 0.01, 'xgb__n_estimator...\n",
       "7      model_lgb  {'lgb__learning_rate': 0.01, 'lgb__n_estimator..."
      ]
     },
     "execution_count": 148,
     "metadata": {},
     "output_type": "execute_result"
    }
   ],
   "source": [
    "# Parameter terbaik dari model terbaik\n",
    "grid_param = pd.DataFrame({'model':daftar_nama_model, 'Param':best_param})\n",
    "grid_param"
   ]
  },
  {
   "cell_type": "code",
   "execution_count": 164,
   "id": "e98284c2",
   "metadata": {},
   "outputs": [
    {
     "data": {
      "text/plain": [
       "{'lgb__learning_rate': 0.01, 'lgb__n_estimators': 200}"
      ]
     },
     "execution_count": 164,
     "metadata": {},
     "output_type": "execute_result"
    }
   ],
   "source": [
    "grid_param['Param'][7]"
   ]
  },
  {
   "cell_type": "code",
   "execution_count": 150,
   "id": "6dea0649-1c9b-48ad-a039-be6e3d545572",
   "metadata": {},
   "outputs": [
    {
     "data": {
      "text/html": [
       "<div>\n",
       "<style scoped>\n",
       "    .dataframe tbody tr th:only-of-type {\n",
       "        vertical-align: middle;\n",
       "    }\n",
       "\n",
       "    .dataframe tbody tr th {\n",
       "        vertical-align: top;\n",
       "    }\n",
       "\n",
       "    .dataframe thead th {\n",
       "        text-align: right;\n",
       "    }\n",
       "</style>\n",
       "<table border=\"1\" class=\"dataframe\">\n",
       "  <thead>\n",
       "    <tr style=\"text-align: right;\">\n",
       "      <th></th>\n",
       "      <th>model</th>\n",
       "      <th>Param</th>\n",
       "    </tr>\n",
       "  </thead>\n",
       "  <tbody>\n",
       "    <tr>\n",
       "      <th>0</th>\n",
       "      <td>model_linreg</td>\n",
       "      <td>(ColumnTransformer(transformers=[('preprocessi...</td>\n",
       "    </tr>\n",
       "    <tr>\n",
       "      <th>1</th>\n",
       "      <td>model_lasso</td>\n",
       "      <td>(ColumnTransformer(transformers=[('preprocessi...</td>\n",
       "    </tr>\n",
       "    <tr>\n",
       "      <th>2</th>\n",
       "      <td>model_elastic</td>\n",
       "      <td>(ColumnTransformer(transformers=[('preprocessi...</td>\n",
       "    </tr>\n",
       "    <tr>\n",
       "      <th>3</th>\n",
       "      <td>model_dt</td>\n",
       "      <td>(ColumnTransformer(transformers=[('preprocessi...</td>\n",
       "    </tr>\n",
       "    <tr>\n",
       "      <th>4</th>\n",
       "      <td>model_rf</td>\n",
       "      <td>(ColumnTransformer(transformers=[('preprocessi...</td>\n",
       "    </tr>\n",
       "    <tr>\n",
       "      <th>5</th>\n",
       "      <td>model_gboost</td>\n",
       "      <td>(ColumnTransformer(transformers=[('preprocessi...</td>\n",
       "    </tr>\n",
       "    <tr>\n",
       "      <th>6</th>\n",
       "      <td>model_xgb</td>\n",
       "      <td>(ColumnTransformer(transformers=[('preprocessi...</td>\n",
       "    </tr>\n",
       "    <tr>\n",
       "      <th>7</th>\n",
       "      <td>model_lgb</td>\n",
       "      <td>(ColumnTransformer(transformers=[('preprocessi...</td>\n",
       "    </tr>\n",
       "  </tbody>\n",
       "</table>\n",
       "</div>"
      ],
      "text/plain": [
       "           model                                              Param\n",
       "0   model_linreg  (ColumnTransformer(transformers=[('preprocessi...\n",
       "1    model_lasso  (ColumnTransformer(transformers=[('preprocessi...\n",
       "2  model_elastic  (ColumnTransformer(transformers=[('preprocessi...\n",
       "3       model_dt  (ColumnTransformer(transformers=[('preprocessi...\n",
       "4       model_rf  (ColumnTransformer(transformers=[('preprocessi...\n",
       "5   model_gboost  (ColumnTransformer(transformers=[('preprocessi...\n",
       "6      model_xgb  (ColumnTransformer(transformers=[('preprocessi...\n",
       "7      model_lgb  (ColumnTransformer(transformers=[('preprocessi..."
      ]
     },
     "execution_count": 150,
     "metadata": {},
     "output_type": "execute_result"
    }
   ],
   "source": [
    "# Estimator terbaik dari model terbaik\n",
    "grid_estimator = pd.DataFrame({'model':daftar_nama_model, 'Param':best_estimator})\n",
    "grid_estimator"
   ]
  },
  {
   "cell_type": "code",
   "execution_count": 151,
   "id": "13b261d7-be73-4502-b834-7f0f138d70b0",
   "metadata": {},
   "outputs": [
    {
     "data": {
      "text/plain": [
       "{'lgb__learning_rate': 0.01, 'lgb__n_estimators': 200}"
      ]
     },
     "execution_count": 151,
     "metadata": {},
     "output_type": "execute_result"
    }
   ],
   "source": [
    "# Parameter terbaik LGB (model ke 7)\n",
    "grid_param['Param'][7]"
   ]
  },
  {
   "cell_type": "code",
   "execution_count": 165,
   "id": "fc677fad-4943-4367-848b-479a23bac5f8",
   "metadata": {},
   "outputs": [
    {
     "data": {
      "text/html": [
       "<style>#sk-container-id-8 {color: black;background-color: white;}#sk-container-id-8 pre{padding: 0;}#sk-container-id-8 div.sk-toggleable {background-color: white;}#sk-container-id-8 label.sk-toggleable__label {cursor: pointer;display: block;width: 100%;margin-bottom: 0;padding: 0.3em;box-sizing: border-box;text-align: center;}#sk-container-id-8 label.sk-toggleable__label-arrow:before {content: \"▸\";float: left;margin-right: 0.25em;color: #696969;}#sk-container-id-8 label.sk-toggleable__label-arrow:hover:before {color: black;}#sk-container-id-8 div.sk-estimator:hover label.sk-toggleable__label-arrow:before {color: black;}#sk-container-id-8 div.sk-toggleable__content {max-height: 0;max-width: 0;overflow: hidden;text-align: left;background-color: #f0f8ff;}#sk-container-id-8 div.sk-toggleable__content pre {margin: 0.2em;color: black;border-radius: 0.25em;background-color: #f0f8ff;}#sk-container-id-8 input.sk-toggleable__control:checked~div.sk-toggleable__content {max-height: 200px;max-width: 100%;overflow: auto;}#sk-container-id-8 input.sk-toggleable__control:checked~label.sk-toggleable__label-arrow:before {content: \"▾\";}#sk-container-id-8 div.sk-estimator input.sk-toggleable__control:checked~label.sk-toggleable__label {background-color: #d4ebff;}#sk-container-id-8 div.sk-label input.sk-toggleable__control:checked~label.sk-toggleable__label {background-color: #d4ebff;}#sk-container-id-8 input.sk-hidden--visually {border: 0;clip: rect(1px 1px 1px 1px);clip: rect(1px, 1px, 1px, 1px);height: 1px;margin: -1px;overflow: hidden;padding: 0;position: absolute;width: 1px;}#sk-container-id-8 div.sk-estimator {font-family: monospace;background-color: #f0f8ff;border: 1px dotted black;border-radius: 0.25em;box-sizing: border-box;margin-bottom: 0.5em;}#sk-container-id-8 div.sk-estimator:hover {background-color: #d4ebff;}#sk-container-id-8 div.sk-parallel-item::after {content: \"\";width: 100%;border-bottom: 1px solid gray;flex-grow: 1;}#sk-container-id-8 div.sk-label:hover label.sk-toggleable__label {background-color: #d4ebff;}#sk-container-id-8 div.sk-serial::before {content: \"\";position: absolute;border-left: 1px solid gray;box-sizing: border-box;top: 0;bottom: 0;left: 50%;z-index: 0;}#sk-container-id-8 div.sk-serial {display: flex;flex-direction: column;align-items: center;background-color: white;padding-right: 0.2em;padding-left: 0.2em;position: relative;}#sk-container-id-8 div.sk-item {position: relative;z-index: 1;}#sk-container-id-8 div.sk-parallel {display: flex;align-items: stretch;justify-content: center;background-color: white;position: relative;}#sk-container-id-8 div.sk-item::before, #sk-container-id-8 div.sk-parallel-item::before {content: \"\";position: absolute;border-left: 1px solid gray;box-sizing: border-box;top: 0;bottom: 0;left: 50%;z-index: -1;}#sk-container-id-8 div.sk-parallel-item {display: flex;flex-direction: column;z-index: 1;position: relative;background-color: white;}#sk-container-id-8 div.sk-parallel-item:first-child::after {align-self: flex-end;width: 50%;}#sk-container-id-8 div.sk-parallel-item:last-child::after {align-self: flex-start;width: 50%;}#sk-container-id-8 div.sk-parallel-item:only-child::after {width: 0;}#sk-container-id-8 div.sk-dashed-wrapped {border: 1px dashed gray;margin: 0 0.4em 0.5em 0.4em;box-sizing: border-box;padding-bottom: 0.4em;background-color: white;}#sk-container-id-8 div.sk-label label {font-family: monospace;font-weight: bold;display: inline-block;line-height: 1.2em;}#sk-container-id-8 div.sk-label-container {text-align: center;}#sk-container-id-8 div.sk-container {/* jupyter's `normalize.less` sets `[hidden] { display: none; }` but bootstrap.min.css set `[hidden] { display: none !important; }` so we also need the `!important` here to be able to override the default hidden behavior on the sphinx rendered scikit-learn.org. See: https://github.com/scikit-learn/scikit-learn/issues/21755 */display: inline-block !important;position: relative;}#sk-container-id-8 div.sk-text-repr-fallback {display: none;}</style><div id=\"sk-container-id-8\" class=\"sk-top-container\"><div class=\"sk-text-repr-fallback\"><pre>Pipeline(steps=[(&#x27;preprocessing&#x27;,\n",
       "                 ColumnTransformer(transformers=[(&#x27;preprocessing numerik&#x27;,\n",
       "                                                  Pipeline(steps=[(&#x27;imputasi&#x27;,\n",
       "                                                                   SimpleImputer(strategy=&#x27;median&#x27;)),\n",
       "                                                                  (&#x27;scaling&#x27;,\n",
       "                                                                   MinMaxScaler())]),\n",
       "                                                  [&#x27;co&#x27;, &#x27;co2&#x27;, &#x27;out_generator&#x27;,\n",
       "                                                   &#x27;sfc&#x27;, &#x27;eco_gas_out_temp&#x27;,\n",
       "                                                   &#x27;pa_flow&#x27;, &#x27;o2&#x27;, &#x27;fuel_temp&#x27;,\n",
       "                                                   &#x27;sa_flow&#x27;, &#x27;carbon&#x27;,\n",
       "                                                   &#x27;hydrogen&#x27;, &#x27;nitrogen&#x27;,\n",
       "                                                   &#x27;sulfur&#x27;, &#x27;ash&#x27;,\n",
       "                                                   &#x27;total_moisture&#x27;, &#x27;oxygen&#x27;,\n",
       "                                                   &#x27;surface_moisture&#x27;,\n",
       "                                                   &#x27;inherent_moisture&#x27;]),\n",
       "                                                 (&#x27;preprocessing kategori&#x27;,\n",
       "                                                  Pipeline(steps=[(&#x27;imputasi&#x27;,\n",
       "                                                                   SimpleImputer(fill_value=&#x27;missing&#x27;,\n",
       "                                                                                 strategy=&#x27;constant&#x27;)),\n",
       "                                                                  (&#x27;encoding&#x27;,\n",
       "                                                                   OneHotEncoder(drop=&#x27;first&#x27;,\n",
       "                                                                                 handle_unknown=&#x27;ignore&#x27;))]),\n",
       "                                                  [&#x27;nilai_kalor&#x27;])])),\n",
       "                (&#x27;lgb&#x27;,\n",
       "                 LGBMRegressor(learning_rate=0.01, n_estimators=200,\n",
       "                               random_state=0))])</pre><b>In a Jupyter environment, please rerun this cell to show the HTML representation or trust the notebook. <br />On GitHub, the HTML representation is unable to render, please try loading this page with nbviewer.org.</b></div><div class=\"sk-container\" hidden><div class=\"sk-item sk-dashed-wrapped\"><div class=\"sk-label-container\"><div class=\"sk-label sk-toggleable\"><input class=\"sk-toggleable__control sk-hidden--visually\" id=\"sk-estimator-id-64\" type=\"checkbox\" ><label for=\"sk-estimator-id-64\" class=\"sk-toggleable__label sk-toggleable__label-arrow\">Pipeline</label><div class=\"sk-toggleable__content\"><pre>Pipeline(steps=[(&#x27;preprocessing&#x27;,\n",
       "                 ColumnTransformer(transformers=[(&#x27;preprocessing numerik&#x27;,\n",
       "                                                  Pipeline(steps=[(&#x27;imputasi&#x27;,\n",
       "                                                                   SimpleImputer(strategy=&#x27;median&#x27;)),\n",
       "                                                                  (&#x27;scaling&#x27;,\n",
       "                                                                   MinMaxScaler())]),\n",
       "                                                  [&#x27;co&#x27;, &#x27;co2&#x27;, &#x27;out_generator&#x27;,\n",
       "                                                   &#x27;sfc&#x27;, &#x27;eco_gas_out_temp&#x27;,\n",
       "                                                   &#x27;pa_flow&#x27;, &#x27;o2&#x27;, &#x27;fuel_temp&#x27;,\n",
       "                                                   &#x27;sa_flow&#x27;, &#x27;carbon&#x27;,\n",
       "                                                   &#x27;hydrogen&#x27;, &#x27;nitrogen&#x27;,\n",
       "                                                   &#x27;sulfur&#x27;, &#x27;ash&#x27;,\n",
       "                                                   &#x27;total_moisture&#x27;, &#x27;oxygen&#x27;,\n",
       "                                                   &#x27;surface_moisture&#x27;,\n",
       "                                                   &#x27;inherent_moisture&#x27;]),\n",
       "                                                 (&#x27;preprocessing kategori&#x27;,\n",
       "                                                  Pipeline(steps=[(&#x27;imputasi&#x27;,\n",
       "                                                                   SimpleImputer(fill_value=&#x27;missing&#x27;,\n",
       "                                                                                 strategy=&#x27;constant&#x27;)),\n",
       "                                                                  (&#x27;encoding&#x27;,\n",
       "                                                                   OneHotEncoder(drop=&#x27;first&#x27;,\n",
       "                                                                                 handle_unknown=&#x27;ignore&#x27;))]),\n",
       "                                                  [&#x27;nilai_kalor&#x27;])])),\n",
       "                (&#x27;lgb&#x27;,\n",
       "                 LGBMRegressor(learning_rate=0.01, n_estimators=200,\n",
       "                               random_state=0))])</pre></div></div></div><div class=\"sk-serial\"><div class=\"sk-item sk-dashed-wrapped\"><div class=\"sk-label-container\"><div class=\"sk-label sk-toggleable\"><input class=\"sk-toggleable__control sk-hidden--visually\" id=\"sk-estimator-id-65\" type=\"checkbox\" ><label for=\"sk-estimator-id-65\" class=\"sk-toggleable__label sk-toggleable__label-arrow\">preprocessing: ColumnTransformer</label><div class=\"sk-toggleable__content\"><pre>ColumnTransformer(transformers=[(&#x27;preprocessing numerik&#x27;,\n",
       "                                 Pipeline(steps=[(&#x27;imputasi&#x27;,\n",
       "                                                  SimpleImputer(strategy=&#x27;median&#x27;)),\n",
       "                                                 (&#x27;scaling&#x27;, MinMaxScaler())]),\n",
       "                                 [&#x27;co&#x27;, &#x27;co2&#x27;, &#x27;out_generator&#x27;, &#x27;sfc&#x27;,\n",
       "                                  &#x27;eco_gas_out_temp&#x27;, &#x27;pa_flow&#x27;, &#x27;o2&#x27;,\n",
       "                                  &#x27;fuel_temp&#x27;, &#x27;sa_flow&#x27;, &#x27;carbon&#x27;, &#x27;hydrogen&#x27;,\n",
       "                                  &#x27;nitrogen&#x27;, &#x27;sulfur&#x27;, &#x27;ash&#x27;, &#x27;total_moisture&#x27;,\n",
       "                                  &#x27;oxygen&#x27;, &#x27;surface_moisture&#x27;,\n",
       "                                  &#x27;inherent_moisture&#x27;]),\n",
       "                                (&#x27;preprocessing kategori&#x27;,\n",
       "                                 Pipeline(steps=[(&#x27;imputasi&#x27;,\n",
       "                                                  SimpleImputer(fill_value=&#x27;missing&#x27;,\n",
       "                                                                strategy=&#x27;constant&#x27;)),\n",
       "                                                 (&#x27;encoding&#x27;,\n",
       "                                                  OneHotEncoder(drop=&#x27;first&#x27;,\n",
       "                                                                handle_unknown=&#x27;ignore&#x27;))]),\n",
       "                                 [&#x27;nilai_kalor&#x27;])])</pre></div></div></div><div class=\"sk-parallel\"><div class=\"sk-parallel-item\"><div class=\"sk-item\"><div class=\"sk-label-container\"><div class=\"sk-label sk-toggleable\"><input class=\"sk-toggleable__control sk-hidden--visually\" id=\"sk-estimator-id-66\" type=\"checkbox\" ><label for=\"sk-estimator-id-66\" class=\"sk-toggleable__label sk-toggleable__label-arrow\">preprocessing numerik</label><div class=\"sk-toggleable__content\"><pre>[&#x27;co&#x27;, &#x27;co2&#x27;, &#x27;out_generator&#x27;, &#x27;sfc&#x27;, &#x27;eco_gas_out_temp&#x27;, &#x27;pa_flow&#x27;, &#x27;o2&#x27;, &#x27;fuel_temp&#x27;, &#x27;sa_flow&#x27;, &#x27;carbon&#x27;, &#x27;hydrogen&#x27;, &#x27;nitrogen&#x27;, &#x27;sulfur&#x27;, &#x27;ash&#x27;, &#x27;total_moisture&#x27;, &#x27;oxygen&#x27;, &#x27;surface_moisture&#x27;, &#x27;inherent_moisture&#x27;]</pre></div></div></div><div class=\"sk-serial\"><div class=\"sk-item\"><div class=\"sk-serial\"><div class=\"sk-item\"><div class=\"sk-estimator sk-toggleable\"><input class=\"sk-toggleable__control sk-hidden--visually\" id=\"sk-estimator-id-67\" type=\"checkbox\" ><label for=\"sk-estimator-id-67\" class=\"sk-toggleable__label sk-toggleable__label-arrow\">SimpleImputer</label><div class=\"sk-toggleable__content\"><pre>SimpleImputer(strategy=&#x27;median&#x27;)</pre></div></div></div><div class=\"sk-item\"><div class=\"sk-estimator sk-toggleable\"><input class=\"sk-toggleable__control sk-hidden--visually\" id=\"sk-estimator-id-68\" type=\"checkbox\" ><label for=\"sk-estimator-id-68\" class=\"sk-toggleable__label sk-toggleable__label-arrow\">MinMaxScaler</label><div class=\"sk-toggleable__content\"><pre>MinMaxScaler()</pre></div></div></div></div></div></div></div></div><div class=\"sk-parallel-item\"><div class=\"sk-item\"><div class=\"sk-label-container\"><div class=\"sk-label sk-toggleable\"><input class=\"sk-toggleable__control sk-hidden--visually\" id=\"sk-estimator-id-69\" type=\"checkbox\" ><label for=\"sk-estimator-id-69\" class=\"sk-toggleable__label sk-toggleable__label-arrow\">preprocessing kategori</label><div class=\"sk-toggleable__content\"><pre>[&#x27;nilai_kalor&#x27;]</pre></div></div></div><div class=\"sk-serial\"><div class=\"sk-item\"><div class=\"sk-serial\"><div class=\"sk-item\"><div class=\"sk-estimator sk-toggleable\"><input class=\"sk-toggleable__control sk-hidden--visually\" id=\"sk-estimator-id-70\" type=\"checkbox\" ><label for=\"sk-estimator-id-70\" class=\"sk-toggleable__label sk-toggleable__label-arrow\">SimpleImputer</label><div class=\"sk-toggleable__content\"><pre>SimpleImputer(fill_value=&#x27;missing&#x27;, strategy=&#x27;constant&#x27;)</pre></div></div></div><div class=\"sk-item\"><div class=\"sk-estimator sk-toggleable\"><input class=\"sk-toggleable__control sk-hidden--visually\" id=\"sk-estimator-id-71\" type=\"checkbox\" ><label for=\"sk-estimator-id-71\" class=\"sk-toggleable__label sk-toggleable__label-arrow\">OneHotEncoder</label><div class=\"sk-toggleable__content\"><pre>OneHotEncoder(drop=&#x27;first&#x27;, handle_unknown=&#x27;ignore&#x27;)</pre></div></div></div></div></div></div></div></div></div></div><div class=\"sk-item\"><div class=\"sk-estimator sk-toggleable\"><input class=\"sk-toggleable__control sk-hidden--visually\" id=\"sk-estimator-id-72\" type=\"checkbox\" ><label for=\"sk-estimator-id-72\" class=\"sk-toggleable__label sk-toggleable__label-arrow\">LGBMRegressor</label><div class=\"sk-toggleable__content\"><pre>LGBMRegressor(learning_rate=0.01, n_estimators=200, random_state=0)</pre></div></div></div></div></div></div></div>"
      ],
      "text/plain": [
       "Pipeline(steps=[('preprocessing',\n",
       "                 ColumnTransformer(transformers=[('preprocessing numerik',\n",
       "                                                  Pipeline(steps=[('imputasi',\n",
       "                                                                   SimpleImputer(strategy='median')),\n",
       "                                                                  ('scaling',\n",
       "                                                                   MinMaxScaler())]),\n",
       "                                                  ['co', 'co2', 'out_generator',\n",
       "                                                   'sfc', 'eco_gas_out_temp',\n",
       "                                                   'pa_flow', 'o2', 'fuel_temp',\n",
       "                                                   'sa_flow', 'carbon',\n",
       "                                                   'hydrogen', 'nitrogen',\n",
       "                                                   'sulfur', 'ash',\n",
       "                                                   'total_moisture', 'oxygen',\n",
       "                                                   'surface_moisture',\n",
       "                                                   'inherent_moisture']),\n",
       "                                                 ('preprocessing kategori',\n",
       "                                                  Pipeline(steps=[('imputasi',\n",
       "                                                                   SimpleImputer(fill_value='missing',\n",
       "                                                                                 strategy='constant')),\n",
       "                                                                  ('encoding',\n",
       "                                                                   OneHotEncoder(drop='first',\n",
       "                                                                                 handle_unknown='ignore'))]),\n",
       "                                                  ['nilai_kalor'])])),\n",
       "                ('lgb',\n",
       "                 LGBMRegressor(learning_rate=0.01, n_estimators=200,\n",
       "                               random_state=0))])"
      ]
     },
     "execution_count": 165,
     "metadata": {},
     "output_type": "execute_result"
    }
   ],
   "source": [
    "# Estimator terbaik Random Forest Regression (model keempat)\n",
    "grid_estimator['Param'][7]"
   ]
  },
  {
   "cell_type": "code",
   "execution_count": 166,
   "id": "41614b2e-4213-4586-9816-8fd6d601d31d",
   "metadata": {},
   "outputs": [
    {
     "data": {
      "text/html": [
       "<div>\n",
       "<style scoped>\n",
       "    .dataframe tbody tr th:only-of-type {\n",
       "        vertical-align: middle;\n",
       "    }\n",
       "\n",
       "    .dataframe tbody tr th {\n",
       "        vertical-align: top;\n",
       "    }\n",
       "\n",
       "    .dataframe thead th {\n",
       "        text-align: right;\n",
       "    }\n",
       "</style>\n",
       "<table border=\"1\" class=\"dataframe\">\n",
       "  <thead>\n",
       "    <tr style=\"text-align: right;\">\n",
       "      <th></th>\n",
       "      <th>model</th>\n",
       "      <th>Param</th>\n",
       "      <th>Testing</th>\n",
       "    </tr>\n",
       "  </thead>\n",
       "  <tbody>\n",
       "    <tr>\n",
       "      <th>0</th>\n",
       "      <td>model_lgb</td>\n",
       "      <td>(ColumnTransformer(transformers=[('preprocessi...</td>\n",
       "      <td>0.027735</td>\n",
       "    </tr>\n",
       "    <tr>\n",
       "      <th>1</th>\n",
       "      <td>model_lasso</td>\n",
       "      <td>(ColumnTransformer(transformers=[('preprocessi...</td>\n",
       "      <td>-0.041363</td>\n",
       "    </tr>\n",
       "    <tr>\n",
       "      <th>2</th>\n",
       "      <td>model_elastic</td>\n",
       "      <td>(ColumnTransformer(transformers=[('preprocessi...</td>\n",
       "      <td>-0.041363</td>\n",
       "    </tr>\n",
       "    <tr>\n",
       "      <th>3</th>\n",
       "      <td>model_rf</td>\n",
       "      <td>(ColumnTransformer(transformers=[('preprocessi...</td>\n",
       "      <td>-0.043227</td>\n",
       "    </tr>\n",
       "    <tr>\n",
       "      <th>4</th>\n",
       "      <td>model_xgb</td>\n",
       "      <td>(ColumnTransformer(transformers=[('preprocessi...</td>\n",
       "      <td>-0.094861</td>\n",
       "    </tr>\n",
       "    <tr>\n",
       "      <th>5</th>\n",
       "      <td>model_dt</td>\n",
       "      <td>(ColumnTransformer(transformers=[('preprocessi...</td>\n",
       "      <td>-0.105875</td>\n",
       "    </tr>\n",
       "    <tr>\n",
       "      <th>6</th>\n",
       "      <td>model_gboost</td>\n",
       "      <td>(ColumnTransformer(transformers=[('preprocessi...</td>\n",
       "      <td>-0.525293</td>\n",
       "    </tr>\n",
       "    <tr>\n",
       "      <th>7</th>\n",
       "      <td>model_linreg</td>\n",
       "      <td>(ColumnTransformer(transformers=[('preprocessi...</td>\n",
       "      <td>-0.579852</td>\n",
       "    </tr>\n",
       "  </tbody>\n",
       "</table>\n",
       "</div>"
      ],
      "text/plain": [
       "           model                                              Param   Testing\n",
       "0      model_lgb  (ColumnTransformer(transformers=[('preprocessi...  0.027735\n",
       "1    model_lasso  (ColumnTransformer(transformers=[('preprocessi... -0.041363\n",
       "2  model_elastic  (ColumnTransformer(transformers=[('preprocessi... -0.041363\n",
       "3       model_rf  (ColumnTransformer(transformers=[('preprocessi... -0.043227\n",
       "4      model_xgb  (ColumnTransformer(transformers=[('preprocessi... -0.094861\n",
       "5       model_dt  (ColumnTransformer(transformers=[('preprocessi... -0.105875\n",
       "6   model_gboost  (ColumnTransformer(transformers=[('preprocessi... -0.525293\n",
       "7   model_linreg  (ColumnTransformer(transformers=[('preprocessi... -0.579852"
      ]
     },
     "execution_count": 166,
     "metadata": {},
     "output_type": "execute_result"
    }
   ],
   "source": [
    "# Kita gabungkan semua dan urutkan berdasarkan nilai R2 di test set sebagai 'model_best'\n",
    "model_best = pd.DataFrame({'model':daftar_nama_model, 'Param':best_estimator, 'Testing':r2_tuning_test})\n",
    "model_best = model_best.sort_values(by='Testing', ascending=False, ignore_index=True)\n",
    "model_best"
   ]
  },
  {
   "cell_type": "markdown",
   "id": "d0946632-eed2-493d-957d-588a32432204",
   "metadata": {},
   "source": [
    "<br>"
   ]
  },
  {
   "cell_type": "markdown",
   "id": "5bbcc7f3-aa9b-41c4-abb2-b6a65166e161",
   "metadata": {},
   "source": [
    "#### Menggunakan Model Terbaik"
   ]
  },
  {
   "cell_type": "markdown",
   "id": "04609065-ccb1-4c4d-80de-691bff399def",
   "metadata": {},
   "source": [
    "Sekarang kita bisa menggunakan modelnya dari <code>model_best</code>, di mana jika kita ingin memilih model terbaik maka pilih urutan pertama.\n",
    "\n",
    "Sehingga jika kita ingin menggunakan *Random Forest*, maka pilih <code>model_best['Param'][0]</code>."
   ]
  },
  {
   "cell_type": "markdown",
   "id": "8ad8f933-534d-4a46-ba2e-1eceef72be23",
   "metadata": {},
   "source": [
    "Sekarang kita harus melakukan *fitting* akhir di mana kita akan mentraining parameter dari model terbaik terhadap dataset utuh (gabungan *training set* dan *test set*)."
   ]
  },
  {
   "cell_type": "code",
   "execution_count": 167,
   "id": "f5dff324-99a7-4ef3-8d9f-8e5fc8e6833d",
   "metadata": {},
   "outputs": [
    {
     "data": {
      "text/html": [
       "<div>\n",
       "<style scoped>\n",
       "    .dataframe tbody tr th:only-of-type {\n",
       "        vertical-align: middle;\n",
       "    }\n",
       "\n",
       "    .dataframe tbody tr th {\n",
       "        vertical-align: top;\n",
       "    }\n",
       "\n",
       "    .dataframe thead th {\n",
       "        text-align: right;\n",
       "    }\n",
       "</style>\n",
       "<table border=\"1\" class=\"dataframe\">\n",
       "  <thead>\n",
       "    <tr style=\"text-align: right;\">\n",
       "      <th></th>\n",
       "      <th>unburn_carbon</th>\n",
       "      <th>nilai_kalor</th>\n",
       "      <th>co</th>\n",
       "      <th>co2</th>\n",
       "      <th>out_generator</th>\n",
       "      <th>sfc</th>\n",
       "      <th>eco_gas_out_temp</th>\n",
       "      <th>pa_flow</th>\n",
       "      <th>o2</th>\n",
       "      <th>fuel_temp</th>\n",
       "      <th>sa_flow</th>\n",
       "      <th>carbon</th>\n",
       "      <th>hydrogen</th>\n",
       "      <th>nitrogen</th>\n",
       "      <th>sulfur</th>\n",
       "      <th>ash</th>\n",
       "      <th>total_moisture</th>\n",
       "      <th>oxygen</th>\n",
       "      <th>surface_moisture</th>\n",
       "      <th>inherent_moisture</th>\n",
       "    </tr>\n",
       "  </thead>\n",
       "  <tbody>\n",
       "    <tr>\n",
       "      <th>1</th>\n",
       "      <td>1.5045</td>\n",
       "      <td>4739.94189</td>\n",
       "      <td>0.00000</td>\n",
       "      <td>13.250</td>\n",
       "      <td>620.713631</td>\n",
       "      <td>0.507914</td>\n",
       "      <td>375.683444</td>\n",
       "      <td>1016.945563</td>\n",
       "      <td>4.0975</td>\n",
       "      <td>60.332083</td>\n",
       "      <td>1408.914527</td>\n",
       "      <td>48.169496</td>\n",
       "      <td>3.481469</td>\n",
       "      <td>0.760060</td>\n",
       "      <td>0.432251</td>\n",
       "      <td>7.895477</td>\n",
       "      <td>27.330060</td>\n",
       "      <td>11.931188</td>\n",
       "      <td>10.932024</td>\n",
       "      <td>16.398036</td>\n",
       "    </tr>\n",
       "    <tr>\n",
       "      <th>3</th>\n",
       "      <td>0.9680</td>\n",
       "      <td>4599.993082</td>\n",
       "      <td>0.07570</td>\n",
       "      <td>13.275</td>\n",
       "      <td>632.613046</td>\n",
       "      <td>0.543439</td>\n",
       "      <td>356.020724</td>\n",
       "      <td>948.621111</td>\n",
       "      <td>4.3350</td>\n",
       "      <td>60.332083</td>\n",
       "      <td>1471.384697</td>\n",
       "      <td>48.348807</td>\n",
       "      <td>3.309546</td>\n",
       "      <td>0.671983</td>\n",
       "      <td>0.540600</td>\n",
       "      <td>7.817141</td>\n",
       "      <td>28.855547</td>\n",
       "      <td>10.456376</td>\n",
       "      <td>11.542219</td>\n",
       "      <td>17.313328</td>\n",
       "    </tr>\n",
       "    <tr>\n",
       "      <th>5</th>\n",
       "      <td>1.6795</td>\n",
       "      <td>4398</td>\n",
       "      <td>0.00015</td>\n",
       "      <td>15.625</td>\n",
       "      <td>NaN</td>\n",
       "      <td>NaN</td>\n",
       "      <td>361.808183</td>\n",
       "      <td>897.331199</td>\n",
       "      <td>3.3575</td>\n",
       "      <td>60.332083</td>\n",
       "      <td>1471.429447</td>\n",
       "      <td>50.770000</td>\n",
       "      <td>3.240000</td>\n",
       "      <td>0.570000</td>\n",
       "      <td>0.140000</td>\n",
       "      <td>2.940000</td>\n",
       "      <td>32.300000</td>\n",
       "      <td>10.040000</td>\n",
       "      <td>12.920000</td>\n",
       "      <td>19.380000</td>\n",
       "    </tr>\n",
       "    <tr>\n",
       "      <th>6</th>\n",
       "      <td>0.3195</td>\n",
       "      <td>3375.90205</td>\n",
       "      <td>0.00015</td>\n",
       "      <td>12.700</td>\n",
       "      <td>312.332833</td>\n",
       "      <td>0.647850</td>\n",
       "      <td>360.419045</td>\n",
       "      <td>730.391084</td>\n",
       "      <td>6.7300</td>\n",
       "      <td>60.332083</td>\n",
       "      <td>1179.142903</td>\n",
       "      <td>35.864958</td>\n",
       "      <td>4.043400</td>\n",
       "      <td>0.498686</td>\n",
       "      <td>0.276299</td>\n",
       "      <td>5.950537</td>\n",
       "      <td>32.610000</td>\n",
       "      <td>20.756120</td>\n",
       "      <td>13.044000</td>\n",
       "      <td>19.566000</td>\n",
       "    </tr>\n",
       "    <tr>\n",
       "      <th>7</th>\n",
       "      <td>0.1360</td>\n",
       "      <td>3677.49456</td>\n",
       "      <td>0.28690</td>\n",
       "      <td>17.650</td>\n",
       "      <td>487.335794</td>\n",
       "      <td>0.569324</td>\n",
       "      <td>335.432489</td>\n",
       "      <td>873.055673</td>\n",
       "      <td>1.4500</td>\n",
       "      <td>60.332083</td>\n",
       "      <td>1226.166930</td>\n",
       "      <td>39.115592</td>\n",
       "      <td>4.293008</td>\n",
       "      <td>0.615240</td>\n",
       "      <td>0.314456</td>\n",
       "      <td>4.450236</td>\n",
       "      <td>31.640000</td>\n",
       "      <td>19.571468</td>\n",
       "      <td>12.656000</td>\n",
       "      <td>18.984000</td>\n",
       "    </tr>\n",
       "  </tbody>\n",
       "</table>\n",
       "</div>"
      ],
      "text/plain": [
       "   unburn_carbon  nilai_kalor       co     co2  out_generator       sfc  \\\n",
       "1         1.5045   4739.94189  0.00000  13.250     620.713631  0.507914   \n",
       "3         0.9680  4599.993082  0.07570  13.275     632.613046  0.543439   \n",
       "5         1.6795         4398  0.00015  15.625            NaN       NaN   \n",
       "6         0.3195   3375.90205  0.00015  12.700     312.332833  0.647850   \n",
       "7         0.1360   3677.49456  0.28690  17.650     487.335794  0.569324   \n",
       "\n",
       "   eco_gas_out_temp      pa_flow      o2  fuel_temp      sa_flow     carbon  \\\n",
       "1        375.683444  1016.945563  4.0975  60.332083  1408.914527  48.169496   \n",
       "3        356.020724   948.621111  4.3350  60.332083  1471.384697  48.348807   \n",
       "5        361.808183   897.331199  3.3575  60.332083  1471.429447  50.770000   \n",
       "6        360.419045   730.391084  6.7300  60.332083  1179.142903  35.864958   \n",
       "7        335.432489   873.055673  1.4500  60.332083  1226.166930  39.115592   \n",
       "\n",
       "   hydrogen  nitrogen    sulfur       ash  total_moisture     oxygen  \\\n",
       "1  3.481469  0.760060  0.432251  7.895477       27.330060  11.931188   \n",
       "3  3.309546  0.671983  0.540600  7.817141       28.855547  10.456376   \n",
       "5  3.240000  0.570000  0.140000  2.940000       32.300000  10.040000   \n",
       "6  4.043400  0.498686  0.276299  5.950537       32.610000  20.756120   \n",
       "7  4.293008  0.615240  0.314456  4.450236       31.640000  19.571468   \n",
       "\n",
       "   surface_moisture  inherent_moisture  \n",
       "1         10.932024          16.398036  \n",
       "3         11.542219          17.313328  \n",
       "5         12.920000          19.380000  \n",
       "6         13.044000          19.566000  \n",
       "7         12.656000          18.984000  "
      ]
     },
     "execution_count": 167,
     "metadata": {},
     "output_type": "execute_result"
    }
   ],
   "source": [
    "# Kita cek dataset utuh df\n",
    "df.head()"
   ]
  },
  {
   "cell_type": "code",
   "execution_count": 170,
   "id": "4048f9e6-d275-4e04-ba42-10bfd74d4fe5",
   "metadata": {},
   "outputs": [],
   "source": [
    "# Kita bagi variabel independen dan dependen-nya\n",
    "X = df.iloc[:,:21]\n",
    "y = df.iloc[:,0]"
   ]
  },
  {
   "cell_type": "code",
   "execution_count": 171,
   "id": "cd96cd79-02f9-4a37-b560-f9c0586d8db1",
   "metadata": {},
   "outputs": [
    {
     "data": {
      "text/html": [
       "<div>\n",
       "<style scoped>\n",
       "    .dataframe tbody tr th:only-of-type {\n",
       "        vertical-align: middle;\n",
       "    }\n",
       "\n",
       "    .dataframe tbody tr th {\n",
       "        vertical-align: top;\n",
       "    }\n",
       "\n",
       "    .dataframe thead th {\n",
       "        text-align: right;\n",
       "    }\n",
       "</style>\n",
       "<table border=\"1\" class=\"dataframe\">\n",
       "  <thead>\n",
       "    <tr style=\"text-align: right;\">\n",
       "      <th></th>\n",
       "      <th>unburn_carbon</th>\n",
       "      <th>nilai_kalor</th>\n",
       "      <th>co</th>\n",
       "      <th>co2</th>\n",
       "      <th>out_generator</th>\n",
       "      <th>sfc</th>\n",
       "      <th>eco_gas_out_temp</th>\n",
       "      <th>pa_flow</th>\n",
       "      <th>o2</th>\n",
       "      <th>fuel_temp</th>\n",
       "      <th>sa_flow</th>\n",
       "      <th>carbon</th>\n",
       "      <th>hydrogen</th>\n",
       "      <th>nitrogen</th>\n",
       "      <th>sulfur</th>\n",
       "      <th>ash</th>\n",
       "      <th>total_moisture</th>\n",
       "      <th>oxygen</th>\n",
       "      <th>surface_moisture</th>\n",
       "      <th>inherent_moisture</th>\n",
       "    </tr>\n",
       "  </thead>\n",
       "  <tbody>\n",
       "    <tr>\n",
       "      <th>1</th>\n",
       "      <td>1.5045</td>\n",
       "      <td>4739.94189</td>\n",
       "      <td>0.00000</td>\n",
       "      <td>13.250</td>\n",
       "      <td>620.713631</td>\n",
       "      <td>0.507914</td>\n",
       "      <td>375.683444</td>\n",
       "      <td>1016.945563</td>\n",
       "      <td>4.0975</td>\n",
       "      <td>60.332083</td>\n",
       "      <td>1408.914527</td>\n",
       "      <td>48.169496</td>\n",
       "      <td>3.481469</td>\n",
       "      <td>0.760060</td>\n",
       "      <td>0.432251</td>\n",
       "      <td>7.895477</td>\n",
       "      <td>27.330060</td>\n",
       "      <td>11.931188</td>\n",
       "      <td>10.932024</td>\n",
       "      <td>16.398036</td>\n",
       "    </tr>\n",
       "    <tr>\n",
       "      <th>3</th>\n",
       "      <td>0.9680</td>\n",
       "      <td>4599.993082</td>\n",
       "      <td>0.07570</td>\n",
       "      <td>13.275</td>\n",
       "      <td>632.613046</td>\n",
       "      <td>0.543439</td>\n",
       "      <td>356.020724</td>\n",
       "      <td>948.621111</td>\n",
       "      <td>4.3350</td>\n",
       "      <td>60.332083</td>\n",
       "      <td>1471.384697</td>\n",
       "      <td>48.348807</td>\n",
       "      <td>3.309546</td>\n",
       "      <td>0.671983</td>\n",
       "      <td>0.540600</td>\n",
       "      <td>7.817141</td>\n",
       "      <td>28.855547</td>\n",
       "      <td>10.456376</td>\n",
       "      <td>11.542219</td>\n",
       "      <td>17.313328</td>\n",
       "    </tr>\n",
       "    <tr>\n",
       "      <th>5</th>\n",
       "      <td>1.6795</td>\n",
       "      <td>4398</td>\n",
       "      <td>0.00015</td>\n",
       "      <td>15.625</td>\n",
       "      <td>NaN</td>\n",
       "      <td>NaN</td>\n",
       "      <td>361.808183</td>\n",
       "      <td>897.331199</td>\n",
       "      <td>3.3575</td>\n",
       "      <td>60.332083</td>\n",
       "      <td>1471.429447</td>\n",
       "      <td>50.770000</td>\n",
       "      <td>3.240000</td>\n",
       "      <td>0.570000</td>\n",
       "      <td>0.140000</td>\n",
       "      <td>2.940000</td>\n",
       "      <td>32.300000</td>\n",
       "      <td>10.040000</td>\n",
       "      <td>12.920000</td>\n",
       "      <td>19.380000</td>\n",
       "    </tr>\n",
       "    <tr>\n",
       "      <th>6</th>\n",
       "      <td>0.3195</td>\n",
       "      <td>3375.90205</td>\n",
       "      <td>0.00015</td>\n",
       "      <td>12.700</td>\n",
       "      <td>312.332833</td>\n",
       "      <td>0.647850</td>\n",
       "      <td>360.419045</td>\n",
       "      <td>730.391084</td>\n",
       "      <td>6.7300</td>\n",
       "      <td>60.332083</td>\n",
       "      <td>1179.142903</td>\n",
       "      <td>35.864958</td>\n",
       "      <td>4.043400</td>\n",
       "      <td>0.498686</td>\n",
       "      <td>0.276299</td>\n",
       "      <td>5.950537</td>\n",
       "      <td>32.610000</td>\n",
       "      <td>20.756120</td>\n",
       "      <td>13.044000</td>\n",
       "      <td>19.566000</td>\n",
       "    </tr>\n",
       "    <tr>\n",
       "      <th>7</th>\n",
       "      <td>0.1360</td>\n",
       "      <td>3677.49456</td>\n",
       "      <td>0.28690</td>\n",
       "      <td>17.650</td>\n",
       "      <td>487.335794</td>\n",
       "      <td>0.569324</td>\n",
       "      <td>335.432489</td>\n",
       "      <td>873.055673</td>\n",
       "      <td>1.4500</td>\n",
       "      <td>60.332083</td>\n",
       "      <td>1226.166930</td>\n",
       "      <td>39.115592</td>\n",
       "      <td>4.293008</td>\n",
       "      <td>0.615240</td>\n",
       "      <td>0.314456</td>\n",
       "      <td>4.450236</td>\n",
       "      <td>31.640000</td>\n",
       "      <td>19.571468</td>\n",
       "      <td>12.656000</td>\n",
       "      <td>18.984000</td>\n",
       "    </tr>\n",
       "  </tbody>\n",
       "</table>\n",
       "</div>"
      ],
      "text/plain": [
       "   unburn_carbon  nilai_kalor       co     co2  out_generator       sfc  \\\n",
       "1         1.5045   4739.94189  0.00000  13.250     620.713631  0.507914   \n",
       "3         0.9680  4599.993082  0.07570  13.275     632.613046  0.543439   \n",
       "5         1.6795         4398  0.00015  15.625            NaN       NaN   \n",
       "6         0.3195   3375.90205  0.00015  12.700     312.332833  0.647850   \n",
       "7         0.1360   3677.49456  0.28690  17.650     487.335794  0.569324   \n",
       "\n",
       "   eco_gas_out_temp      pa_flow      o2  fuel_temp      sa_flow     carbon  \\\n",
       "1        375.683444  1016.945563  4.0975  60.332083  1408.914527  48.169496   \n",
       "3        356.020724   948.621111  4.3350  60.332083  1471.384697  48.348807   \n",
       "5        361.808183   897.331199  3.3575  60.332083  1471.429447  50.770000   \n",
       "6        360.419045   730.391084  6.7300  60.332083  1179.142903  35.864958   \n",
       "7        335.432489   873.055673  1.4500  60.332083  1226.166930  39.115592   \n",
       "\n",
       "   hydrogen  nitrogen    sulfur       ash  total_moisture     oxygen  \\\n",
       "1  3.481469  0.760060  0.432251  7.895477       27.330060  11.931188   \n",
       "3  3.309546  0.671983  0.540600  7.817141       28.855547  10.456376   \n",
       "5  3.240000  0.570000  0.140000  2.940000       32.300000  10.040000   \n",
       "6  4.043400  0.498686  0.276299  5.950537       32.610000  20.756120   \n",
       "7  4.293008  0.615240  0.314456  4.450236       31.640000  19.571468   \n",
       "\n",
       "   surface_moisture  inherent_moisture  \n",
       "1         10.932024          16.398036  \n",
       "3         11.542219          17.313328  \n",
       "5         12.920000          19.380000  \n",
       "6         13.044000          19.566000  \n",
       "7         12.656000          18.984000  "
      ]
     },
     "execution_count": 171,
     "metadata": {},
     "output_type": "execute_result"
    }
   ],
   "source": [
    "# Melihat variabel independen X\n",
    "X.head()"
   ]
  },
  {
   "cell_type": "code",
   "execution_count": 172,
   "id": "30a6f030-72c2-4ecc-8a69-66792deb71fe",
   "metadata": {},
   "outputs": [
    {
     "data": {
      "text/plain": [
       "1    1.5045\n",
       "3    0.9680\n",
       "5    1.6795\n",
       "6    0.3195\n",
       "7    0.1360\n",
       "Name: unburn_carbon, dtype: float64"
      ]
     },
     "execution_count": 172,
     "metadata": {},
     "output_type": "execute_result"
    }
   ],
   "source": [
    "# Melihat variabel dependen y\n",
    "y.head()"
   ]
  },
  {
   "cell_type": "markdown",
   "id": "fc7199ec-e5b0-4390-8fe4-65b28a096040",
   "metadata": {},
   "source": [
    "<br>"
   ]
  },
  {
   "cell_type": "markdown",
   "id": "e608c316-7a19-4dec-83b8-7b978bf5f068",
   "metadata": {},
   "source": [
    "#### Training Ulang Model Akhir Dengan Dataset Utuh"
   ]
  },
  {
   "cell_type": "code",
   "execution_count": 173,
   "id": "3d2a5b75-6b85-4821-8f91-ed39f76b8857",
   "metadata": {},
   "outputs": [],
   "source": [
    "# Fitting ke dataset utuh\n",
    "model_final = model_best['Param'][0].fit(X,y)"
   ]
  },
  {
   "cell_type": "markdown",
   "id": "d9fb209a-7862-4b74-85df-13fb23933d72",
   "metadata": {},
   "source": [
    "Sekarang kita memiliki model akhir (`model_final`) yang sudah di*fitting* ke dataset utuh. \n",
    "\n",
    "Kita coba gunakan model akhir ini untuk memprediksi X_train dan X_test."
   ]
  },
  {
   "cell_type": "code",
   "execution_count": 174,
   "id": "a6f711e6-1389-493f-8d07-e97fe3aa6da8",
   "metadata": {},
   "outputs": [
    {
     "data": {
      "text/html": [
       "<style>#sk-container-id-9 {color: black;background-color: white;}#sk-container-id-9 pre{padding: 0;}#sk-container-id-9 div.sk-toggleable {background-color: white;}#sk-container-id-9 label.sk-toggleable__label {cursor: pointer;display: block;width: 100%;margin-bottom: 0;padding: 0.3em;box-sizing: border-box;text-align: center;}#sk-container-id-9 label.sk-toggleable__label-arrow:before {content: \"▸\";float: left;margin-right: 0.25em;color: #696969;}#sk-container-id-9 label.sk-toggleable__label-arrow:hover:before {color: black;}#sk-container-id-9 div.sk-estimator:hover label.sk-toggleable__label-arrow:before {color: black;}#sk-container-id-9 div.sk-toggleable__content {max-height: 0;max-width: 0;overflow: hidden;text-align: left;background-color: #f0f8ff;}#sk-container-id-9 div.sk-toggleable__content pre {margin: 0.2em;color: black;border-radius: 0.25em;background-color: #f0f8ff;}#sk-container-id-9 input.sk-toggleable__control:checked~div.sk-toggleable__content {max-height: 200px;max-width: 100%;overflow: auto;}#sk-container-id-9 input.sk-toggleable__control:checked~label.sk-toggleable__label-arrow:before {content: \"▾\";}#sk-container-id-9 div.sk-estimator input.sk-toggleable__control:checked~label.sk-toggleable__label {background-color: #d4ebff;}#sk-container-id-9 div.sk-label input.sk-toggleable__control:checked~label.sk-toggleable__label {background-color: #d4ebff;}#sk-container-id-9 input.sk-hidden--visually {border: 0;clip: rect(1px 1px 1px 1px);clip: rect(1px, 1px, 1px, 1px);height: 1px;margin: -1px;overflow: hidden;padding: 0;position: absolute;width: 1px;}#sk-container-id-9 div.sk-estimator {font-family: monospace;background-color: #f0f8ff;border: 1px dotted black;border-radius: 0.25em;box-sizing: border-box;margin-bottom: 0.5em;}#sk-container-id-9 div.sk-estimator:hover {background-color: #d4ebff;}#sk-container-id-9 div.sk-parallel-item::after {content: \"\";width: 100%;border-bottom: 1px solid gray;flex-grow: 1;}#sk-container-id-9 div.sk-label:hover label.sk-toggleable__label {background-color: #d4ebff;}#sk-container-id-9 div.sk-serial::before {content: \"\";position: absolute;border-left: 1px solid gray;box-sizing: border-box;top: 0;bottom: 0;left: 50%;z-index: 0;}#sk-container-id-9 div.sk-serial {display: flex;flex-direction: column;align-items: center;background-color: white;padding-right: 0.2em;padding-left: 0.2em;position: relative;}#sk-container-id-9 div.sk-item {position: relative;z-index: 1;}#sk-container-id-9 div.sk-parallel {display: flex;align-items: stretch;justify-content: center;background-color: white;position: relative;}#sk-container-id-9 div.sk-item::before, #sk-container-id-9 div.sk-parallel-item::before {content: \"\";position: absolute;border-left: 1px solid gray;box-sizing: border-box;top: 0;bottom: 0;left: 50%;z-index: -1;}#sk-container-id-9 div.sk-parallel-item {display: flex;flex-direction: column;z-index: 1;position: relative;background-color: white;}#sk-container-id-9 div.sk-parallel-item:first-child::after {align-self: flex-end;width: 50%;}#sk-container-id-9 div.sk-parallel-item:last-child::after {align-self: flex-start;width: 50%;}#sk-container-id-9 div.sk-parallel-item:only-child::after {width: 0;}#sk-container-id-9 div.sk-dashed-wrapped {border: 1px dashed gray;margin: 0 0.4em 0.5em 0.4em;box-sizing: border-box;padding-bottom: 0.4em;background-color: white;}#sk-container-id-9 div.sk-label label {font-family: monospace;font-weight: bold;display: inline-block;line-height: 1.2em;}#sk-container-id-9 div.sk-label-container {text-align: center;}#sk-container-id-9 div.sk-container {/* jupyter's `normalize.less` sets `[hidden] { display: none; }` but bootstrap.min.css set `[hidden] { display: none !important; }` so we also need the `!important` here to be able to override the default hidden behavior on the sphinx rendered scikit-learn.org. See: https://github.com/scikit-learn/scikit-learn/issues/21755 */display: inline-block !important;position: relative;}#sk-container-id-9 div.sk-text-repr-fallback {display: none;}</style><div id=\"sk-container-id-9\" class=\"sk-top-container\"><div class=\"sk-text-repr-fallback\"><pre>Pipeline(steps=[(&#x27;preprocessing&#x27;,\n",
       "                 ColumnTransformer(transformers=[(&#x27;preprocessing numerik&#x27;,\n",
       "                                                  Pipeline(steps=[(&#x27;imputasi&#x27;,\n",
       "                                                                   SimpleImputer(strategy=&#x27;median&#x27;)),\n",
       "                                                                  (&#x27;scaling&#x27;,\n",
       "                                                                   MinMaxScaler())]),\n",
       "                                                  [&#x27;co&#x27;, &#x27;co2&#x27;, &#x27;out_generator&#x27;,\n",
       "                                                   &#x27;sfc&#x27;, &#x27;eco_gas_out_temp&#x27;,\n",
       "                                                   &#x27;pa_flow&#x27;, &#x27;o2&#x27;, &#x27;fuel_temp&#x27;,\n",
       "                                                   &#x27;sa_flow&#x27;, &#x27;carbon&#x27;,\n",
       "                                                   &#x27;hydrogen&#x27;, &#x27;nitrogen&#x27;,\n",
       "                                                   &#x27;sulfur&#x27;, &#x27;ash&#x27;,\n",
       "                                                   &#x27;total_moisture&#x27;, &#x27;oxygen&#x27;,\n",
       "                                                   &#x27;surface_moisture&#x27;,\n",
       "                                                   &#x27;inherent_moisture&#x27;]),\n",
       "                                                 (&#x27;preprocessing kategori&#x27;,\n",
       "                                                  Pipeline(steps=[(&#x27;imputasi&#x27;,\n",
       "                                                                   SimpleImputer(fill_value=&#x27;missing&#x27;,\n",
       "                                                                                 strategy=&#x27;constant&#x27;)),\n",
       "                                                                  (&#x27;encoding&#x27;,\n",
       "                                                                   OneHotEncoder(drop=&#x27;first&#x27;,\n",
       "                                                                                 handle_unknown=&#x27;ignore&#x27;))]),\n",
       "                                                  [&#x27;nilai_kalor&#x27;])])),\n",
       "                (&#x27;lgb&#x27;,\n",
       "                 LGBMRegressor(learning_rate=0.01, n_estimators=200,\n",
       "                               random_state=0))])</pre><b>In a Jupyter environment, please rerun this cell to show the HTML representation or trust the notebook. <br />On GitHub, the HTML representation is unable to render, please try loading this page with nbviewer.org.</b></div><div class=\"sk-container\" hidden><div class=\"sk-item sk-dashed-wrapped\"><div class=\"sk-label-container\"><div class=\"sk-label sk-toggleable\"><input class=\"sk-toggleable__control sk-hidden--visually\" id=\"sk-estimator-id-73\" type=\"checkbox\" ><label for=\"sk-estimator-id-73\" class=\"sk-toggleable__label sk-toggleable__label-arrow\">Pipeline</label><div class=\"sk-toggleable__content\"><pre>Pipeline(steps=[(&#x27;preprocessing&#x27;,\n",
       "                 ColumnTransformer(transformers=[(&#x27;preprocessing numerik&#x27;,\n",
       "                                                  Pipeline(steps=[(&#x27;imputasi&#x27;,\n",
       "                                                                   SimpleImputer(strategy=&#x27;median&#x27;)),\n",
       "                                                                  (&#x27;scaling&#x27;,\n",
       "                                                                   MinMaxScaler())]),\n",
       "                                                  [&#x27;co&#x27;, &#x27;co2&#x27;, &#x27;out_generator&#x27;,\n",
       "                                                   &#x27;sfc&#x27;, &#x27;eco_gas_out_temp&#x27;,\n",
       "                                                   &#x27;pa_flow&#x27;, &#x27;o2&#x27;, &#x27;fuel_temp&#x27;,\n",
       "                                                   &#x27;sa_flow&#x27;, &#x27;carbon&#x27;,\n",
       "                                                   &#x27;hydrogen&#x27;, &#x27;nitrogen&#x27;,\n",
       "                                                   &#x27;sulfur&#x27;, &#x27;ash&#x27;,\n",
       "                                                   &#x27;total_moisture&#x27;, &#x27;oxygen&#x27;,\n",
       "                                                   &#x27;surface_moisture&#x27;,\n",
       "                                                   &#x27;inherent_moisture&#x27;]),\n",
       "                                                 (&#x27;preprocessing kategori&#x27;,\n",
       "                                                  Pipeline(steps=[(&#x27;imputasi&#x27;,\n",
       "                                                                   SimpleImputer(fill_value=&#x27;missing&#x27;,\n",
       "                                                                                 strategy=&#x27;constant&#x27;)),\n",
       "                                                                  (&#x27;encoding&#x27;,\n",
       "                                                                   OneHotEncoder(drop=&#x27;first&#x27;,\n",
       "                                                                                 handle_unknown=&#x27;ignore&#x27;))]),\n",
       "                                                  [&#x27;nilai_kalor&#x27;])])),\n",
       "                (&#x27;lgb&#x27;,\n",
       "                 LGBMRegressor(learning_rate=0.01, n_estimators=200,\n",
       "                               random_state=0))])</pre></div></div></div><div class=\"sk-serial\"><div class=\"sk-item sk-dashed-wrapped\"><div class=\"sk-label-container\"><div class=\"sk-label sk-toggleable\"><input class=\"sk-toggleable__control sk-hidden--visually\" id=\"sk-estimator-id-74\" type=\"checkbox\" ><label for=\"sk-estimator-id-74\" class=\"sk-toggleable__label sk-toggleable__label-arrow\">preprocessing: ColumnTransformer</label><div class=\"sk-toggleable__content\"><pre>ColumnTransformer(transformers=[(&#x27;preprocessing numerik&#x27;,\n",
       "                                 Pipeline(steps=[(&#x27;imputasi&#x27;,\n",
       "                                                  SimpleImputer(strategy=&#x27;median&#x27;)),\n",
       "                                                 (&#x27;scaling&#x27;, MinMaxScaler())]),\n",
       "                                 [&#x27;co&#x27;, &#x27;co2&#x27;, &#x27;out_generator&#x27;, &#x27;sfc&#x27;,\n",
       "                                  &#x27;eco_gas_out_temp&#x27;, &#x27;pa_flow&#x27;, &#x27;o2&#x27;,\n",
       "                                  &#x27;fuel_temp&#x27;, &#x27;sa_flow&#x27;, &#x27;carbon&#x27;, &#x27;hydrogen&#x27;,\n",
       "                                  &#x27;nitrogen&#x27;, &#x27;sulfur&#x27;, &#x27;ash&#x27;, &#x27;total_moisture&#x27;,\n",
       "                                  &#x27;oxygen&#x27;, &#x27;surface_moisture&#x27;,\n",
       "                                  &#x27;inherent_moisture&#x27;]),\n",
       "                                (&#x27;preprocessing kategori&#x27;,\n",
       "                                 Pipeline(steps=[(&#x27;imputasi&#x27;,\n",
       "                                                  SimpleImputer(fill_value=&#x27;missing&#x27;,\n",
       "                                                                strategy=&#x27;constant&#x27;)),\n",
       "                                                 (&#x27;encoding&#x27;,\n",
       "                                                  OneHotEncoder(drop=&#x27;first&#x27;,\n",
       "                                                                handle_unknown=&#x27;ignore&#x27;))]),\n",
       "                                 [&#x27;nilai_kalor&#x27;])])</pre></div></div></div><div class=\"sk-parallel\"><div class=\"sk-parallel-item\"><div class=\"sk-item\"><div class=\"sk-label-container\"><div class=\"sk-label sk-toggleable\"><input class=\"sk-toggleable__control sk-hidden--visually\" id=\"sk-estimator-id-75\" type=\"checkbox\" ><label for=\"sk-estimator-id-75\" class=\"sk-toggleable__label sk-toggleable__label-arrow\">preprocessing numerik</label><div class=\"sk-toggleable__content\"><pre>[&#x27;co&#x27;, &#x27;co2&#x27;, &#x27;out_generator&#x27;, &#x27;sfc&#x27;, &#x27;eco_gas_out_temp&#x27;, &#x27;pa_flow&#x27;, &#x27;o2&#x27;, &#x27;fuel_temp&#x27;, &#x27;sa_flow&#x27;, &#x27;carbon&#x27;, &#x27;hydrogen&#x27;, &#x27;nitrogen&#x27;, &#x27;sulfur&#x27;, &#x27;ash&#x27;, &#x27;total_moisture&#x27;, &#x27;oxygen&#x27;, &#x27;surface_moisture&#x27;, &#x27;inherent_moisture&#x27;]</pre></div></div></div><div class=\"sk-serial\"><div class=\"sk-item\"><div class=\"sk-serial\"><div class=\"sk-item\"><div class=\"sk-estimator sk-toggleable\"><input class=\"sk-toggleable__control sk-hidden--visually\" id=\"sk-estimator-id-76\" type=\"checkbox\" ><label for=\"sk-estimator-id-76\" class=\"sk-toggleable__label sk-toggleable__label-arrow\">SimpleImputer</label><div class=\"sk-toggleable__content\"><pre>SimpleImputer(strategy=&#x27;median&#x27;)</pre></div></div></div><div class=\"sk-item\"><div class=\"sk-estimator sk-toggleable\"><input class=\"sk-toggleable__control sk-hidden--visually\" id=\"sk-estimator-id-77\" type=\"checkbox\" ><label for=\"sk-estimator-id-77\" class=\"sk-toggleable__label sk-toggleable__label-arrow\">MinMaxScaler</label><div class=\"sk-toggleable__content\"><pre>MinMaxScaler()</pre></div></div></div></div></div></div></div></div><div class=\"sk-parallel-item\"><div class=\"sk-item\"><div class=\"sk-label-container\"><div class=\"sk-label sk-toggleable\"><input class=\"sk-toggleable__control sk-hidden--visually\" id=\"sk-estimator-id-78\" type=\"checkbox\" ><label for=\"sk-estimator-id-78\" class=\"sk-toggleable__label sk-toggleable__label-arrow\">preprocessing kategori</label><div class=\"sk-toggleable__content\"><pre>[&#x27;nilai_kalor&#x27;]</pre></div></div></div><div class=\"sk-serial\"><div class=\"sk-item\"><div class=\"sk-serial\"><div class=\"sk-item\"><div class=\"sk-estimator sk-toggleable\"><input class=\"sk-toggleable__control sk-hidden--visually\" id=\"sk-estimator-id-79\" type=\"checkbox\" ><label for=\"sk-estimator-id-79\" class=\"sk-toggleable__label sk-toggleable__label-arrow\">SimpleImputer</label><div class=\"sk-toggleable__content\"><pre>SimpleImputer(fill_value=&#x27;missing&#x27;, strategy=&#x27;constant&#x27;)</pre></div></div></div><div class=\"sk-item\"><div class=\"sk-estimator sk-toggleable\"><input class=\"sk-toggleable__control sk-hidden--visually\" id=\"sk-estimator-id-80\" type=\"checkbox\" ><label for=\"sk-estimator-id-80\" class=\"sk-toggleable__label sk-toggleable__label-arrow\">OneHotEncoder</label><div class=\"sk-toggleable__content\"><pre>OneHotEncoder(drop=&#x27;first&#x27;, handle_unknown=&#x27;ignore&#x27;)</pre></div></div></div></div></div></div></div></div></div></div><div class=\"sk-item\"><div class=\"sk-estimator sk-toggleable\"><input class=\"sk-toggleable__control sk-hidden--visually\" id=\"sk-estimator-id-81\" type=\"checkbox\" ><label for=\"sk-estimator-id-81\" class=\"sk-toggleable__label sk-toggleable__label-arrow\">LGBMRegressor</label><div class=\"sk-toggleable__content\"><pre>LGBMRegressor(learning_rate=0.01, n_estimators=200, random_state=0)</pre></div></div></div></div></div></div></div>"
      ],
      "text/plain": [
       "Pipeline(steps=[('preprocessing',\n",
       "                 ColumnTransformer(transformers=[('preprocessing numerik',\n",
       "                                                  Pipeline(steps=[('imputasi',\n",
       "                                                                   SimpleImputer(strategy='median')),\n",
       "                                                                  ('scaling',\n",
       "                                                                   MinMaxScaler())]),\n",
       "                                                  ['co', 'co2', 'out_generator',\n",
       "                                                   'sfc', 'eco_gas_out_temp',\n",
       "                                                   'pa_flow', 'o2', 'fuel_temp',\n",
       "                                                   'sa_flow', 'carbon',\n",
       "                                                   'hydrogen', 'nitrogen',\n",
       "                                                   'sulfur', 'ash',\n",
       "                                                   'total_moisture', 'oxygen',\n",
       "                                                   'surface_moisture',\n",
       "                                                   'inherent_moisture']),\n",
       "                                                 ('preprocessing kategori',\n",
       "                                                  Pipeline(steps=[('imputasi',\n",
       "                                                                   SimpleImputer(fill_value='missing',\n",
       "                                                                                 strategy='constant')),\n",
       "                                                                  ('encoding',\n",
       "                                                                   OneHotEncoder(drop='first',\n",
       "                                                                                 handle_unknown='ignore'))]),\n",
       "                                                  ['nilai_kalor'])])),\n",
       "                ('lgb',\n",
       "                 LGBMRegressor(learning_rate=0.01, n_estimators=200,\n",
       "                               random_state=0))])"
      ]
     },
     "execution_count": 174,
     "metadata": {},
     "output_type": "execute_result"
    }
   ],
   "source": [
    "# Melihat spesifikasi model_final\n",
    "model_final"
   ]
  },
  {
   "cell_type": "code",
   "execution_count": 175,
   "id": "fb4125ff-77c0-4bf7-8309-e9f64665426a",
   "metadata": {
    "id": "EKUoGoJQCANh"
   },
   "outputs": [],
   "source": [
    "# Mencoba memprediksi training dan test set setelah fitting di training set, kemudian dikemas dalam format DataFrame\n",
    "pred_train = pd.DataFrame(model_final.predict(X_train), columns=['unburn_carbon'])\n",
    "pred_test = pd.DataFrame(model_final.predict(X_test), columns=['unburn_carbon'])"
   ]
  },
  {
   "cell_type": "code",
   "execution_count": 176,
   "id": "acbbba62-556e-490a-a008-5540aebadeff",
   "metadata": {},
   "outputs": [
    {
     "data": {
      "text/html": [
       "<div>\n",
       "<style scoped>\n",
       "    .dataframe tbody tr th:only-of-type {\n",
       "        vertical-align: middle;\n",
       "    }\n",
       "\n",
       "    .dataframe tbody tr th {\n",
       "        vertical-align: top;\n",
       "    }\n",
       "\n",
       "    .dataframe thead th {\n",
       "        text-align: right;\n",
       "    }\n",
       "</style>\n",
       "<table border=\"1\" class=\"dataframe\">\n",
       "  <thead>\n",
       "    <tr style=\"text-align: right;\">\n",
       "      <th></th>\n",
       "      <th>Prediksi</th>\n",
       "      <th>Asli</th>\n",
       "      <th>Error</th>\n",
       "    </tr>\n",
       "  </thead>\n",
       "  <tbody>\n",
       "    <tr>\n",
       "      <th>0</th>\n",
       "      <td>0.647194</td>\n",
       "      <td>1.237</td>\n",
       "      <td>0.589806</td>\n",
       "    </tr>\n",
       "    <tr>\n",
       "      <th>1</th>\n",
       "      <td>0.458947</td>\n",
       "      <td>0.490</td>\n",
       "      <td>0.031053</td>\n",
       "    </tr>\n",
       "    <tr>\n",
       "      <th>2</th>\n",
       "      <td>0.369270</td>\n",
       "      <td>0.082</td>\n",
       "      <td>0.287270</td>\n",
       "    </tr>\n",
       "    <tr>\n",
       "      <th>3</th>\n",
       "      <td>0.519139</td>\n",
       "      <td>0.346</td>\n",
       "      <td>0.173139</td>\n",
       "    </tr>\n",
       "    <tr>\n",
       "      <th>4</th>\n",
       "      <td>0.381110</td>\n",
       "      <td>0.262</td>\n",
       "      <td>0.119110</td>\n",
       "    </tr>\n",
       "  </tbody>\n",
       "</table>\n",
       "</div>"
      ],
      "text/plain": [
       "   Prediksi   Asli     Error\n",
       "0  0.647194  1.237  0.589806\n",
       "1  0.458947  0.490  0.031053\n",
       "2  0.369270  0.082  0.287270\n",
       "3  0.519139  0.346  0.173139\n",
       "4  0.381110  0.262  0.119110"
      ]
     },
     "execution_count": 176,
     "metadata": {},
     "output_type": "execute_result"
    }
   ],
   "source": [
    "# Membandingkan 2 numpy array (kita gunakan np.column_stack untuk menggabungkan kedua array ini)\n",
    "banding_train = pd.DataFrame(np.column_stack((pred_train, pd.DataFrame(y_train), abs(pred_train - pd.DataFrame(y_train)))), columns=['Prediksi', 'Asli', 'Error'])\n",
    "banding_train.head()"
   ]
  },
  {
   "cell_type": "code",
   "execution_count": 177,
   "id": "6fb1e8d1-9666-4c47-8770-42a766117c33",
   "metadata": {},
   "outputs": [
    {
     "data": {
      "text/html": [
       "<div>\n",
       "<style scoped>\n",
       "    .dataframe tbody tr th:only-of-type {\n",
       "        vertical-align: middle;\n",
       "    }\n",
       "\n",
       "    .dataframe tbody tr th {\n",
       "        vertical-align: top;\n",
       "    }\n",
       "\n",
       "    .dataframe thead th {\n",
       "        text-align: right;\n",
       "    }\n",
       "</style>\n",
       "<table border=\"1\" class=\"dataframe\">\n",
       "  <thead>\n",
       "    <tr style=\"text-align: right;\">\n",
       "      <th></th>\n",
       "      <th>Prediksi</th>\n",
       "      <th>Asli</th>\n",
       "      <th>Error</th>\n",
       "    </tr>\n",
       "  </thead>\n",
       "  <tbody>\n",
       "    <tr>\n",
       "      <th>0</th>\n",
       "      <td>0.392636</td>\n",
       "      <td>0.124</td>\n",
       "      <td>0.268636</td>\n",
       "    </tr>\n",
       "    <tr>\n",
       "      <th>1</th>\n",
       "      <td>0.364200</td>\n",
       "      <td>0.262</td>\n",
       "      <td>0.102200</td>\n",
       "    </tr>\n",
       "    <tr>\n",
       "      <th>2</th>\n",
       "      <td>0.624166</td>\n",
       "      <td>1.055</td>\n",
       "      <td>0.430834</td>\n",
       "    </tr>\n",
       "    <tr>\n",
       "      <th>3</th>\n",
       "      <td>0.694917</td>\n",
       "      <td>1.065</td>\n",
       "      <td>0.370083</td>\n",
       "    </tr>\n",
       "    <tr>\n",
       "      <th>4</th>\n",
       "      <td>0.630442</td>\n",
       "      <td>0.490</td>\n",
       "      <td>0.140442</td>\n",
       "    </tr>\n",
       "  </tbody>\n",
       "</table>\n",
       "</div>"
      ],
      "text/plain": [
       "   Prediksi   Asli     Error\n",
       "0  0.392636  0.124  0.268636\n",
       "1  0.364200  0.262  0.102200\n",
       "2  0.624166  1.055  0.430834\n",
       "3  0.694917  1.065  0.370083\n",
       "4  0.630442  0.490  0.140442"
      ]
     },
     "execution_count": 177,
     "metadata": {},
     "output_type": "execute_result"
    }
   ],
   "source": [
    "# Membandingkan 2 numpy array (kita gunakan np.column_stack untuk menggabungkan kedua array ini)\n",
    "banding_test = pd.DataFrame(np.column_stack((pred_test, pd.DataFrame(y_test), abs(pred_test - pd.DataFrame(y_test)))), columns=['Prediksi', 'Asli', 'Error'])\n",
    "banding_test.head()"
   ]
  },
  {
   "cell_type": "code",
   "execution_count": 178,
   "id": "9ca29524-8e07-406b-8d54-7b72c9b11f90",
   "metadata": {},
   "outputs": [
    {
     "data": {
      "text/html": [
       "<div>\n",
       "<style scoped>\n",
       "    .dataframe tbody tr th:only-of-type {\n",
       "        vertical-align: middle;\n",
       "    }\n",
       "\n",
       "    .dataframe tbody tr th {\n",
       "        vertical-align: top;\n",
       "    }\n",
       "\n",
       "    .dataframe thead th {\n",
       "        text-align: right;\n",
       "    }\n",
       "</style>\n",
       "<table border=\"1\" class=\"dataframe\">\n",
       "  <thead>\n",
       "    <tr style=\"text-align: right;\">\n",
       "      <th></th>\n",
       "      <th>Prediksi</th>\n",
       "      <th>Asli</th>\n",
       "      <th>Error</th>\n",
       "    </tr>\n",
       "  </thead>\n",
       "  <tbody>\n",
       "    <tr>\n",
       "      <th>count</th>\n",
       "      <td>59.000000</td>\n",
       "      <td>59.000000</td>\n",
       "      <td>59.000000</td>\n",
       "    </tr>\n",
       "    <tr>\n",
       "      <th>mean</th>\n",
       "      <td>0.566345</td>\n",
       "      <td>0.552674</td>\n",
       "      <td>0.270836</td>\n",
       "    </tr>\n",
       "    <tr>\n",
       "      <th>std</th>\n",
       "      <td>0.121880</td>\n",
       "      <td>0.415950</td>\n",
       "      <td>0.211528</td>\n",
       "    </tr>\n",
       "    <tr>\n",
       "      <th>min</th>\n",
       "      <td>0.358409</td>\n",
       "      <td>0.026959</td>\n",
       "      <td>0.001823</td>\n",
       "    </tr>\n",
       "    <tr>\n",
       "      <th>25%</th>\n",
       "      <td>0.455209</td>\n",
       "      <td>0.236500</td>\n",
       "      <td>0.112949</td>\n",
       "    </tr>\n",
       "    <tr>\n",
       "      <th>50%</th>\n",
       "      <td>0.561421</td>\n",
       "      <td>0.490000</td>\n",
       "      <td>0.257965</td>\n",
       "    </tr>\n",
       "    <tr>\n",
       "      <th>75%</th>\n",
       "      <td>0.651424</td>\n",
       "      <td>0.788750</td>\n",
       "      <td>0.344810</td>\n",
       "    </tr>\n",
       "    <tr>\n",
       "      <th>max</th>\n",
       "      <td>0.813236</td>\n",
       "      <td>1.679500</td>\n",
       "      <td>0.930739</td>\n",
       "    </tr>\n",
       "  </tbody>\n",
       "</table>\n",
       "</div>"
      ],
      "text/plain": [
       "        Prediksi       Asli      Error\n",
       "count  59.000000  59.000000  59.000000\n",
       "mean    0.566345   0.552674   0.270836\n",
       "std     0.121880   0.415950   0.211528\n",
       "min     0.358409   0.026959   0.001823\n",
       "25%     0.455209   0.236500   0.112949\n",
       "50%     0.561421   0.490000   0.257965\n",
       "75%     0.651424   0.788750   0.344810\n",
       "max     0.813236   1.679500   0.930739"
      ]
     },
     "execution_count": 178,
     "metadata": {},
     "output_type": "execute_result"
    }
   ],
   "source": [
    "# Melihat error di training set setelah tuning\n",
    "banding_train.describe()"
   ]
  },
  {
   "cell_type": "code",
   "execution_count": 179,
   "id": "27ea2528-04d1-4347-a70f-b4636c3124a1",
   "metadata": {},
   "outputs": [
    {
     "data": {
      "text/html": [
       "<div>\n",
       "<style scoped>\n",
       "    .dataframe tbody tr th:only-of-type {\n",
       "        vertical-align: middle;\n",
       "    }\n",
       "\n",
       "    .dataframe tbody tr th {\n",
       "        vertical-align: top;\n",
       "    }\n",
       "\n",
       "    .dataframe thead th {\n",
       "        text-align: right;\n",
       "    }\n",
       "</style>\n",
       "<table border=\"1\" class=\"dataframe\">\n",
       "  <thead>\n",
       "    <tr style=\"text-align: right;\">\n",
       "      <th></th>\n",
       "      <th>Prediksi</th>\n",
       "      <th>Asli</th>\n",
       "      <th>Error</th>\n",
       "    </tr>\n",
       "  </thead>\n",
       "  <tbody>\n",
       "    <tr>\n",
       "      <th>count</th>\n",
       "      <td>15.000000</td>\n",
       "      <td>15.000000</td>\n",
       "      <td>15.000000</td>\n",
       "    </tr>\n",
       "    <tr>\n",
       "      <th>mean</th>\n",
       "      <td>0.560863</td>\n",
       "      <td>0.614633</td>\n",
       "      <td>0.222593</td>\n",
       "    </tr>\n",
       "    <tr>\n",
       "      <th>std</th>\n",
       "      <td>0.098657</td>\n",
       "      <td>0.315342</td>\n",
       "      <td>0.119799</td>\n",
       "    </tr>\n",
       "    <tr>\n",
       "      <th>min</th>\n",
       "      <td>0.364200</td>\n",
       "      <td>0.124000</td>\n",
       "      <td>0.005671</td>\n",
       "    </tr>\n",
       "    <tr>\n",
       "      <th>25%</th>\n",
       "      <td>0.523277</td>\n",
       "      <td>0.362250</td>\n",
       "      <td>0.144247</td>\n",
       "    </tr>\n",
       "    <tr>\n",
       "      <th>50%</th>\n",
       "      <td>0.567552</td>\n",
       "      <td>0.581000</td>\n",
       "      <td>0.224631</td>\n",
       "    </tr>\n",
       "    <tr>\n",
       "      <th>75%</th>\n",
       "      <td>0.627304</td>\n",
       "      <td>0.854500</td>\n",
       "      <td>0.305610</td>\n",
       "    </tr>\n",
       "    <tr>\n",
       "      <th>max</th>\n",
       "      <td>0.694917</td>\n",
       "      <td>1.065000</td>\n",
       "      <td>0.430834</td>\n",
       "    </tr>\n",
       "  </tbody>\n",
       "</table>\n",
       "</div>"
      ],
      "text/plain": [
       "        Prediksi       Asli      Error\n",
       "count  15.000000  15.000000  15.000000\n",
       "mean    0.560863   0.614633   0.222593\n",
       "std     0.098657   0.315342   0.119799\n",
       "min     0.364200   0.124000   0.005671\n",
       "25%     0.523277   0.362250   0.144247\n",
       "50%     0.567552   0.581000   0.224631\n",
       "75%     0.627304   0.854500   0.305610\n",
       "max     0.694917   1.065000   0.430834"
      ]
     },
     "execution_count": 179,
     "metadata": {},
     "output_type": "execute_result"
    }
   ],
   "source": [
    "# Melihat error di test set setelah tuning\n",
    "banding_test.describe()"
   ]
  },
  {
   "cell_type": "code",
   "execution_count": 180,
   "id": "0d62c9a1-7e6c-4122-9bc6-4c03902e88c2",
   "metadata": {
    "colab": {
     "base_uri": "https://localhost:8080/"
    },
    "executionInfo": {
     "elapsed": 12,
     "status": "ok",
     "timestamp": 1662620192800,
     "user": {
      "displayName": "Sonny Riadi",
      "userId": "09682652458583058181"
     },
     "user_tz": -420
    },
    "id": "LiR9S4emCANi",
    "outputId": "6b62b9d8-35f7-4b7d-834f-4d88a83820fc"
   },
   "outputs": [
    {
     "name": "stdout",
     "output_type": "stream",
     "text": [
      "Error train set 0.27\n",
      "Error test set 0.22\n"
     ]
    }
   ],
   "source": [
    "# Melihat skor MAE setelah tuning\n",
    "print(f'Error train set {mean_absolute_error(y_train, pred_train):.2f}')\n",
    "print(f'Error test set {mean_absolute_error(y_test, pred_test):.2f}')"
   ]
  },
  {
   "cell_type": "markdown",
   "id": "eb623133-5d6e-44ce-95c6-034fcd56f79e",
   "metadata": {},
   "source": [
    "Perlu diperhatikan bahwa skor MAE di atas adalah skor berdasarkan dataset utuh, baik di *training* maupun *test set* (bukan skor tiap *fold* di *cross validation*)."
   ]
  },
  {
   "cell_type": "code",
   "execution_count": null,
   "id": "d14d5fcc-7e7e-4885-af3c-454bae05ec30",
   "metadata": {},
   "outputs": [
    {
     "name": "stdout",
     "output_type": "stream",
     "text": [
      "R2 train set = 0.20\n",
      "R2 test set = 0.37\n"
     ]
    }
   ],
   "source": [
    "# Melihat skor R2 setelah tuning\n",
    "#print(f'R2 train set = {r2_score(y_train, pred_train):.2f}')\n",
    "#print(f'R2 test set = {r2_score(y_test, pred_test):.2f}')"
   ]
  },
  {
   "cell_type": "markdown",
   "id": "b3d0eb08-b037-4425-973d-6d3b65d54bbb",
   "metadata": {},
   "source": [
    "Ini merupakan skor R2 untuk semua dataset utuh di *training set* dan *test set*."
   ]
  },
  {
   "cell_type": "code",
   "execution_count": null,
   "id": "a86ae107-a837-45e2-ada3-7067422bdc61",
   "metadata": {},
   "outputs": [
    {
     "name": "stdout",
     "output_type": "stream",
     "text": [
      "0.2\n",
      "0.37\n"
     ]
    }
   ],
   "source": [
    "# Melihat R2 dengan menggunakan method 'score'\n",
    "#print(round(model_final.score(X_train, y_train),2))\n",
    "#print(round(model_final.score(X_test, y_test),2))"
   ]
  },
  {
   "cell_type": "markdown",
   "id": "fa7b3ff2-7353-4962-9152-ef58a3c5194f",
   "metadata": {},
   "source": [
    "<br>"
   ]
  },
  {
   "cell_type": "markdown",
   "id": "98315468-98c3-4519-adac-8e2f37dfc25d",
   "metadata": {},
   "source": [
    "#### Menyimpan Model"
   ]
  },
  {
   "cell_type": "markdown",
   "id": "013196d2-3a1b-4009-b05d-35b9f4a7d0b7",
   "metadata": {},
   "source": [
    "Sekarang kita akan menyimpan modelnya untuk nanti bisa dipakai dan di*deploy*."
   ]
  },
  {
   "cell_type": "code",
   "execution_count": 181,
   "id": "dfd91fbe-ad31-4255-9ca2-39a296303dfe",
   "metadata": {
    "id": "C8LvUKDBZmLj"
   },
   "outputs": [],
   "source": [
    "# Library untuk menyimpan model\n",
    "import pickle"
   ]
  },
  {
   "cell_type": "code",
   "execution_count": 182,
   "id": "5d1f61f8-69f9-47fe-b451-880219317bee",
   "metadata": {
    "id": "4T-aJPRRZcbn"
   },
   "outputs": [],
   "source": [
    "# Menyimpan model dengan nama 'model_regresi_terbaik.pkl'\n",
    "pickle.dump(model_final, open('model_lgb_terbaik.pkl', 'wb'))"
   ]
  },
  {
   "cell_type": "code",
   "execution_count": 183,
   "id": "411c91d2",
   "metadata": {},
   "outputs": [],
   "source": [
    "filename = 'unburn_carbon.sav'\n",
    "pickle.dump(model_final,open(filename, 'wb'))"
   ]
  },
  {
   "cell_type": "markdown",
   "id": "e5715215-7abc-4722-b436-fce8bb3e2800",
   "metadata": {},
   "source": [
    "Sekarang kita akan coba memprediksi X_test menggunakan model yang sudah kita simpan."
   ]
  },
  {
   "cell_type": "code",
   "execution_count": 184,
   "id": "3fe841e8-539c-453b-9ca6-96b797555a48",
   "metadata": {},
   "outputs": [],
   "source": [
    "# Load lagi model yang sudah disimpan dan buka sebagai 'best_model'\n",
    "best_model = pickle.load(open('model_lgb_terbaik.pkl', 'rb'))"
   ]
  },
  {
   "cell_type": "code",
   "execution_count": 185,
   "id": "2232ee73-43c4-4731-ad09-ceb87ec6703e",
   "metadata": {},
   "outputs": [
    {
     "data": {
      "text/plain": [
       "array([0.39263622, 0.36419977, 0.62416571, 0.69491706, 0.6304422 ,\n",
       "       0.45133555, 0.63715701, 0.56277877, 0.52741554, 0.54525441,\n",
       "       0.51913857, 0.58667077, 0.69491706, 0.61436887, 0.56755153])"
      ]
     },
     "execution_count": 185,
     "metadata": {},
     "output_type": "execute_result"
    }
   ],
   "source": [
    "# Mencoba melakukan prediksi X_test\n",
    "prediksi = best_model.predict(X_test)\n",
    "\n",
    "# Melihat hasil prediksi\n",
    "prediksi"
   ]
  },
  {
   "cell_type": "code",
   "execution_count": 186,
   "id": "627bbec2-2bc9-490b-87f7-c71851ba1329",
   "metadata": {},
   "outputs": [
    {
     "data": {
      "text/html": [
       "<div>\n",
       "<style scoped>\n",
       "    .dataframe tbody tr th:only-of-type {\n",
       "        vertical-align: middle;\n",
       "    }\n",
       "\n",
       "    .dataframe tbody tr th {\n",
       "        vertical-align: top;\n",
       "    }\n",
       "\n",
       "    .dataframe thead th {\n",
       "        text-align: right;\n",
       "    }\n",
       "</style>\n",
       "<table border=\"1\" class=\"dataframe\">\n",
       "  <thead>\n",
       "    <tr style=\"text-align: right;\">\n",
       "      <th></th>\n",
       "      <th>unburn_carbon</th>\n",
       "    </tr>\n",
       "  </thead>\n",
       "  <tbody>\n",
       "    <tr>\n",
       "      <th>0</th>\n",
       "      <td>0.392636</td>\n",
       "    </tr>\n",
       "    <tr>\n",
       "      <th>1</th>\n",
       "      <td>0.364200</td>\n",
       "    </tr>\n",
       "    <tr>\n",
       "      <th>2</th>\n",
       "      <td>0.624166</td>\n",
       "    </tr>\n",
       "    <tr>\n",
       "      <th>3</th>\n",
       "      <td>0.694917</td>\n",
       "    </tr>\n",
       "    <tr>\n",
       "      <th>4</th>\n",
       "      <td>0.630442</td>\n",
       "    </tr>\n",
       "    <tr>\n",
       "      <th>5</th>\n",
       "      <td>0.451336</td>\n",
       "    </tr>\n",
       "    <tr>\n",
       "      <th>6</th>\n",
       "      <td>0.637157</td>\n",
       "    </tr>\n",
       "    <tr>\n",
       "      <th>7</th>\n",
       "      <td>0.562779</td>\n",
       "    </tr>\n",
       "    <tr>\n",
       "      <th>8</th>\n",
       "      <td>0.527416</td>\n",
       "    </tr>\n",
       "    <tr>\n",
       "      <th>9</th>\n",
       "      <td>0.545254</td>\n",
       "    </tr>\n",
       "    <tr>\n",
       "      <th>10</th>\n",
       "      <td>0.519139</td>\n",
       "    </tr>\n",
       "    <tr>\n",
       "      <th>11</th>\n",
       "      <td>0.586671</td>\n",
       "    </tr>\n",
       "    <tr>\n",
       "      <th>12</th>\n",
       "      <td>0.694917</td>\n",
       "    </tr>\n",
       "    <tr>\n",
       "      <th>13</th>\n",
       "      <td>0.614369</td>\n",
       "    </tr>\n",
       "    <tr>\n",
       "      <th>14</th>\n",
       "      <td>0.567552</td>\n",
       "    </tr>\n",
       "  </tbody>\n",
       "</table>\n",
       "</div>"
      ],
      "text/plain": [
       "    unburn_carbon\n",
       "0        0.392636\n",
       "1        0.364200\n",
       "2        0.624166\n",
       "3        0.694917\n",
       "4        0.630442\n",
       "5        0.451336\n",
       "6        0.637157\n",
       "7        0.562779\n",
       "8        0.527416\n",
       "9        0.545254\n",
       "10       0.519139\n",
       "11       0.586671\n",
       "12       0.694917\n",
       "13       0.614369\n",
       "14       0.567552"
      ]
     },
     "execution_count": 186,
     "metadata": {},
     "output_type": "execute_result"
    }
   ],
   "source": [
    "# Merubah dalam format DataFrame\n",
    "prediksi = pd.DataFrame(prediksi, columns=['unburn_carbon'])\n",
    "prediksi"
   ]
  },
  {
   "cell_type": "markdown",
   "id": "d3d4ee18-ebdc-4eb6-b1c2-91dc08c573e4",
   "metadata": {},
   "source": [
    "Selamat! Anda sudah menyelesaikan modul Regresi.\n",
    "\n",
    "Sekarang saatnya lanjut ke pembelajaran berikutnya."
   ]
  }
 ],
 "metadata": {
  "kernelspec": {
   "display_name": "Python 3 (ipykernel)",
   "language": "python",
   "name": "python3"
  },
  "language_info": {
   "codemirror_mode": {
    "name": "ipython",
    "version": 3
   },
   "file_extension": ".py",
   "mimetype": "text/x-python",
   "name": "python",
   "nbconvert_exporter": "python",
   "pygments_lexer": "ipython3",
   "version": "3.11.3"
  }
 },
 "nbformat": 4,
 "nbformat_minor": 5
}
